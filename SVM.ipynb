{
 "cells": [
  {
   "cell_type": "code",
   "execution_count": 3,
   "metadata": {
    "collapsed": true
   },
   "outputs": [],
   "source": [
    "#SVM"
   ]
  },
  {
   "cell_type": "code",
   "execution_count": 4,
   "metadata": {
    "collapsed": true
   },
   "outputs": [],
   "source": [
    "import pandas as pd\n",
    "import numpy as np\n",
    "from sklearn.decomposition import PCA\n",
    "import matplotlib.pyplot as plt\n",
    "from sklearn.discriminant_analysis import LinearDiscriminantAnalysis\n",
    "from sklearn.neighbors import NearestNeighbors\n",
    "from sklearn import neighbors\n",
    "from sklearn.pipeline import make_pipeline\n",
    "from sklearn.model_selection import GroupKFold\n",
    "from sklearn.multiclass import OneVsOneClassifier\n",
    "from sklearn.model_selection import cross_val_score\n",
    "from sklearn.model_selection import cross_val_predict\n",
    "from sklearn import metrics\n",
    "from sklearn.svm import SVC\n",
    "from sklearn.model_selection import GridSearchCV"
   ]
  },
  {
   "cell_type": "code",
   "execution_count": 5,
   "metadata": {
    "collapsed": false
   },
   "outputs": [
    {
     "data": {
      "text/html": [
       "<div>\n",
       "<table border=\"1\" class=\"dataframe\">\n",
       "  <thead>\n",
       "    <tr style=\"text-align: right;\">\n",
       "      <th></th>\n",
       "      <th>MFCCs_ 1</th>\n",
       "      <th>MFCCs_ 2</th>\n",
       "      <th>MFCCs_ 3</th>\n",
       "      <th>MFCCs_ 4</th>\n",
       "      <th>MFCCs_ 5</th>\n",
       "      <th>MFCCs_ 6</th>\n",
       "      <th>MFCCs_ 7</th>\n",
       "      <th>MFCCs_ 8</th>\n",
       "      <th>MFCCs_ 9</th>\n",
       "      <th>MFCCs_10</th>\n",
       "      <th>...</th>\n",
       "      <th>MFCCs_17</th>\n",
       "      <th>MFCCs_18</th>\n",
       "      <th>MFCCs_19</th>\n",
       "      <th>MFCCs_20</th>\n",
       "      <th>MFCCs_21</th>\n",
       "      <th>MFCCs_22</th>\n",
       "      <th>Family</th>\n",
       "      <th>Genus</th>\n",
       "      <th>Species</th>\n",
       "      <th>RecordID</th>\n",
       "    </tr>\n",
       "  </thead>\n",
       "  <tbody>\n",
       "    <tr>\n",
       "      <th>0</th>\n",
       "      <td>1.0</td>\n",
       "      <td>0.152936</td>\n",
       "      <td>-0.105586</td>\n",
       "      <td>0.200722</td>\n",
       "      <td>0.317201</td>\n",
       "      <td>0.260764</td>\n",
       "      <td>0.100945</td>\n",
       "      <td>-0.150063</td>\n",
       "      <td>-0.171128</td>\n",
       "      <td>0.124676</td>\n",
       "      <td>...</td>\n",
       "      <td>-0.108351</td>\n",
       "      <td>-0.077623</td>\n",
       "      <td>-0.009568</td>\n",
       "      <td>0.057684</td>\n",
       "      <td>0.118680</td>\n",
       "      <td>0.014038</td>\n",
       "      <td>Leptodactylidae</td>\n",
       "      <td>Adenomera</td>\n",
       "      <td>AdenomeraAndre</td>\n",
       "      <td>1</td>\n",
       "    </tr>\n",
       "    <tr>\n",
       "      <th>1</th>\n",
       "      <td>1.0</td>\n",
       "      <td>0.171534</td>\n",
       "      <td>-0.098975</td>\n",
       "      <td>0.268425</td>\n",
       "      <td>0.338672</td>\n",
       "      <td>0.268353</td>\n",
       "      <td>0.060835</td>\n",
       "      <td>-0.222475</td>\n",
       "      <td>-0.207693</td>\n",
       "      <td>0.170883</td>\n",
       "      <td>...</td>\n",
       "      <td>-0.090974</td>\n",
       "      <td>-0.056510</td>\n",
       "      <td>-0.035303</td>\n",
       "      <td>0.020140</td>\n",
       "      <td>0.082263</td>\n",
       "      <td>0.029056</td>\n",
       "      <td>Leptodactylidae</td>\n",
       "      <td>Adenomera</td>\n",
       "      <td>AdenomeraAndre</td>\n",
       "      <td>1</td>\n",
       "    </tr>\n",
       "    <tr>\n",
       "      <th>2</th>\n",
       "      <td>1.0</td>\n",
       "      <td>0.152317</td>\n",
       "      <td>-0.082973</td>\n",
       "      <td>0.287128</td>\n",
       "      <td>0.276014</td>\n",
       "      <td>0.189867</td>\n",
       "      <td>0.008714</td>\n",
       "      <td>-0.242234</td>\n",
       "      <td>-0.219153</td>\n",
       "      <td>0.232538</td>\n",
       "      <td>...</td>\n",
       "      <td>-0.050691</td>\n",
       "      <td>-0.023590</td>\n",
       "      <td>-0.066722</td>\n",
       "      <td>-0.025083</td>\n",
       "      <td>0.099108</td>\n",
       "      <td>0.077162</td>\n",
       "      <td>Leptodactylidae</td>\n",
       "      <td>Adenomera</td>\n",
       "      <td>AdenomeraAndre</td>\n",
       "      <td>1</td>\n",
       "    </tr>\n",
       "    <tr>\n",
       "      <th>3</th>\n",
       "      <td>1.0</td>\n",
       "      <td>0.224392</td>\n",
       "      <td>0.118985</td>\n",
       "      <td>0.329432</td>\n",
       "      <td>0.372088</td>\n",
       "      <td>0.361005</td>\n",
       "      <td>0.015501</td>\n",
       "      <td>-0.194347</td>\n",
       "      <td>-0.098181</td>\n",
       "      <td>0.270375</td>\n",
       "      <td>...</td>\n",
       "      <td>-0.136009</td>\n",
       "      <td>-0.177037</td>\n",
       "      <td>-0.130498</td>\n",
       "      <td>-0.054766</td>\n",
       "      <td>-0.018691</td>\n",
       "      <td>0.023954</td>\n",
       "      <td>Leptodactylidae</td>\n",
       "      <td>Adenomera</td>\n",
       "      <td>AdenomeraAndre</td>\n",
       "      <td>1</td>\n",
       "    </tr>\n",
       "    <tr>\n",
       "      <th>4</th>\n",
       "      <td>1.0</td>\n",
       "      <td>0.087817</td>\n",
       "      <td>-0.068345</td>\n",
       "      <td>0.306967</td>\n",
       "      <td>0.330923</td>\n",
       "      <td>0.249144</td>\n",
       "      <td>0.006884</td>\n",
       "      <td>-0.265423</td>\n",
       "      <td>-0.172700</td>\n",
       "      <td>0.266434</td>\n",
       "      <td>...</td>\n",
       "      <td>-0.048885</td>\n",
       "      <td>-0.053074</td>\n",
       "      <td>-0.088550</td>\n",
       "      <td>-0.031346</td>\n",
       "      <td>0.108610</td>\n",
       "      <td>0.079244</td>\n",
       "      <td>Leptodactylidae</td>\n",
       "      <td>Adenomera</td>\n",
       "      <td>AdenomeraAndre</td>\n",
       "      <td>1</td>\n",
       "    </tr>\n",
       "  </tbody>\n",
       "</table>\n",
       "<p>5 rows × 26 columns</p>\n",
       "</div>"
      ],
      "text/plain": [
       "   MFCCs_ 1  MFCCs_ 2  MFCCs_ 3  MFCCs_ 4  MFCCs_ 5  MFCCs_ 6  MFCCs_ 7  \\\n",
       "0       1.0  0.152936 -0.105586  0.200722  0.317201  0.260764  0.100945   \n",
       "1       1.0  0.171534 -0.098975  0.268425  0.338672  0.268353  0.060835   \n",
       "2       1.0  0.152317 -0.082973  0.287128  0.276014  0.189867  0.008714   \n",
       "3       1.0  0.224392  0.118985  0.329432  0.372088  0.361005  0.015501   \n",
       "4       1.0  0.087817 -0.068345  0.306967  0.330923  0.249144  0.006884   \n",
       "\n",
       "   MFCCs_ 8  MFCCs_ 9  MFCCs_10    ...     MFCCs_17  MFCCs_18  MFCCs_19  \\\n",
       "0 -0.150063 -0.171128  0.124676    ...    -0.108351 -0.077623 -0.009568   \n",
       "1 -0.222475 -0.207693  0.170883    ...    -0.090974 -0.056510 -0.035303   \n",
       "2 -0.242234 -0.219153  0.232538    ...    -0.050691 -0.023590 -0.066722   \n",
       "3 -0.194347 -0.098181  0.270375    ...    -0.136009 -0.177037 -0.130498   \n",
       "4 -0.265423 -0.172700  0.266434    ...    -0.048885 -0.053074 -0.088550   \n",
       "\n",
       "   MFCCs_20  MFCCs_21  MFCCs_22           Family      Genus         Species  \\\n",
       "0  0.057684  0.118680  0.014038  Leptodactylidae  Adenomera  AdenomeraAndre   \n",
       "1  0.020140  0.082263  0.029056  Leptodactylidae  Adenomera  AdenomeraAndre   \n",
       "2 -0.025083  0.099108  0.077162  Leptodactylidae  Adenomera  AdenomeraAndre   \n",
       "3 -0.054766 -0.018691  0.023954  Leptodactylidae  Adenomera  AdenomeraAndre   \n",
       "4 -0.031346  0.108610  0.079244  Leptodactylidae  Adenomera  AdenomeraAndre   \n",
       "\n",
       "   RecordID  \n",
       "0         1  \n",
       "1         1  \n",
       "2         1  \n",
       "3         1  \n",
       "4         1  \n",
       "\n",
       "[5 rows x 26 columns]"
      ]
     },
     "execution_count": 5,
     "metadata": {},
     "output_type": "execute_result"
    }
   ],
   "source": [
    "data = pd.read_csv('C:/Users/zhanghui/Desktop/PROJECT/Frogs_MFCCs.csv')\n",
    "data.head(5)"
   ]
  },
  {
   "cell_type": "code",
   "execution_count": 6,
   "metadata": {
    "collapsed": false
   },
   "outputs": [
    {
     "data": {
      "text/plain": [
       "array(['Bufonidae', 'Dendrobatidae', 'Hylidae', 'Leptodactylidae'], dtype=object)"
      ]
     },
     "execution_count": 6,
     "metadata": {},
     "output_type": "execute_result"
    }
   ],
   "source": [
    "X_test = np.array(data.ix[:,:22])\n",
    "y_test = np.array(data['Family'])\n",
    "np.unique(y_test)"
   ]
  },
  {
   "cell_type": "code",
   "execution_count": null,
   "metadata": {
    "collapsed": true
   },
   "outputs": [],
   "source": []
  },
  {
   "cell_type": "code",
   "execution_count": 7,
   "metadata": {
    "collapsed": false
   },
   "outputs": [],
   "source": [
    "#crossvalidation\n",
    "groups = np.array(data['RecordID'])\n",
    "gkf = GroupKFold(n_splits=60)\n",
    "gkf.split(X_test, y_test, groups)\n",
    "\n",
    "#SVM on anural\n",
    "svr = SVC(probability=True, decision_function_shape='ovr')\n",
    "\n",
    "tuned_parameters = [{'kernel': ['rbf'], 'gamma': [1e-1, 1e-2, 1e-3, 1e-4, 1e-5],\n",
    "                     'C': [1, 10, 100, 1000]}, \n",
    "                    {'kernel': ['linear'], 'C': [1, 10, 100, 1000]}]\n",
    "\n",
    "clf = GridSearchCV(estimator=svr, \n",
    "                   param_grid=tuned_parameters, cv=list(gkf.split(X_test, y_test, groups)))\n",
    "\n",
    "clf.fit(X_test, y_test)\n",
    "\n",
    "predicted = cross_val_predict(clf.best_estimator_, \n",
    "                              X_test, \n",
    "                              y_test, \n",
    "                              cv=list(gkf.split(X_test, y_test, groups)))\n"
   ]
  },
  {
   "cell_type": "code",
   "execution_count": 8,
   "metadata": {
    "collapsed": false
   },
   "outputs": [
    {
     "data": {
      "text/plain": [
       "array(['Bufonidae', 'Dendrobatidae', 'Hylidae', 'Leptodactylidae'], dtype=object)"
      ]
     },
     "execution_count": 8,
     "metadata": {},
     "output_type": "execute_result"
    }
   ],
   "source": [
    "np.unique(y_test)"
   ]
  },
  {
   "cell_type": "code",
   "execution_count": 9,
   "metadata": {
    "collapsed": false
   },
   "outputs": [
    {
     "data": {
      "text/plain": [
       "(230, 49, 241, 3900, 4420)"
      ]
     },
     "execution_count": 9,
     "metadata": {},
     "output_type": "execute_result"
    }
   ],
   "source": [
    "#matrix on family level\n",
    "result = np.c_[y_test, predicted]\n",
    "\n",
    "Bufonidae = 0\n",
    "Dendrobatidae = 0\n",
    "Hylidae = 0\n",
    "Leptodactylidae = 0\n",
    "total = 0\n",
    "\n",
    "for i in range(len(y_test)):\n",
    "    if result[:, 0][i] == 'Leptodactylidae':\n",
    "        total += 1\n",
    "        if result[:, 1][i] == 'Bufonidae':\n",
    "            Bufonidae += 1\n",
    "        if result[:, 1][i] == 'Dendrobatidae':\n",
    "            Dendrobatidae += 1\n",
    "        if result[:, 1][i] == 'Hylidae':\n",
    "            Hylidae += 1\n",
    "        if result[:, 1][i] == 'Leptodactylidae':\n",
    "            Leptodactylidae += 1\n",
    "\n",
    "\n",
    "Bufonidae, Dendrobatidae, Hylidae, Leptodactylidae, total"
   ]
  },
  {
   "cell_type": "code",
   "execution_count": null,
   "metadata": {
    "collapsed": false
   },
   "outputs": [],
   "source": []
  },
  {
   "cell_type": "code",
   "execution_count": 14,
   "metadata": {
    "collapsed": false
   },
   "outputs": [
    {
     "name": "stdout",
     "output_type": "stream",
     "text": [
      "0.00321391512824\n",
      "0.022353292511\n",
      "0.873865133831\n",
      "0.10056765853\n",
      "0.851564341355\n",
      "0.455258438315\n",
      "2.97467943766\n",
      "1.71849778267\n"
     ]
    }
   ],
   "source": [
    "index = list()\n",
    "for i in range(len(predicted)):\n",
    "    if predicted[i] == 'Hylidae':\n",
    "        index.append(i)\n",
    "                \n",
    "for i in range(4):\n",
    "    print(clf.best_estimator_.predict_proba(X_test)[index,i].mean())\n",
    "    \n",
    "for i in range(4):\n",
    "    print(clf.best_estimator_.decision_function(X_test)[index,i].mean())"
   ]
  },
  {
   "cell_type": "code",
   "execution_count": 15,
   "metadata": {
    "collapsed": false
   },
   "outputs": [
    {
     "data": {
      "text/plain": [
       "(7195, 26)"
      ]
     },
     "execution_count": 15,
     "metadata": {},
     "output_type": "execute_result"
    }
   ],
   "source": [
    "data = np.array(data)\n",
    "data.shape"
   ]
  },
  {
   "cell_type": "code",
   "execution_count": 16,
   "metadata": {
    "collapsed": true
   },
   "outputs": [],
   "source": [
    "X_Leptodactylidae = list()\n",
    "for i in range(len(predicted)):\n",
    "    if predicted[i] == 'Leptodactylidae':\n",
    "        X_Leptodactylidae.append(data[i])        \n",
    "X_Leptodactylidae = np.array(X_Leptodactylidae)\n",
    "y_Leptodactylidae = np.array(X_Leptodactylidae[:,23])\n",
    "\n",
    "X_Dendrobatidae = list()\n",
    "for i in range(len(predicted)):\n",
    "    if predicted[i] == 'Dendrobatidae':\n",
    "        X_Dendrobatidae.append(data[i])        \n",
    "X_Dendrobatidae = np.array(X_Dendrobatidae)\n",
    "y_Dendrobatidae = np.array(X_Dendrobatidae[:,23])\n",
    "\n",
    "X_Hylidae = list()\n",
    "for i in range(len(predicted)):\n",
    "    if predicted[i] == 'Hylidae':\n",
    "        X_Hylidae.append(data[i])\n",
    "X_Hylidae = np.array(X_Hylidae)\n",
    "y_Hylidae = np.array(X_Hylidae[:,23])\n",
    "\n",
    "X_Bufonidae = list()\n",
    "for i in range(len(predicted)):\n",
    "    if predicted[i] == 'Bufonidae':\n",
    "        X_Bufonidae.append(data[i])        \n",
    "X_Bufonidae = np.array(X_Bufonidae)\n",
    "y_Bufonidae = np.array(X_Bufonidae[:,23])\n"
   ]
  },
  {
   "cell_type": "code",
   "execution_count": 18,
   "metadata": {
    "collapsed": false
   },
   "outputs": [
    {
     "name": "stdout",
     "output_type": "stream",
     "text": [
      "['Adenomera' 'Ameerega' 'Leptodactylus' 'Osteocephalus' 'Rhinella' 'Scinax']\n",
      "15\n"
     ]
    }
   ],
   "source": [
    "#data prepare\n",
    "print(np.unique(X_Bufonidae[:,23]))\n",
    "X_Bufonidae_test = X_Bufonidae[:,:22]\n",
    "\n",
    "#group prepare\n",
    "print(np.unique(X_Bufonidae[:,25]).size)\n",
    "groups_Bufonidae = np.array(X_Bufonidae[:,25])"
   ]
  },
  {
   "cell_type": "code",
   "execution_count": 20,
   "metadata": {
    "collapsed": false
   },
   "outputs": [],
   "source": [
    "#crossvalidation\n",
    "gkf = GroupKFold(n_splits=15)\n",
    "gkf.split(X_Bufonidae_test, y_Bufonidae, groups_Bufonidae)\n",
    "\n",
    "#SVM on genus family\n",
    "svr = SVC(probability=True,decision_function_shape='ovr')\n",
    "\n",
    "tuned_parameters = [{'kernel': ['rbf'], 'gamma': [1e-1, 1e-2, 1e-3, 1e-4, 1e-5],\n",
    "                     'C': [1, 10, 100, 1000]}, \n",
    "                    {'kernel': ['linear'], 'C': [1, 10, 100, 1000]}]\n",
    "\n",
    "clf = GridSearchCV(estimator=svr, \n",
    "                   param_grid=tuned_parameters, cv=list(gkf.split(X_Bufonidae_test, y_Bufonidae, groups_Bufonidae)))\n",
    "\n",
    "\n",
    "clf.fit(X_Bufonidae_test, y_Bufonidae)\n",
    "\n",
    "predicted_Bufonidae = cross_val_predict(clf.best_estimator_, \n",
    "                                        X_Bufonidae_test, \n",
    "                                        y_Bufonidae, \n",
    "                                        cv=list(gkf.split(X_Bufonidae_test, y_Bufonidae, groups_Bufonidae)))"
   ]
  },
  {
   "cell_type": "code",
   "execution_count": 23,
   "metadata": {
    "collapsed": false
   },
   "outputs": [
    {
     "name": "stdout",
     "output_type": "stream",
     "text": [
      "0.0459446906964\n",
      "0.527830053058\n",
      "0.0057380290927\n",
      "0.0463583072264\n",
      "0.312780047562\n",
      "0.0613488723644\n",
      "\n",
      "\n",
      "2.79689311425\n",
      "3.57827536504\n",
      "-0.130990978673\n",
      "2.7867378866\n",
      "4.53560403013\n",
      "1.43348058266\n"
     ]
    }
   ],
   "source": [
    "index = list()\n",
    "for i in range(len(predicted_Bufonidae)):\n",
    "    if predicted_Bufonidae[i] == 'Rhinella':\n",
    "        index.append(i)\n",
    "                \n",
    "for i in range(6):\n",
    "    print(clf.best_estimator_.predict_proba(X_Bufonidae_test)[index,i].mean())\n",
    "\n",
    "print('\\n')\n",
    "\n",
    "for i in range(6):\n",
    "    print(clf.best_estimator_.decision_function(X_Bufonidae_test)[index,i].mean())"
   ]
  },
  {
   "cell_type": "code",
   "execution_count": 24,
   "metadata": {
    "collapsed": false
   },
   "outputs": [
    {
     "data": {
      "text/plain": [
       "array(['Adenomera', 'Ameerega', 'Leptodactylus', 'Osteocephalus',\n",
       "       'Rhinella'], dtype=object)"
      ]
     },
     "execution_count": 24,
     "metadata": {},
     "output_type": "execute_result"
    }
   ],
   "source": [
    "np.unique(predicted_Bufonidae)"
   ]
  },
  {
   "cell_type": "code",
   "execution_count": 31,
   "metadata": {
    "collapsed": false
   },
   "outputs": [
    {
     "name": "stdout",
     "output_type": "stream",
     "text": [
      "['Adenomera' 'Ameerega' 'Dendropsophus' 'Hypsiboas' 'Leptodactylus'\n",
      " 'Osteocephalus' 'Rhinella' 'Scinax']\n",
      "46\n"
     ]
    }
   ],
   "source": [
    "#data prepare\n",
    "print(np.unique(X_Hylidae[:,23]))\n",
    "X_Hylidae_test = X_Hylidae[:,:22]\n",
    "\n",
    "#group prepare\n",
    "print(np.unique(X_Hylidae[:,25]).size)\n",
    "groups_Hylidae = np.array(X_Hylidae[:,25])"
   ]
  },
  {
   "cell_type": "code",
   "execution_count": 33,
   "metadata": {
    "collapsed": false
   },
   "outputs": [],
   "source": [
    "#crossvalidation\n",
    "gkf = GroupKFold(n_splits=46)\n",
    "gkf.split(X_Hylidae_test, y_Hylidae, groups_Hylidae)\n",
    "\n",
    "#SVM on genus family\n",
    "svr = SVC(probability=True,decision_function_shape='ovr')\n",
    "\n",
    "tuned_parameters = [{'kernel': ['rbf'], 'gamma': [1e-1, 1e-2, 1e-3, 1e-4, 1e-5],\n",
    "                     'C': [1, 10, 100, 1000]}, \n",
    "                    {'kernel': ['linear'], 'C': [1, 10, 100, 1000]}]\n",
    "\n",
    "clf = GridSearchCV(estimator=svr, \n",
    "                   param_grid=tuned_parameters, \n",
    "                   cv=list(gkf.split(X_Hylidae_test, \n",
    "                                     y_Hylidae, \n",
    "                                     groups_Hylidae)))\n",
    "\n",
    "\n",
    "clf.fit(X_Hylidae_test, y_Hylidae)\n",
    "\n",
    "predicted_Hylidae = cross_val_predict(clf.best_estimator_, \n",
    "                                        X_Hylidae_test, \n",
    "                                        y_Hylidae, \n",
    "                                        cv=list(gkf.split(X_Hylidae_test, y_Hylidae, groups_Hylidae)))\n"
   ]
  },
  {
   "cell_type": "code",
   "execution_count": 34,
   "metadata": {
    "collapsed": false
   },
   "outputs": [
    {
     "data": {
      "text/plain": [
       "(2321, 8)"
      ]
     },
     "execution_count": 34,
     "metadata": {},
     "output_type": "execute_result"
    }
   ],
   "source": [
    "clf.best_estimator_.decision_function(X_Hylidae_test).shape"
   ]
  },
  {
   "cell_type": "code",
   "execution_count": 38,
   "metadata": {
    "collapsed": false
   },
   "outputs": [
    {
     "name": "stdout",
     "output_type": "stream",
     "text": [
      "0.00436410480264\n",
      "0.00164159604705\n",
      "0.00403644995798\n",
      "0.952768072542\n",
      "0.0137022325494\n",
      "0.0166648366947\n",
      "0.000957549995405\n",
      "0.00586515741092\n",
      "\n",
      "\n",
      "3.38315564959\n",
      "3.10189143139\n",
      "2.4370085443\n",
      "7.15632378619\n",
      "3.03637811915\n",
      "3.60671610623\n",
      "1.19642547884\n",
      "4.0821008843\n"
     ]
    }
   ],
   "source": [
    "index = list()\n",
    "for i in range(len(predicted_Hylidae)):\n",
    "    if predicted_Hylidae[i] == 'Hypsiboas':\n",
    "        index.append(i)\n",
    "                \n",
    "for i in range(8):\n",
    "    print(clf.best_estimator_.predict_proba(X_Hylidae_test)[index,i].mean())\n",
    "\n",
    "print('\\n')\n",
    "\n",
    "for i in range(8):\n",
    "    print(clf.best_estimator_.decision_function(X_Hylidae_test)[index,i].mean())\n"
   ]
  },
  {
   "cell_type": "code",
   "execution_count": 39,
   "metadata": {
    "collapsed": false
   },
   "outputs": [
    {
     "name": "stdout",
     "output_type": "stream",
     "text": [
      "['Adenomera' 'Ameerega' 'Dendropsophus']\n",
      "13\n"
     ]
    }
   ],
   "source": [
    "#data prepare\n",
    "print(np.unique(X_Dendrobatidae[:,23]))\n",
    "X_Dendrobatidae_test = X_Dendrobatidae[:,:22]\n",
    "\n",
    "#group prepare\n",
    "print(np.unique(X_Dendrobatidae[:,25]).size)\n",
    "groups_Dendrobatidae = np.array(X_Dendrobatidae[:,25])"
   ]
  },
  {
   "cell_type": "code",
   "execution_count": 40,
   "metadata": {
    "collapsed": false
   },
   "outputs": [
    {
     "name": "stdout",
     "output_type": "stream",
     "text": [
      "0.144591896099\n",
      "0.809784362365\n",
      "0.0456237415367\n"
     ]
    }
   ],
   "source": [
    "#crossvalidation\n",
    "gkf = GroupKFold(n_splits=13)\n",
    "gkf.split(X_Dendrobatidae_test, y_Dendrobatidae, groups_Dendrobatidae)\n",
    "\n",
    "#SVM on genus family\n",
    "svr = SVC(probability=True,decision_function_shape='ovr')\n",
    "\n",
    "tuned_parameters = [{'kernel': ['rbf'], 'gamma': [1e-1, 1e-2, 1e-3, 1e-4, 1e-5],\n",
    "                     'C': [1, 10, 100, 1000]}, \n",
    "                    {'kernel': ['linear'], 'C': [1, 10, 100, 1000]}]\n",
    "\n",
    "clf = GridSearchCV(estimator=svr, \n",
    "                   param_grid=tuned_parameters, \n",
    "                   cv=list(gkf.split(X_Dendrobatidae_test, \n",
    "                                     y_Dendrobatidae, \n",
    "                                     groups_Dendrobatidae)))\n",
    "\n",
    "\n",
    "clf.fit(X_Dendrobatidae_test, y_Dendrobatidae)\n",
    "\n",
    "predicted_Dendrobatidae = cross_val_predict(clf.best_estimator_, \n",
    "                                        X_Dendrobatidae_test, \n",
    "                                        y_Dendrobatidae, \n",
    "                                        cv=list(gkf.split(X_Dendrobatidae_test, y_Dendrobatidae, groups_Dendrobatidae)))\n",
    "for i in range(3):\n",
    "    print(clf.best_estimator_.predict_proba(X_Dendrobatidae_test)[:,i].mean())"
   ]
  },
  {
   "cell_type": "code",
   "execution_count": 41,
   "metadata": {
    "collapsed": false
   },
   "outputs": [
    {
     "name": "stdout",
     "output_type": "stream",
     "text": [
      "0.144591896099\n",
      "0.809784362365\n",
      "0.0456237415367\n",
      "\n",
      "\n",
      "0.95998854101\n",
      "2.38163639054\n",
      "-0.341624931549\n"
     ]
    }
   ],
   "source": [
    "index = list()\n",
    "for i in range(len(predicted_Dendrobatidae)):\n",
    "    if predicted_Dendrobatidae[i] == 'Ameerega':\n",
    "        index.append(i)\n",
    "                \n",
    "for i in range(3):\n",
    "    print(clf.best_estimator_.predict_proba(X_Dendrobatidae_test)[index,i].mean())\n",
    "\n",
    "print('\\n')\n",
    "\n",
    "for i in range(3):\n",
    "    print(clf.best_estimator_.decision_function(X_Dendrobatidae_test)[index,i].mean())"
   ]
  },
  {
   "cell_type": "code",
   "execution_count": null,
   "metadata": {
    "collapsed": true
   },
   "outputs": [],
   "source": []
  },
  {
   "cell_type": "code",
   "execution_count": 43,
   "metadata": {
    "collapsed": false
   },
   "outputs": [
    {
     "name": "stdout",
     "output_type": "stream",
     "text": [
      "['Adenomera' 'Ameerega' 'Dendropsophus' 'Hypsiboas' 'Leptodactylus'\n",
      " 'Osteocephalus' 'Rhinella' 'Scinax']\n",
      "44\n"
     ]
    }
   ],
   "source": [
    "#data prepare\n",
    "print(np.unique(X_Leptodactylidae[:,23]))\n",
    "X_Leptodactylidae_test = X_Leptodactylidae[:,:22]\n",
    "\n",
    "#group prepare\n",
    "print(np.unique(X_Leptodactylidae[:,25]).size)\n",
    "groups_Leptodactylidae = np.array(X_Leptodactylidae[:,25])"
   ]
  },
  {
   "cell_type": "code",
   "execution_count": 44,
   "metadata": {
    "collapsed": false
   },
   "outputs": [
    {
     "name": "stdout",
     "output_type": "stream",
     "text": [
      "0.900529105248\n",
      "0.0229502755159\n",
      "0.0132595983418\n",
      "0.00896731962101\n",
      "0.0492216823979\n",
      "0.000637241822166\n",
      "0.00271000718612\n",
      "0.00172476986721\n"
     ]
    }
   ],
   "source": [
    "#crossvalidation\n",
    "gkf = GroupKFold(n_splits=44)\n",
    "gkf.split(X_Leptodactylidae_test, y_Leptodactylidae, groups_Leptodactylidae)\n",
    "\n",
    "#SVM on genus family\n",
    "svr = SVC(probability=True, decision_function_shape='ovr')\n",
    "\n",
    "tuned_parameters = [{'kernel': ['rbf'], 'gamma': [1e-1, 1e-2, 1e-3, 1e-4, 1e-5],\n",
    "                     'C': [1, 10, 100, 1000]}, \n",
    "                    {'kernel': ['linear'], 'C': [1, 10, 100, 1000]}]\n",
    "\n",
    "clf = GridSearchCV(estimator=svr, \n",
    "                   param_grid=tuned_parameters, \n",
    "                   cv=list(gkf.split(X_Leptodactylidae_test, \n",
    "                                     y_Leptodactylidae, \n",
    "                                     groups_Leptodactylidae)))\n",
    "\n",
    "\n",
    "clf.fit(X_Leptodactylidae_test, y_Leptodactylidae)\n",
    "\n",
    "predicted_Leptodactylidae = cross_val_predict(clf.best_estimator_, \n",
    "                                        X_Leptodactylidae_test, \n",
    "                                        y_Leptodactylidae, \n",
    "                                        cv=list(gkf.split(X_Leptodactylidae_test, y_Leptodactylidae, groups_Leptodactylidae)))\n",
    "\n",
    "for i in range(8):\n",
    "    print(clf.best_estimator_.predict_proba(X_Leptodactylidae_test)[:,i].mean())"
   ]
  },
  {
   "cell_type": "code",
   "execution_count": 46,
   "metadata": {
    "collapsed": false
   },
   "outputs": [
    {
     "name": "stdout",
     "output_type": "stream",
     "text": [
      "0.960484079807\n",
      "0.0217819516865\n",
      "0.0135426747666\n",
      "0.00192110760237\n",
      "0.000805264521927\n",
      "0.000320464815272\n",
      "0.000634438820293\n",
      "0.000510017980059\n",
      "\n",
      "\n",
      "7.37626399878\n",
      "3.49679796301\n",
      "6.09596040526\n",
      "4.0396927469\n",
      "4.58725604629\n",
      "-0.285062880869\n",
      "1.8560570863\n",
      "0.833034634327\n"
     ]
    }
   ],
   "source": [
    "index = list()\n",
    "for i in range(len(predicted_Leptodactylidae)):\n",
    "    if predicted_Leptodactylidae[i] == 'Adenomera':\n",
    "        index.append(i)\n",
    "                \n",
    "for i in range(8):\n",
    "    print(clf.best_estimator_.predict_proba(X_Leptodactylidae_test)[index,i].mean())\n",
    "\n",
    "print('\\n')\n",
    "\n",
    "for i in range(8):\n",
    "    print(clf.best_estimator_.decision_function(X_Leptodactylidae_test)[index,i].mean())"
   ]
  },
  {
   "cell_type": "code",
   "execution_count": 47,
   "metadata": {
    "collapsed": false
   },
   "outputs": [
    {
     "data": {
      "text/plain": [
       "array(['Adenomera', 'Ameerega', 'Leptodactylus', 'Osteocephalus',\n",
       "       'Rhinella'], dtype=object)"
      ]
     },
     "execution_count": 47,
     "metadata": {},
     "output_type": "execute_result"
    }
   ],
   "source": [
    "np.unique(predicted_Bufonidae)"
   ]
  },
  {
   "cell_type": "code",
   "execution_count": 48,
   "metadata": {
    "collapsed": false
   },
   "outputs": [
    {
     "data": {
      "text/plain": [
       "array(['Adenomera', 'Ameerega', 'Dendropsophus', 'Hypsiboas',\n",
       "       'Leptodactylus', 'Osteocephalus', 'Rhinella', 'Scinax'], dtype=object)"
      ]
     },
     "execution_count": 48,
     "metadata": {},
     "output_type": "execute_result"
    }
   ],
   "source": [
    "np.unique(predicted_Hylidae)"
   ]
  },
  {
   "cell_type": "code",
   "execution_count": 49,
   "metadata": {
    "collapsed": false
   },
   "outputs": [
    {
     "data": {
      "text/plain": [
       "array(['Ameerega'], dtype=object)"
      ]
     },
     "execution_count": 49,
     "metadata": {},
     "output_type": "execute_result"
    }
   ],
   "source": [
    "np.unique(predicted_Dendrobatidae)"
   ]
  },
  {
   "cell_type": "code",
   "execution_count": 50,
   "metadata": {
    "collapsed": false
   },
   "outputs": [
    {
     "data": {
      "text/plain": [
       "array(['Adenomera', 'Ameerega', 'Hypsiboas', 'Leptodactylus'], dtype=object)"
      ]
     },
     "execution_count": 50,
     "metadata": {},
     "output_type": "execute_result"
    }
   ],
   "source": [
    "np.unique(predicted_Leptodactylidae)"
   ]
  },
  {
   "cell_type": "code",
   "execution_count": 214,
   "metadata": {
    "collapsed": false
   },
   "outputs": [
    {
     "data": {
      "text/plain": [
       "(0, 49, 0, 0, 0, 0, 0, 0, 0)"
      ]
     },
     "execution_count": 214,
     "metadata": {},
     "output_type": "execute_result"
    }
   ],
   "source": [
    "#matrix on Genus level\n",
    "result_genus = np.c_[y_Dendrobatidae, predicted_Dendrobatidae]\n",
    "\n",
    "Adenomera = 0\n",
    "Ameerega = 0\n",
    "Dendropsophus = 0\n",
    "Hypsiboas = 0\n",
    "Leptodactylus = 0\n",
    "Osteocephalus = 0\n",
    "Rhinella = 0\n",
    "Scinax = 0\n",
    "total = 0\n",
    "\n",
    "for i in range(len(y_Dendrobatidae)):\n",
    "    if result_genus[:, 0][i] == 'Adenomera':\n",
    "        if result_genus[:, 1][i] == 'Adenomera':\n",
    "            Adenomera += 1\n",
    "        if result_genus[:, 1][i] == 'Ameerega':\n",
    "            Ameerega += 1\n",
    "        if result_genus[:, 1][i] == 'Dendropsophus':\n",
    "            Dendropsophus += 1\n",
    "        if result_genus[:, 1][i] == 'Hypsiboas':\n",
    "            Hypsiboas += 1\n",
    "        if result_genus[:, 1][i] == 'Leptodactylus':\n",
    "            Leptodactylus += 1\n",
    "        if result_genus[:, 1][i] == 'Osteocephalus':\n",
    "            Osteocephalus += 1\n",
    "        if result_genus[:, 1][i] == 'Rhinella':\n",
    "            Rhinella += 1\n",
    "        if result_genus[:, 1][i] == 'Scinax':\n",
    "            Scinax += 1\n",
    "\n",
    "Adenomera, Ameerega, Dendropsophus, Hypsiboas, Leptodactylus, Osteocephalus, Rhinella, Scinax, total"
   ]
  },
  {
   "cell_type": "code",
   "execution_count": null,
   "metadata": {
    "collapsed": true
   },
   "outputs": [],
   "source": []
  },
  {
   "cell_type": "code",
   "execution_count": 51,
   "metadata": {
    "collapsed": true
   },
   "outputs": [],
   "source": [
    "#To copy the data predicted to be Adenomera\n",
    "X_Adenomera = list()\n",
    "y_Adenomera = list()\n",
    "for i in range(len(predicted_Leptodactylidae)):\n",
    "    if predicted_Leptodactylidae[i] == 'Adenomera':\n",
    "        X_Adenomera.append(X_Leptodactylidae[i])\n",
    "        \n",
    "X_Adenomera = np.array(X_Adenomera)\n",
    "y_Adenomera = np.array(X_Adenomera[:,24])\n",
    "\n",
    "#To copy the data predicted to be Leptodactylus\n",
    "X_Leptodactylus = list()\n",
    "y_Leptodactylus = list()\n",
    "for i in range(len(predicted_Leptodactylidae)):\n",
    "    if predicted_Leptodactylidae[i] == 'Leptodactylus':\n",
    "        X_Leptodactylus.append(X_Leptodactylidae[i])\n",
    "        \n",
    "X_Leptodactylus = np.array(X_Leptodactylus)\n",
    "y_Leptodactylus = np.array(X_Leptodactylus[:,24])\n",
    "\n",
    "#To copy the data predicted to be Scinax \n",
    "X_Scinax  = list()\n",
    "y_Scinax  = list()\n",
    "for i in range(len(predicted_Hylidae )):\n",
    "    if predicted_Hylidae[i] == 'Scinax':\n",
    "        X_Scinax.append(X_Hylidae[i])\n",
    "\n",
    "        \n",
    "X_Scinax = np.array(X_Scinax)\n",
    "y_Scinax = np.array(X_Scinax[:,24])\n",
    "\n",
    "\n",
    "#To copy the data predicted to be Hypsiboas\n",
    "X_Hypsiboas = list()\n",
    "y_Hypsiboas = list()\n",
    "for i in range(len(predicted_Hylidae)):\n",
    "    if predicted_Hylidae[i] == 'Hypsiboas':\n",
    "        X_Hypsiboas.append(X_Hylidae[i])\n",
    "        \n",
    "X_Hypsiboas = np.array(X_Hypsiboas)\n",
    "y_Hypsiboas = np.array(X_Hypsiboas[:,24])\n",
    "\n",
    "\n",
    "#To copy the data predicted to be Osteocephalus\n",
    "X_Osteocephalus = list()\n",
    "y_Osteocephalus = list()\n",
    "for i in range(len(predicted_Hylidae)):\n",
    "    if predicted_Hylidae[i] == 'Osteocephalus':\n",
    "        X_Osteocephalus.append(X_Hylidae[i])\n",
    "        \n",
    "X_Osteocephalus = np.array(X_Osteocephalus)\n",
    "y_Osteocephalus = np.array(X_Osteocephalus[:,24])\n",
    "\n",
    "\n",
    "#To copy the data predicted to be Dendropsophus\n",
    "X_Dendropsophus = list()\n",
    "y_Dendropsophus = list()\n",
    "for i in range(len(predicted_Hylidae)):\n",
    "    if predicted_Hylidae[i] == 'Dendropsophus':\n",
    "        X_Dendropsophus.append(X_Hylidae[i])\n",
    "        \n",
    "X_Dendropsophus = np.array(X_Dendropsophus)\n",
    "y_Dendropsophus = np.array(X_Dendropsophus[:,24])\n",
    "\n",
    "\n",
    "#To copy the data predicted to be Rhinella\n",
    "X_Rhinella = list()\n",
    "y_Rhinella = list()\n",
    "for i in range(len(predicted_Bufonidae  )):\n",
    "    if predicted_Bufonidae  [i] == 'Rhinella':\n",
    "        X_Rhinella.append(X_Bufonidae[i])\n",
    "        \n",
    "X_Rhinella = np.array(X_Rhinella)\n",
    "y_Rhinella = np.array(X_Rhinella[:,24])\n",
    "\n",
    "\n",
    "#To copy the data predicted to be Ameerega\n",
    "X_Ameerega = list()\n",
    "y_Ameerega = list()\n",
    "for i in range(len(predicted_Dendrobatidae)):\n",
    "    if predicted_Dendrobatidae[i] == 'Ameerega':\n",
    "        X_Ameerega.append(X_Dendrobatidae[i])\n",
    "        \n",
    "X_Ameerega = np.array(X_Ameerega)\n",
    "y_Ameerega = np.array(X_Ameerega[:,24])"
   ]
  },
  {
   "cell_type": "code",
   "execution_count": 53,
   "metadata": {
    "collapsed": false
   },
   "outputs": [
    {
     "name": "stdout",
     "output_type": "stream",
     "text": [
      "['AdenomeraAndre' 'Ameeregatrivittata' 'HylaMinuta']\n",
      "13\n"
     ]
    }
   ],
   "source": [
    "#data prepare\n",
    "print(np.unique(X_Ameerega[:,24]))\n",
    "X_Ameerega_test = X_Ameerega[:,:22]\n",
    "\n",
    "#group prepare\n",
    "print(np.unique(X_Ameerega[:,25]).size)\n",
    "groups_Ameerega = np.array(X_Ameerega[:,25])"
   ]
  },
  {
   "cell_type": "code",
   "execution_count": 54,
   "metadata": {
    "collapsed": false
   },
   "outputs": [
    {
     "name": "stdout",
     "output_type": "stream",
     "text": [
      "0.144079409796\n",
      "0.808489891273\n",
      "0.0474306989307\n"
     ]
    }
   ],
   "source": [
    "#crossvalidation\n",
    "gkf = GroupKFold(n_splits=13)\n",
    "gkf.split(X_Ameerega_test, y_Ameerega, groups_Ameerega)\n",
    "\n",
    "#SVM on genus family\n",
    "svr = SVC(probability=True, decision_function_shape='ovr')\n",
    "\n",
    "tuned_parameters = [{'kernel': ['rbf'], 'gamma': [1e-1, 1e-2, 1e-3, 1e-4, 1e-5],\n",
    "                     'C': [1, 10, 100, 1000]}, \n",
    "                    {'kernel': ['linear'], 'C': [1, 10, 100, 1000]}]\n",
    "\n",
    "clf = GridSearchCV(estimator=svr, \n",
    "                   param_grid=tuned_parameters, \n",
    "                   cv=list(gkf.split(X_Ameerega_test, \n",
    "                                     y_Ameerega, \n",
    "                                     groups_Ameerega)))\n",
    "\n",
    "\n",
    "clf.fit(X_Ameerega_test, y_Ameerega)\n",
    "\n",
    "predicted_Ameerega = cross_val_predict(clf.best_estimator_, \n",
    "                                        X_Ameerega_test, \n",
    "                                        y_Ameerega, \n",
    "                                        cv=list(gkf.split(X_Ameerega_test, y_Ameerega, groups_Ameerega)))\n",
    "\n",
    "for i in range(3):\n",
    "    print(clf.best_estimator_.predict_proba(X_Ameerega_test)[:,i].mean())"
   ]
  },
  {
   "cell_type": "code",
   "execution_count": 55,
   "metadata": {
    "collapsed": false
   },
   "outputs": [
    {
     "name": "stdout",
     "output_type": "stream",
     "text": [
      "0.144079409796\n",
      "0.808489891273\n",
      "0.0474306989307\n",
      "\n",
      "\n",
      "0.95998854101\n",
      "2.38163639054\n",
      "-0.341624931549\n"
     ]
    }
   ],
   "source": [
    "index = list()\n",
    "for i in range(len(predicted_Ameerega)):\n",
    "    if predicted_Ameerega[i] == 'Ameeregatrivittata':\n",
    "        index.append(i)\n",
    "                \n",
    "for i in range(3):\n",
    "    print(clf.best_estimator_.predict_proba(X_Ameerega_test)[index,i].mean())\n",
    "\n",
    "print('\\n')\n",
    "\n",
    "for i in range(3):\n",
    "    print(clf.best_estimator_.decision_function(X_Ameerega_test)[index,i].mean())"
   ]
  },
  {
   "cell_type": "code",
   "execution_count": null,
   "metadata": {
    "collapsed": true
   },
   "outputs": [],
   "source": []
  },
  {
   "cell_type": "code",
   "execution_count": 56,
   "metadata": {
    "collapsed": false
   },
   "outputs": [
    {
     "name": "stdout",
     "output_type": "stream",
     "text": [
      "['AdenomeraAndre' 'AdenomeraHylaedactylus' 'Ameeregatrivittata'\n",
      " 'OsteocephalusOophagus' 'Rhinellagranulosa' 'ScinaxRuber']\n",
      "12\n"
     ]
    }
   ],
   "source": [
    "#data prepare\n",
    "print(np.unique(X_Rhinella[:,24]))\n",
    "X_Rhinella_test = X_Rhinella[:,:22]\n",
    "\n",
    "#group prepare\n",
    "print(np.unique(X_Rhinella[:,25]).size)\n",
    "groups_Rhinella = np.array(X_Rhinella[:,25])"
   ]
  },
  {
   "cell_type": "code",
   "execution_count": 57,
   "metadata": {
    "collapsed": false
   },
   "outputs": [
    {
     "name": "stdout",
     "output_type": "stream",
     "text": [
      "0.00440904958135\n",
      "0.977944657785\n",
      "0.0176462926335\n"
     ]
    }
   ],
   "source": [
    "#crossvalidation\n",
    "gkf = GroupKFold(n_splits=12)\n",
    "gkf.split(X_Rhinella_test, y_Rhinella, groups_Rhinella)\n",
    "\n",
    "#SVM on genus family\n",
    "svr = SVC(probability=True, decision_function_shape='ovr')\n",
    "\n",
    "tuned_parameters = [{'kernel': ['rbf'], 'gamma': [1e-1, 1e-2, 1e-3, 1e-4, 1e-5],\n",
    "                     'C': [1, 10, 100, 1000]}, \n",
    "                    {'kernel': ['linear'], 'C': [1, 10, 100, 1000]}]\n",
    "\n",
    "clf = GridSearchCV(estimator=svr, \n",
    "                   param_grid=tuned_parameters, \n",
    "                   cv=list(gkf.split(X_Rhinella_test, \n",
    "                                     y_Rhinella, \n",
    "                                     groups_Rhinella)))\n",
    "\n",
    "\n",
    "clf.fit(X_Ameerega_test, y_Ameerega)\n",
    "\n",
    "predicted_Rhinella = cross_val_predict(clf.best_estimator_, \n",
    "                                    X_Rhinella_test, \n",
    "                                    y_Rhinella, \n",
    "                                    cv=list(gkf.split(X_Rhinella_test, \n",
    "                                                        y_Rhinella, \n",
    "                                                        groups_Rhinella)))\n",
    "\n",
    "for i in range(3):\n",
    "    print(clf.best_estimator_.predict_proba(X_Rhinella_test)[:,i].mean())"
   ]
  },
  {
   "cell_type": "code",
   "execution_count": null,
   "metadata": {
    "collapsed": false
   },
   "outputs": [],
   "source": []
  },
  {
   "cell_type": "code",
   "execution_count": 59,
   "metadata": {
    "collapsed": false
   },
   "outputs": [
    {
     "name": "stdout",
     "output_type": "stream",
     "text": [
      "0.00440904958135\n",
      "0.977944657785\n",
      "0.0176462926335\n",
      "\n",
      "\n",
      "0.834921052791\n",
      "2.35121597879\n",
      "-0.186137031585\n"
     ]
    }
   ],
   "source": [
    "index = list()\n",
    "for i in range(len(predicted_Rhinella)):\n",
    "    if predicted_Rhinella[i] == 'Rhinellagranulosa':\n",
    "        index.append(i)\n",
    "                \n",
    "for i in range(3):\n",
    "    print(clf.best_estimator_.predict_proba(X_Rhinella_test)[index,i].mean())\n",
    "\n",
    "print('\\n')\n",
    "\n",
    "for i in range(3):\n",
    "    print(clf.best_estimator_.decision_function(X_Rhinella_test)[index,i].mean())"
   ]
  },
  {
   "cell_type": "code",
   "execution_count": null,
   "metadata": {
    "collapsed": true
   },
   "outputs": [],
   "source": []
  },
  {
   "cell_type": "code",
   "execution_count": 61,
   "metadata": {
    "collapsed": false
   },
   "outputs": [
    {
     "name": "stdout",
     "output_type": "stream",
     "text": [
      "['AdenomeraAndre' 'AdenomeraHylaedactylus' 'Ameeregatrivittata'\n",
      " 'HylaMinuta' 'HypsiboasCordobae' 'LeptodactylusFuscus' 'ScinaxRuber']\n",
      "22\n"
     ]
    }
   ],
   "source": [
    "#data prepare\n",
    "print(np.unique(X_Dendropsophus[:,24]))\n",
    "X_Dendropsophus_test = X_Dendropsophus[:,:22]\n",
    "\n",
    "#group prepare\n",
    "print(np.unique(X_Dendropsophus[:,25]).size)\n",
    "groups_Dendropsophus = np.array(X_Dendropsophus[:,25])"
   ]
  },
  {
   "cell_type": "code",
   "execution_count": 62,
   "metadata": {
    "collapsed": false
   },
   "outputs": [
    {
     "name": "stdout",
     "output_type": "stream",
     "text": [
      "0.047979176523\n",
      "0.0289562399142\n",
      "0.165539140769\n",
      "0.699094643777\n",
      "0.00857811484001\n",
      "0.0418854660147\n",
      "0.00796721816234\n"
     ]
    }
   ],
   "source": [
    "#crossvalidation\n",
    "gkf = GroupKFold(n_splits=22)\n",
    "gkf.split(X_Dendropsophus_test, y_Dendropsophus, groups_Dendropsophus)\n",
    "\n",
    "#SVM on genus family\n",
    "svr = SVC(probability=True, decision_function_shape='ovr')\n",
    "\n",
    "tuned_parameters = [{'kernel': ['rbf'], 'gamma': [1e-1, 1e-2, 1e-3, 1e-4, 1e-5],\n",
    "                     'C': [1, 10, 100, 1000]}, \n",
    "                    {'kernel': ['linear'], 'C': [1, 10, 100, 1000]}]\n",
    "\n",
    "clf = GridSearchCV(estimator=svr, \n",
    "                   param_grid=tuned_parameters, \n",
    "                   cv=list(gkf.split(X_Dendropsophus_test, \n",
    "                                     y_Dendropsophus, \n",
    "                                     groups_Dendropsophus)))\n",
    "\n",
    "\n",
    "clf.fit(X_Dendropsophus_test, y_Dendropsophus)\n",
    "\n",
    "predicted_Dendropsophus = cross_val_predict(clf.best_estimator_, \n",
    "                                    X_Dendropsophus_test, \n",
    "                                    y_Dendropsophus, \n",
    "                                    cv=list(gkf.split(X_Dendropsophus_test, \n",
    "                                                        y_Dendropsophus, \n",
    "                                                        groups_Dendropsophus)))\n",
    "\n",
    "for i in range(7):\n",
    "    print(clf.best_estimator_.predict_proba(X_Dendropsophus_test)[:,i].mean())"
   ]
  },
  {
   "cell_type": "code",
   "execution_count": 63,
   "metadata": {
    "collapsed": false
   },
   "outputs": [
    {
     "name": "stdout",
     "output_type": "stream",
     "text": [
      "0.047979176523\n",
      "0.0289562399142\n",
      "0.165539140769\n",
      "0.699094643777\n",
      "0.00857811484001\n",
      "0.0418854660147\n",
      "0.00796721816234\n",
      "\n",
      "\n",
      "3.14616103333\n",
      "2.24996754801\n",
      "5.34731880649\n",
      "6.27542145041\n",
      "0.117953211337\n",
      "3.61171327554\n",
      "0.251464674874\n"
     ]
    }
   ],
   "source": [
    "index = list()\n",
    "for i in range(len(predicted_Dendropsophus)):\n",
    "    if predicted_Dendropsophus[i] == 'HylaMinuta':\n",
    "        index.append(i)\n",
    "                \n",
    "for i in range(7):\n",
    "    print(clf.best_estimator_.predict_proba(X_Dendropsophus_test)[index,i].mean())\n",
    "\n",
    "print('\\n')\n",
    "\n",
    "for i in range(7):\n",
    "    print(clf.best_estimator_.decision_function(X_Dendropsophus_test)[index,i].mean())"
   ]
  },
  {
   "cell_type": "code",
   "execution_count": 64,
   "metadata": {
    "collapsed": false
   },
   "outputs": [
    {
     "name": "stdout",
     "output_type": "stream",
     "text": [
      "['AdenomeraAndre' 'HypsiboasCinerascens' 'HypsiboasCordobae'\n",
      " 'OsteocephalusOophagus']\n",
      "8\n"
     ]
    }
   ],
   "source": [
    "#data prepare\n",
    "print(np.unique(X_Osteocephalus[:,24]))\n",
    "X_Osteocephalus_test = X_Osteocephalus[:,:22]\n",
    "\n",
    "#group prepare\n",
    "print(np.unique(X_Osteocephalus[:,25]).size)\n",
    "groups_Osteocephalus = np.array(X_Osteocephalus[:,25])"
   ]
  },
  {
   "cell_type": "code",
   "execution_count": 66,
   "metadata": {
    "collapsed": false
   },
   "outputs": [
    {
     "name": "stdout",
     "output_type": "stream",
     "text": [
      "0.754749236666\n",
      "0.0562255308173\n",
      "0.0114900423688\n",
      "0.177535190148\n"
     ]
    }
   ],
   "source": [
    "#crossvalidation\n",
    "gkf = GroupKFold(n_splits=8)\n",
    "gkf.split(X_Osteocephalus_test, y_Osteocephalus, groups_Osteocephalus)\n",
    "\n",
    "#SVM on genus family\n",
    "svr = SVC(probability=True, decision_function_shape = 'ovr')\n",
    "\n",
    "tuned_parameters = [{'kernel': ['rbf'], 'gamma': [1e-1, 1e-2, 1e-3, 1e-4, 1e-5],\n",
    "                     'C': [1, 10, 100, 1000]}, \n",
    "                    {'kernel': ['linear'], 'C': [1, 10, 100, 1000]}]\n",
    "\n",
    "clf = GridSearchCV(estimator=svr, \n",
    "                   param_grid=tuned_parameters, \n",
    "                   cv=list(gkf.split(X_Osteocephalus_test, \n",
    "                                     y_Osteocephalus, \n",
    "                                     groups_Osteocephalus)))\n",
    "\n",
    "\n",
    "clf.fit(X_Osteocephalus_test, y_Osteocephalus)\n",
    "\n",
    "predicted_Osteocephalus = cross_val_predict(clf.best_estimator_, \n",
    "                                    X_Osteocephalus_test, \n",
    "                                    y_Osteocephalus, \n",
    "                                    cv=list(gkf.split(X_Osteocephalus_test, \n",
    "                                                        y_Osteocephalus, \n",
    "                                                        groups_Osteocephalus)))\n",
    "\n",
    "for i in range(4):\n",
    "    print(clf.best_estimator_.predict_proba(X_Osteocephalus_test)[:,i].mean())"
   ]
  },
  {
   "cell_type": "code",
   "execution_count": 67,
   "metadata": {
    "collapsed": false
   },
   "outputs": [
    {
     "name": "stdout",
     "output_type": "stream",
     "text": [
      "0.776292967593\n",
      "0.0276758353571\n",
      "0.00913678764125\n",
      "0.186894409409\n",
      "\n",
      "\n",
      "2.97307701234\n",
      "0.970955656737\n",
      "-0.250153280862\n",
      "2.30612061178\n"
     ]
    }
   ],
   "source": [
    "index = list()\n",
    "for i in range(len(predicted_Osteocephalus)):\n",
    "    if predicted_Osteocephalus[i] == 'OsteocephalusOophagus':\n",
    "        index.append(i)\n",
    "                \n",
    "for i in range(4):\n",
    "    print(clf.best_estimator_.predict_proba(X_Osteocephalus_test)[index,i].mean())\n",
    "\n",
    "print('\\n')\n",
    "\n",
    "for i in range(4):\n",
    "    print(clf.best_estimator_.decision_function(X_Osteocephalus_test)[index,i].mean())"
   ]
  },
  {
   "cell_type": "code",
   "execution_count": 68,
   "metadata": {
    "collapsed": false
   },
   "outputs": [
    {
     "name": "stdout",
     "output_type": "stream",
     "text": [
      "['AdenomeraAndre' 'AdenomeraHylaedactylus' 'Ameeregatrivittata'\n",
      " 'HylaMinuta' 'HypsiboasCinerascens' 'HypsiboasCordobae'\n",
      " 'LeptodactylusFuscus' 'OsteocephalusOophagus' 'Rhinellagranulosa'\n",
      " 'ScinaxRuber']\n",
      "24\n"
     ]
    }
   ],
   "source": [
    "#data prepare\n",
    "print(np.unique(X_Hypsiboas[:,24]))\n",
    "X_Hypsiboas_test = X_Hypsiboas[:,:22]\n",
    "\n",
    "#group prepare\n",
    "print(np.unique(X_Hypsiboas[:,25]).size)\n",
    "groups_Hypsiboas = np.array(X_Hypsiboas[:,25])"
   ]
  },
  {
   "cell_type": "code",
   "execution_count": 69,
   "metadata": {
    "collapsed": false
   },
   "outputs": [
    {
     "name": "stdout",
     "output_type": "stream",
     "text": [
      "0.00242610370318\n",
      "0.00174905501626\n",
      "0.00112804040474\n",
      "0.00332978324845\n",
      "0.265879472482\n",
      "0.685040735045\n",
      "0.016091271571\n",
      "0.0177961096324\n",
      "0.00113980031231\n",
      "0.00541962858496\n"
     ]
    }
   ],
   "source": [
    "#crossvalidation\n",
    "gkf = GroupKFold(n_splits=24)\n",
    "gkf.split(X_Hypsiboas_test, y_Hypsiboas, groups_Hypsiboas)\n",
    "\n",
    "#SVM on genus family\n",
    "svr = SVC(probability=True, decision_function_shape = 'ovr')\n",
    "\n",
    "tuned_parameters = [{'kernel': ['rbf'], 'gamma': [1e-1, 1e-2, 1e-3, 1e-4, 1e-5],\n",
    "                     'C': [1, 10, 100, 1000]}, \n",
    "                    {'kernel': ['linear'], 'C': [1, 10, 100, 1000]}]\n",
    "\n",
    "clf = GridSearchCV(estimator=svr, \n",
    "                   param_grid=tuned_parameters, \n",
    "                   cv=list(gkf.split(X_Hypsiboas_test, \n",
    "                                     y_Hypsiboas, \n",
    "                                     groups_Hypsiboas)))\n",
    "\n",
    "\n",
    "clf.fit(X_Hypsiboas_test, y_Hypsiboas)\n",
    "\n",
    "predicted_Hypsiboas = cross_val_predict(clf.best_estimator_, \n",
    "                                    X_Hypsiboas_test, \n",
    "                                    y_Hypsiboas, \n",
    "                                    cv=list(gkf.split(X_Hypsiboas_test, \n",
    "                                                        y_Hypsiboas, \n",
    "                                                        groups_Hypsiboas)))\n",
    "\n",
    "for i in range(10):\n",
    "    print(clf.best_estimator_.predict_proba(X_Hypsiboas_test)[:,i].mean())"
   ]
  },
  {
   "cell_type": "code",
   "execution_count": 71,
   "metadata": {
    "collapsed": false
   },
   "outputs": [
    {
     "name": "stdout",
     "output_type": "stream",
     "text": [
      "0.0010678708809\n",
      "0.00156992641139\n",
      "0.000941971213147\n",
      "0.00395962168819\n",
      "0.00567583583815\n",
      "0.95533419232\n",
      "0.0174523743872\n",
      "0.00806228155795\n",
      "0.000931517579565\n",
      "0.00500440812356\n",
      "\n",
      "\n",
      "1.72430964871\n",
      "0.272800545356\n",
      "5.28411038131\n",
      "2.18095629339\n",
      "4.33440646862\n",
      "9.19514692411\n",
      "6.83406604434\n",
      "4.94839789376\n",
      "3.30250812591\n",
      "6.92329767448\n"
     ]
    }
   ],
   "source": [
    "index = list()\n",
    "for i in range(len(predicted_Hypsiboas)):\n",
    "    if predicted_Hypsiboas[i] == 'HypsiboasCordobae':\n",
    "        index.append(i)\n",
    "                \n",
    "for i in range(10):\n",
    "    print(clf.best_estimator_.predict_proba(X_Hypsiboas_test)[index,i].mean())\n",
    "\n",
    "print('\\n')\n",
    "\n",
    "for i in range(10):\n",
    "    print(clf.best_estimator_.decision_function(X_Hypsiboas_test)[index,i].mean())"
   ]
  },
  {
   "cell_type": "code",
   "execution_count": 72,
   "metadata": {
    "collapsed": false
   },
   "outputs": [
    {
     "name": "stdout",
     "output_type": "stream",
     "text": [
      "['AdenomeraAndre' 'AdenomeraHylaedactylus' 'HypsiboasCordobae'\n",
      " 'ScinaxRuber']\n",
      "8\n"
     ]
    }
   ],
   "source": [
    "#data prepare\n",
    "print(np.unique(X_Scinax[:,24]))\n",
    "X_Scinax_test = X_Scinax[:,:22]\n",
    "\n",
    "#group prepare\n",
    "print(np.unique(X_Scinax[:,25]).size)\n",
    "groups_Scinax = np.array(X_Scinax[:,25])"
   ]
  },
  {
   "cell_type": "code",
   "execution_count": 73,
   "metadata": {
    "collapsed": false
   },
   "outputs": [
    {
     "name": "stdout",
     "output_type": "stream",
     "text": [
      "0.0170333212087\n",
      "0.0180374100523\n",
      "0.0158720302012\n",
      "0.949057238538\n"
     ]
    }
   ],
   "source": [
    "#crossvalidation\n",
    "gkf = GroupKFold(n_splits=8)\n",
    "gkf.split(X_Scinax_test, y_Scinax, groups_Scinax)\n",
    "\n",
    "#SVM on genus family\n",
    "svr = SVC(probability=True, decision_function_shape = 'ovr')\n",
    "\n",
    "tuned_parameters = [{'kernel': ['rbf'], 'gamma': [1e-1, 1e-2, 1e-3, 1e-4, 1e-5],\n",
    "                     'C': [1, 10, 100, 1000]}, \n",
    "                    {'kernel': ['linear'], 'C': [1, 10, 100, 1000]}]\n",
    "\n",
    "clf = GridSearchCV(estimator=svr, \n",
    "                   param_grid=tuned_parameters, \n",
    "                   cv=list(gkf.split(X_Scinax_test, \n",
    "                                     y_Scinax, \n",
    "                                     groups_Scinax)))\n",
    "\n",
    "\n",
    "clf.fit(X_Scinax_test, y_Scinax)\n",
    "\n",
    "predicted_Scinax = cross_val_predict(clf.best_estimator_, \n",
    "                                    X_Scinax_test, \n",
    "                                    y_Scinax, \n",
    "                                    cv=list(gkf.split(X_Scinax_test, \n",
    "                                                        y_Scinax, \n",
    "                                                        groups_Scinax)))\n",
    "\n",
    "for i in range(4):\n",
    "    print(clf.best_estimator_.predict_proba(X_Scinax_test)[:,i].mean())"
   ]
  },
  {
   "cell_type": "code",
   "execution_count": 74,
   "metadata": {
    "collapsed": false
   },
   "outputs": [
    {
     "name": "stdout",
     "output_type": "stream",
     "text": [
      "0.0170333212087\n",
      "0.0180374100523\n",
      "0.0158720302012\n",
      "0.949057238538\n",
      "\n",
      "\n",
      "-0.156284651003\n",
      "0.987663687521\n",
      "1.67360756155\n",
      "3.49501340193\n"
     ]
    }
   ],
   "source": [
    "index = list()\n",
    "for i in range(len(predicted_Scinax)):\n",
    "    if predicted_Scinax[i] == 'ScinaxRuber':\n",
    "        index.append(i)\n",
    "                \n",
    "for i in range(4):\n",
    "    print(clf.best_estimator_.predict_proba(X_Scinax_test)[index,i].mean())\n",
    "\n",
    "print('\\n')\n",
    "\n",
    "for i in range(4):\n",
    "    print(clf.best_estimator_.decision_function(X_Scinax_test)[index,i].mean())"
   ]
  },
  {
   "cell_type": "code",
   "execution_count": 75,
   "metadata": {
    "collapsed": false
   },
   "outputs": [
    {
     "name": "stdout",
     "output_type": "stream",
     "text": [
      "['AdenomeraAndre' 'AdenomeraHylaedactylus' 'Ameeregatrivittata'\n",
      " 'HylaMinuta' 'HypsiboasCinerascens' 'HypsiboasCordobae'\n",
      " 'LeptodactylusFuscus' 'Rhinellagranulosa']\n",
      "34\n"
     ]
    }
   ],
   "source": [
    "#data prepare\n",
    "print(np.unique(X_Adenomera[:,24]))\n",
    "X_Adenomera_test = X_Adenomera[:,:22]\n",
    "\n",
    "#group prepare\n",
    "print(np.unique(X_Adenomera[:,25]).size)\n",
    "groups_Adenomera = np.array(X_Adenomera[:,25])"
   ]
  },
  {
   "cell_type": "code",
   "execution_count": 76,
   "metadata": {
    "collapsed": false
   },
   "outputs": [
    {
     "name": "stdout",
     "output_type": "stream",
     "text": [
      "0.0592684814703\n",
      "0.900197999238\n",
      "0.0209427558492\n",
      "0.0165673088236\n",
      "0.000410625171243\n",
      "0.00173731614369\n",
      "0.000451674963651\n",
      "0.000423838340351\n"
     ]
    }
   ],
   "source": [
    "#crossvalidation\n",
    "gkf = GroupKFold(n_splits=34)\n",
    "gkf.split(X_Adenomera_test, y_Adenomera, groups_Adenomera)\n",
    "\n",
    "#SVM on genus family\n",
    "svr = SVC(probability=True, decision_function_shape = 'ovr')\n",
    "\n",
    "tuned_parameters = [{'kernel': ['rbf'], 'gamma': [1e-1, 1e-2, 1e-3, 1e-4, 1e-5],\n",
    "                     'C': [1, 10, 100, 1000]}, \n",
    "                    {'kernel': ['linear'], 'C': [1, 10, 100, 1000]}]\n",
    "\n",
    "clf = GridSearchCV(estimator=svr, \n",
    "                   param_grid=tuned_parameters, \n",
    "                   cv=list(gkf.split(X_Adenomera_test, \n",
    "                                     y_Adenomera, \n",
    "                                     groups_Adenomera)))\n",
    "\n",
    "\n",
    "clf.fit(X_Adenomera_test, y_Adenomera)\n",
    "\n",
    "predicted_Adenomera = cross_val_predict(clf.best_estimator_, \n",
    "                                    X_Adenomera_test, \n",
    "                                    y_Adenomera, \n",
    "                                    cv=list(gkf.split(X_Adenomera_test, \n",
    "                                                        y_Adenomera, \n",
    "                                                        groups_Adenomera)))\n",
    "\n",
    "for i in range(8):\n",
    "    print(clf.best_estimator_.predict_proba(X_Adenomera_test)[:,i].mean())"
   ]
  },
  {
   "cell_type": "code",
   "execution_count": 78,
   "metadata": {
    "collapsed": false
   },
   "outputs": [
    {
     "name": "stdout",
     "output_type": "stream",
     "text": [
      "8.95798931485e-05\n",
      "0.993180970496\n",
      "0.00021133816436\n",
      "0.00530810965595\n",
      "0.000144325801375\n",
      "0.000767722962782\n",
      "0.000171680925334\n",
      "0.000126272101165\n",
      "\n",
      "\n",
      "0.88424204956\n",
      "7.18356438531\n",
      "2.44105304476\n",
      "6.05569786874\n",
      "3.23880585867\n",
      "4.98390765708\n",
      "3.29868157316\n",
      "-0.0859524372777\n"
     ]
    }
   ],
   "source": [
    "index = list()\n",
    "for i in range(len(predicted_Adenomera)):\n",
    "    if predicted_Adenomera[i] == 'AdenomeraHylaedactylus':\n",
    "        index.append(i)\n",
    "                \n",
    "for i in range(8):\n",
    "    print(clf.best_estimator_.predict_proba(X_Adenomera_test)[index,i].mean())\n",
    "\n",
    "print('\\n')\n",
    "\n",
    "for i in range(8):\n",
    "    print(clf.best_estimator_.decision_function(X_Adenomera_test)[index,i].mean())"
   ]
  },
  {
   "cell_type": "code",
   "execution_count": null,
   "metadata": {
    "collapsed": true
   },
   "outputs": [],
   "source": []
  },
  {
   "cell_type": "code",
   "execution_count": 79,
   "metadata": {
    "collapsed": false
   },
   "outputs": [
    {
     "name": "stdout",
     "output_type": "stream",
     "text": [
      "['AdenomeraAndre' 'Ameeregatrivittata' 'HypsiboasCinerascens'\n",
      " 'HypsiboasCordobae' 'LeptodactylusFuscus' 'Rhinellagranulosa'\n",
      " 'ScinaxRuber']\n",
      "13\n"
     ]
    }
   ],
   "source": [
    "#data prepare\n",
    "print(np.unique(X_Leptodactylus[:,24]))\n",
    "X_Leptodactylus_test = X_Leptodactylus[:,:22]\n",
    "\n",
    "#group prepare\n",
    "print(np.unique(X_Leptodactylus[:,25]).size)\n",
    "groups_Leptodactylus = np.array(X_Leptodactylus[:,25])"
   ]
  },
  {
   "cell_type": "code",
   "execution_count": null,
   "metadata": {
    "collapsed": false
   },
   "outputs": [],
   "source": []
  },
  {
   "cell_type": "code",
   "execution_count": 80,
   "metadata": {
    "collapsed": false
   },
   "outputs": [],
   "source": [
    "#crossvalidation\n",
    "gkf = GroupKFold(n_splits=13)\n",
    "gkf.split(X_Leptodactylus_test, y_Leptodactylus, groups_Leptodactylus)\n",
    "\n",
    "#SVM on genus family\n",
    "svr = SVC(probability=True, decision_function_shape = 'ovr')\n",
    "\n",
    "tuned_parameters = [{'kernel': ['rbf'], 'gamma': [1e-1, 1e-2, 1e-3, 1e-4, 1e-5],\n",
    "                     'C': [1, 10, 100, 1000]}, \n",
    "                    {'kernel': ['linear'], 'C': [1, 10, 100, 1000]}]\n",
    "\n",
    "clf = GridSearchCV(estimator=svr, \n",
    "                   param_grid=tuned_parameters, \n",
    "                   cv=list(gkf.split(X_Leptodactylus_test, \n",
    "                                     y_Leptodactylus, \n",
    "                                     groups_Leptodactylus)))\n",
    "\n",
    "\n",
    "clf.fit(X_Leptodactylus_test, y_Leptodactylus)\n",
    "\n",
    "predicted_Leptodactylus = cross_val_predict(clf.best_estimator_, \n",
    "                                    X_Leptodactylus_test, \n",
    "                                    y_Leptodactylus, \n",
    "                                    cv=list(gkf.split(X_Leptodactylus_test, \n",
    "                                                        y_Leptodactylus, \n",
    "                                                        groups_Leptodactylus)))\n"
   ]
  },
  {
   "cell_type": "code",
   "execution_count": 83,
   "metadata": {
    "collapsed": false
   },
   "outputs": [
    {
     "name": "stdout",
     "output_type": "stream",
     "text": [
      "0.0088127773437\n",
      "0.029600412897\n",
      "0.0421058071197\n",
      "0.0250084997897\n",
      "0.853939740399\n",
      "0.0298651228418\n",
      "0.0106676396088\n",
      "\n",
      "\n",
      "1.79819484251\n",
      "0.273277196675\n",
      "4.07708416061\n",
      "3.19696394801\n",
      "6.2528105181\n",
      "4.40676087106\n",
      "0.994908463034\n"
     ]
    }
   ],
   "source": [
    "index = list()\n",
    "for i in range(len(predicted_Leptodactylus)):\n",
    "    if predicted_Leptodactylus[i] == 'LeptodactylusFuscus':\n",
    "        index.append(i)\n",
    "        \n",
    "for i in range(7):\n",
    "    print(clf.best_estimator_.predict_proba(X_Leptodactylus_test)[index,i].mean())\n",
    "    \n",
    "print('\\n')\n",
    "    \n",
    "for i in range(7):\n",
    "    print(clf.best_estimator_.decision_function(X_Leptodactylus_test)[index,i].mean())"
   ]
  },
  {
   "cell_type": "code",
   "execution_count": 82,
   "metadata": {
    "collapsed": false
   },
   "outputs": [
    {
     "data": {
      "text/plain": [
       "(243, 7)"
      ]
     },
     "execution_count": 82,
     "metadata": {},
     "output_type": "execute_result"
    }
   ],
   "source": [
    "clf.best_estimator_.decision_function(X_Leptodactylus_test).shape"
   ]
  },
  {
   "cell_type": "code",
   "execution_count": 227,
   "metadata": {
    "collapsed": false
   },
   "outputs": [],
   "source": [
    "confidence_LeptodactylusFuscus = list()\n",
    "for i in range(len(y_Leptodactylus)):\n",
    "    if predicted_Leptodactylus[i] == 'LeptodactylusFuscus':\n",
    "        confidence_LeptodactylusFuscus.append(X_Leptodactylus_test[i,:])\n",
    "        "
   ]
  },
  {
   "cell_type": "code",
   "execution_count": null,
   "metadata": {
    "collapsed": false
   },
   "outputs": [],
   "source": []
  },
  {
   "cell_type": "code",
   "execution_count": null,
   "metadata": {
    "collapsed": false
   },
   "outputs": [],
   "source": []
  },
  {
   "cell_type": "code",
   "execution_count": null,
   "metadata": {
    "collapsed": true
   },
   "outputs": [],
   "source": []
  },
  {
   "cell_type": "code",
   "execution_count": 212,
   "metadata": {
    "collapsed": false
   },
   "outputs": [
    {
     "data": {
      "text/plain": [
       "(0, 0, 49, 0, 0, 0, 0, 0, 0, 0, 49)"
      ]
     },
     "execution_count": 212,
     "metadata": {},
     "output_type": "execute_result"
    }
   ],
   "source": [
    "#matrix on Genus level\n",
    "result_species = np.c_[y_Ameerega, predicted_Ameerega]\n",
    "\n",
    "AdenomeraAndre = 0\n",
    "AdenomeraHylaedactylus = 0\n",
    "Ameeregatrivittata = 0\n",
    "HylaMinuta = 0\n",
    "HypsiboasCinerascens = 0\n",
    "HypsiboasCordobae = 0\n",
    "LeptodactylusFuscus = 0\n",
    "OsteocephalusOophagus = 0\n",
    "Rhinellagranulosa = 0\n",
    "ScinaxRuber = 0\n",
    "total = 0\n",
    "\n",
    "for i in range(len(y_Ameerega)):\n",
    "    if result_species[:, 0][i] == 'AdenomeraAndre':\n",
    "        total += 1\n",
    "        if result_species[:, 1][i] == 'AdenomeraAndre':\n",
    "            AdenomeraAndre += 1\n",
    "        if result_species[:, 1][i] == 'AdenomeraHylaedactylus':\n",
    "            AdenomeraHylaedactylus += 1\n",
    "        if result_species[:, 1][i] == 'Ameeregatrivittata':\n",
    "            Ameeregatrivittata += 1\n",
    "        if result_species[:, 1][i] == 'HylaMinuta':\n",
    "            HylaMinuta += 1\n",
    "        if result_species[:, 1][i] == 'HypsiboasCinerascens':\n",
    "            HypsiboasCinerascens += 1\n",
    "        if result_species[:, 1][i] == 'HypsiboasCordobae':\n",
    "            HypsiboasCordobae += 1\n",
    "        if result_species[:, 1][i] == 'LeptodactylusFuscus':\n",
    "            LeptodactylusFuscus += 1\n",
    "        if result_species[:, 1][i] == 'OsteocephalusOophagus':\n",
    "            OsteocephalusOophagus += 1\n",
    "        if result_species[:, 1][i] == 'Rhinellagranulosa':\n",
    "            Rhinellagranulosa += 1\n",
    "        if result_species[:, 1][i] == 'ScinaxRuber':\n",
    "            ScinaxRuber += 1\n",
    "\n",
    "AdenomeraAndre,AdenomeraHylaedactylus,Ameeregatrivittata,HylaMinuta,HypsiboasCinerascens,HypsiboasCordobae,LeptodactylusFuscus,OsteocephalusOophagus,Rhinellagranulosa,ScinaxRuber,total"
   ]
  },
  {
   "cell_type": "code",
   "execution_count": null,
   "metadata": {
    "collapsed": true
   },
   "outputs": [],
   "source": []
  }
 ],
 "metadata": {
  "kernelspec": {
   "display_name": "Python 3",
   "language": "python",
   "name": "python3"
  },
  "language_info": {
   "codemirror_mode": {
    "name": "ipython",
    "version": 3
   },
   "file_extension": ".py",
   "mimetype": "text/x-python",
   "name": "python",
   "nbconvert_exporter": "python",
   "pygments_lexer": "ipython3",
   "version": "3.6.0"
  }
 },
 "nbformat": 4,
 "nbformat_minor": 2
}
