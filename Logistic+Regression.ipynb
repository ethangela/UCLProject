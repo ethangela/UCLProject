{
 "cells": [
  {
   "cell_type": "code",
   "execution_count": 1,
   "metadata": {
    "collapsed": true
   },
   "outputs": [],
   "source": [
    "#logistic regression"
   ]
  },
  {
   "cell_type": "code",
   "execution_count": 1,
   "metadata": {
    "collapsed": true
   },
   "outputs": [],
   "source": [
    "import pandas as pd\n",
    "import numpy as np\n",
    "from sklearn.decomposition import PCA\n",
    "import matplotlib.pyplot as plt\n",
    "from sklearn.discriminant_analysis import LinearDiscriminantAnalysis\n",
    "from sklearn.neighbors import NearestNeighbors\n",
    "from sklearn import neighbors\n",
    "from sklearn.pipeline import make_pipeline\n",
    "from sklearn.model_selection import GroupKFold\n",
    "from sklearn.multiclass import OneVsOneClassifier\n",
    "from sklearn.model_selection import cross_val_score\n",
    "from sklearn.model_selection import cross_val_predict\n",
    "from sklearn import metrics\n",
    "from sklearn.svm import SVC\n",
    "from sklearn.model_selection import GridSearchCV\n",
    "from sklearn.linear_model import LogisticRegressionCV\n",
    "from sklearn.linear_model import LogisticRegression"
   ]
  },
  {
   "cell_type": "code",
   "execution_count": 2,
   "metadata": {
    "collapsed": false
   },
   "outputs": [
    {
     "data": {
      "text/html": [
       "<div>\n",
       "<table border=\"1\" class=\"dataframe\">\n",
       "  <thead>\n",
       "    <tr style=\"text-align: right;\">\n",
       "      <th></th>\n",
       "      <th>MFCCs_ 1</th>\n",
       "      <th>MFCCs_ 2</th>\n",
       "      <th>MFCCs_ 3</th>\n",
       "      <th>MFCCs_ 4</th>\n",
       "      <th>MFCCs_ 5</th>\n",
       "      <th>MFCCs_ 6</th>\n",
       "      <th>MFCCs_ 7</th>\n",
       "      <th>MFCCs_ 8</th>\n",
       "      <th>MFCCs_ 9</th>\n",
       "      <th>MFCCs_10</th>\n",
       "      <th>...</th>\n",
       "      <th>MFCCs_17</th>\n",
       "      <th>MFCCs_18</th>\n",
       "      <th>MFCCs_19</th>\n",
       "      <th>MFCCs_20</th>\n",
       "      <th>MFCCs_21</th>\n",
       "      <th>MFCCs_22</th>\n",
       "      <th>Family</th>\n",
       "      <th>Genus</th>\n",
       "      <th>Species</th>\n",
       "      <th>RecordID</th>\n",
       "    </tr>\n",
       "  </thead>\n",
       "  <tbody>\n",
       "    <tr>\n",
       "      <th>0</th>\n",
       "      <td>1.0</td>\n",
       "      <td>0.152936</td>\n",
       "      <td>-0.105586</td>\n",
       "      <td>0.200722</td>\n",
       "      <td>0.317201</td>\n",
       "      <td>0.260764</td>\n",
       "      <td>0.100945</td>\n",
       "      <td>-0.150063</td>\n",
       "      <td>-0.171128</td>\n",
       "      <td>0.124676</td>\n",
       "      <td>...</td>\n",
       "      <td>-0.108351</td>\n",
       "      <td>-0.077623</td>\n",
       "      <td>-0.009568</td>\n",
       "      <td>0.057684</td>\n",
       "      <td>0.118680</td>\n",
       "      <td>0.014038</td>\n",
       "      <td>Leptodactylidae</td>\n",
       "      <td>Adenomera</td>\n",
       "      <td>AdenomeraAndre</td>\n",
       "      <td>1</td>\n",
       "    </tr>\n",
       "    <tr>\n",
       "      <th>1</th>\n",
       "      <td>1.0</td>\n",
       "      <td>0.171534</td>\n",
       "      <td>-0.098975</td>\n",
       "      <td>0.268425</td>\n",
       "      <td>0.338672</td>\n",
       "      <td>0.268353</td>\n",
       "      <td>0.060835</td>\n",
       "      <td>-0.222475</td>\n",
       "      <td>-0.207693</td>\n",
       "      <td>0.170883</td>\n",
       "      <td>...</td>\n",
       "      <td>-0.090974</td>\n",
       "      <td>-0.056510</td>\n",
       "      <td>-0.035303</td>\n",
       "      <td>0.020140</td>\n",
       "      <td>0.082263</td>\n",
       "      <td>0.029056</td>\n",
       "      <td>Leptodactylidae</td>\n",
       "      <td>Adenomera</td>\n",
       "      <td>AdenomeraAndre</td>\n",
       "      <td>1</td>\n",
       "    </tr>\n",
       "    <tr>\n",
       "      <th>2</th>\n",
       "      <td>1.0</td>\n",
       "      <td>0.152317</td>\n",
       "      <td>-0.082973</td>\n",
       "      <td>0.287128</td>\n",
       "      <td>0.276014</td>\n",
       "      <td>0.189867</td>\n",
       "      <td>0.008714</td>\n",
       "      <td>-0.242234</td>\n",
       "      <td>-0.219153</td>\n",
       "      <td>0.232538</td>\n",
       "      <td>...</td>\n",
       "      <td>-0.050691</td>\n",
       "      <td>-0.023590</td>\n",
       "      <td>-0.066722</td>\n",
       "      <td>-0.025083</td>\n",
       "      <td>0.099108</td>\n",
       "      <td>0.077162</td>\n",
       "      <td>Leptodactylidae</td>\n",
       "      <td>Adenomera</td>\n",
       "      <td>AdenomeraAndre</td>\n",
       "      <td>1</td>\n",
       "    </tr>\n",
       "    <tr>\n",
       "      <th>3</th>\n",
       "      <td>1.0</td>\n",
       "      <td>0.224392</td>\n",
       "      <td>0.118985</td>\n",
       "      <td>0.329432</td>\n",
       "      <td>0.372088</td>\n",
       "      <td>0.361005</td>\n",
       "      <td>0.015501</td>\n",
       "      <td>-0.194347</td>\n",
       "      <td>-0.098181</td>\n",
       "      <td>0.270375</td>\n",
       "      <td>...</td>\n",
       "      <td>-0.136009</td>\n",
       "      <td>-0.177037</td>\n",
       "      <td>-0.130498</td>\n",
       "      <td>-0.054766</td>\n",
       "      <td>-0.018691</td>\n",
       "      <td>0.023954</td>\n",
       "      <td>Leptodactylidae</td>\n",
       "      <td>Adenomera</td>\n",
       "      <td>AdenomeraAndre</td>\n",
       "      <td>1</td>\n",
       "    </tr>\n",
       "    <tr>\n",
       "      <th>4</th>\n",
       "      <td>1.0</td>\n",
       "      <td>0.087817</td>\n",
       "      <td>-0.068345</td>\n",
       "      <td>0.306967</td>\n",
       "      <td>0.330923</td>\n",
       "      <td>0.249144</td>\n",
       "      <td>0.006884</td>\n",
       "      <td>-0.265423</td>\n",
       "      <td>-0.172700</td>\n",
       "      <td>0.266434</td>\n",
       "      <td>...</td>\n",
       "      <td>-0.048885</td>\n",
       "      <td>-0.053074</td>\n",
       "      <td>-0.088550</td>\n",
       "      <td>-0.031346</td>\n",
       "      <td>0.108610</td>\n",
       "      <td>0.079244</td>\n",
       "      <td>Leptodactylidae</td>\n",
       "      <td>Adenomera</td>\n",
       "      <td>AdenomeraAndre</td>\n",
       "      <td>1</td>\n",
       "    </tr>\n",
       "  </tbody>\n",
       "</table>\n",
       "<p>5 rows × 26 columns</p>\n",
       "</div>"
      ],
      "text/plain": [
       "   MFCCs_ 1  MFCCs_ 2  MFCCs_ 3  MFCCs_ 4  MFCCs_ 5  MFCCs_ 6  MFCCs_ 7  \\\n",
       "0       1.0  0.152936 -0.105586  0.200722  0.317201  0.260764  0.100945   \n",
       "1       1.0  0.171534 -0.098975  0.268425  0.338672  0.268353  0.060835   \n",
       "2       1.0  0.152317 -0.082973  0.287128  0.276014  0.189867  0.008714   \n",
       "3       1.0  0.224392  0.118985  0.329432  0.372088  0.361005  0.015501   \n",
       "4       1.0  0.087817 -0.068345  0.306967  0.330923  0.249144  0.006884   \n",
       "\n",
       "   MFCCs_ 8  MFCCs_ 9  MFCCs_10    ...     MFCCs_17  MFCCs_18  MFCCs_19  \\\n",
       "0 -0.150063 -0.171128  0.124676    ...    -0.108351 -0.077623 -0.009568   \n",
       "1 -0.222475 -0.207693  0.170883    ...    -0.090974 -0.056510 -0.035303   \n",
       "2 -0.242234 -0.219153  0.232538    ...    -0.050691 -0.023590 -0.066722   \n",
       "3 -0.194347 -0.098181  0.270375    ...    -0.136009 -0.177037 -0.130498   \n",
       "4 -0.265423 -0.172700  0.266434    ...    -0.048885 -0.053074 -0.088550   \n",
       "\n",
       "   MFCCs_20  MFCCs_21  MFCCs_22           Family      Genus         Species  \\\n",
       "0  0.057684  0.118680  0.014038  Leptodactylidae  Adenomera  AdenomeraAndre   \n",
       "1  0.020140  0.082263  0.029056  Leptodactylidae  Adenomera  AdenomeraAndre   \n",
       "2 -0.025083  0.099108  0.077162  Leptodactylidae  Adenomera  AdenomeraAndre   \n",
       "3 -0.054766 -0.018691  0.023954  Leptodactylidae  Adenomera  AdenomeraAndre   \n",
       "4 -0.031346  0.108610  0.079244  Leptodactylidae  Adenomera  AdenomeraAndre   \n",
       "\n",
       "   RecordID  \n",
       "0         1  \n",
       "1         1  \n",
       "2         1  \n",
       "3         1  \n",
       "4         1  \n",
       "\n",
       "[5 rows x 26 columns]"
      ]
     },
     "execution_count": 2,
     "metadata": {},
     "output_type": "execute_result"
    }
   ],
   "source": [
    "data = pd.read_csv('C:/Users/zhanghui/Desktop/PROJECT/Frogs_MFCCs.csv')\n",
    "data.head(5)"
   ]
  },
  {
   "cell_type": "code",
   "execution_count": 3,
   "metadata": {
    "collapsed": false
   },
   "outputs": [
    {
     "data": {
      "text/plain": [
       "array(['Bufonidae', 'Dendrobatidae', 'Hylidae', 'Leptodactylidae'], dtype=object)"
      ]
     },
     "execution_count": 3,
     "metadata": {},
     "output_type": "execute_result"
    }
   ],
   "source": [
    "X_test = np.array(data.ix[:,:22])\n",
    "y_test = np.array(data['Family'])\n",
    "np.unique(y_test)"
   ]
  },
  {
   "cell_type": "code",
   "execution_count": 4,
   "metadata": {
    "collapsed": false
   },
   "outputs": [
    {
     "name": "stderr",
     "output_type": "stream",
     "text": [
      "C:\\Users\\zhanghui\\Anaconda3\\lib\\site-packages\\sklearn\\linear_model\\sag.py:286: ConvergenceWarning: The max_iter was reached which means the coef_ did not converge\n",
      "  \"the coef_ did not converge\", ConvergenceWarning)\n",
      "C:\\Users\\zhanghui\\Anaconda3\\lib\\site-packages\\sklearn\\linear_model\\sag.py:286: ConvergenceWarning: The max_iter was reached which means the coef_ did not converge\n",
      "  \"the coef_ did not converge\", ConvergenceWarning)\n",
      "C:\\Users\\zhanghui\\Anaconda3\\lib\\site-packages\\sklearn\\linear_model\\sag.py:286: ConvergenceWarning: The max_iter was reached which means the coef_ did not converge\n",
      "  \"the coef_ did not converge\", ConvergenceWarning)\n",
      "C:\\Users\\zhanghui\\Anaconda3\\lib\\site-packages\\sklearn\\linear_model\\sag.py:286: ConvergenceWarning: The max_iter was reached which means the coef_ did not converge\n",
      "  \"the coef_ did not converge\", ConvergenceWarning)\n",
      "C:\\Users\\zhanghui\\Anaconda3\\lib\\site-packages\\sklearn\\linear_model\\sag.py:286: ConvergenceWarning: The max_iter was reached which means the coef_ did not converge\n",
      "  \"the coef_ did not converge\", ConvergenceWarning)\n",
      "C:\\Users\\zhanghui\\Anaconda3\\lib\\site-packages\\sklearn\\linear_model\\sag.py:286: ConvergenceWarning: The max_iter was reached which means the coef_ did not converge\n",
      "  \"the coef_ did not converge\", ConvergenceWarning)\n",
      "C:\\Users\\zhanghui\\Anaconda3\\lib\\site-packages\\sklearn\\linear_model\\sag.py:286: ConvergenceWarning: The max_iter was reached which means the coef_ did not converge\n",
      "  \"the coef_ did not converge\", ConvergenceWarning)\n",
      "C:\\Users\\zhanghui\\Anaconda3\\lib\\site-packages\\sklearn\\linear_model\\sag.py:286: ConvergenceWarning: The max_iter was reached which means the coef_ did not converge\n",
      "  \"the coef_ did not converge\", ConvergenceWarning)\n",
      "C:\\Users\\zhanghui\\Anaconda3\\lib\\site-packages\\sklearn\\linear_model\\sag.py:286: ConvergenceWarning: The max_iter was reached which means the coef_ did not converge\n",
      "  \"the coef_ did not converge\", ConvergenceWarning)\n",
      "C:\\Users\\zhanghui\\Anaconda3\\lib\\site-packages\\sklearn\\linear_model\\sag.py:286: ConvergenceWarning: The max_iter was reached which means the coef_ did not converge\n",
      "  \"the coef_ did not converge\", ConvergenceWarning)\n",
      "C:\\Users\\zhanghui\\Anaconda3\\lib\\site-packages\\sklearn\\linear_model\\sag.py:286: ConvergenceWarning: The max_iter was reached which means the coef_ did not converge\n",
      "  \"the coef_ did not converge\", ConvergenceWarning)\n",
      "C:\\Users\\zhanghui\\Anaconda3\\lib\\site-packages\\sklearn\\linear_model\\sag.py:286: ConvergenceWarning: The max_iter was reached which means the coef_ did not converge\n",
      "  \"the coef_ did not converge\", ConvergenceWarning)\n",
      "C:\\Users\\zhanghui\\Anaconda3\\lib\\site-packages\\sklearn\\linear_model\\sag.py:286: ConvergenceWarning: The max_iter was reached which means the coef_ did not converge\n",
      "  \"the coef_ did not converge\", ConvergenceWarning)\n",
      "C:\\Users\\zhanghui\\Anaconda3\\lib\\site-packages\\sklearn\\linear_model\\sag.py:286: ConvergenceWarning: The max_iter was reached which means the coef_ did not converge\n",
      "  \"the coef_ did not converge\", ConvergenceWarning)\n",
      "C:\\Users\\zhanghui\\Anaconda3\\lib\\site-packages\\sklearn\\linear_model\\sag.py:286: ConvergenceWarning: The max_iter was reached which means the coef_ did not converge\n",
      "  \"the coef_ did not converge\", ConvergenceWarning)\n",
      "C:\\Users\\zhanghui\\Anaconda3\\lib\\site-packages\\sklearn\\linear_model\\sag.py:286: ConvergenceWarning: The max_iter was reached which means the coef_ did not converge\n",
      "  \"the coef_ did not converge\", ConvergenceWarning)\n",
      "C:\\Users\\zhanghui\\Anaconda3\\lib\\site-packages\\sklearn\\linear_model\\sag.py:286: ConvergenceWarning: The max_iter was reached which means the coef_ did not converge\n",
      "  \"the coef_ did not converge\", ConvergenceWarning)\n",
      "C:\\Users\\zhanghui\\Anaconda3\\lib\\site-packages\\sklearn\\linear_model\\sag.py:286: ConvergenceWarning: The max_iter was reached which means the coef_ did not converge\n",
      "  \"the coef_ did not converge\", ConvergenceWarning)\n",
      "C:\\Users\\zhanghui\\Anaconda3\\lib\\site-packages\\sklearn\\linear_model\\sag.py:286: ConvergenceWarning: The max_iter was reached which means the coef_ did not converge\n",
      "  \"the coef_ did not converge\", ConvergenceWarning)\n",
      "C:\\Users\\zhanghui\\Anaconda3\\lib\\site-packages\\sklearn\\linear_model\\sag.py:286: ConvergenceWarning: The max_iter was reached which means the coef_ did not converge\n",
      "  \"the coef_ did not converge\", ConvergenceWarning)\n",
      "C:\\Users\\zhanghui\\Anaconda3\\lib\\site-packages\\sklearn\\linear_model\\sag.py:286: ConvergenceWarning: The max_iter was reached which means the coef_ did not converge\n",
      "  \"the coef_ did not converge\", ConvergenceWarning)\n",
      "C:\\Users\\zhanghui\\Anaconda3\\lib\\site-packages\\sklearn\\linear_model\\sag.py:286: ConvergenceWarning: The max_iter was reached which means the coef_ did not converge\n",
      "  \"the coef_ did not converge\", ConvergenceWarning)\n",
      "C:\\Users\\zhanghui\\Anaconda3\\lib\\site-packages\\sklearn\\linear_model\\sag.py:286: ConvergenceWarning: The max_iter was reached which means the coef_ did not converge\n",
      "  \"the coef_ did not converge\", ConvergenceWarning)\n",
      "C:\\Users\\zhanghui\\Anaconda3\\lib\\site-packages\\sklearn\\linear_model\\sag.py:286: ConvergenceWarning: The max_iter was reached which means the coef_ did not converge\n",
      "  \"the coef_ did not converge\", ConvergenceWarning)\n",
      "C:\\Users\\zhanghui\\Anaconda3\\lib\\site-packages\\sklearn\\linear_model\\sag.py:286: ConvergenceWarning: The max_iter was reached which means the coef_ did not converge\n",
      "  \"the coef_ did not converge\", ConvergenceWarning)\n",
      "C:\\Users\\zhanghui\\Anaconda3\\lib\\site-packages\\sklearn\\linear_model\\sag.py:286: ConvergenceWarning: The max_iter was reached which means the coef_ did not converge\n",
      "  \"the coef_ did not converge\", ConvergenceWarning)\n",
      "C:\\Users\\zhanghui\\Anaconda3\\lib\\site-packages\\sklearn\\linear_model\\sag.py:286: ConvergenceWarning: The max_iter was reached which means the coef_ did not converge\n",
      "  \"the coef_ did not converge\", ConvergenceWarning)\n",
      "C:\\Users\\zhanghui\\Anaconda3\\lib\\site-packages\\sklearn\\linear_model\\sag.py:286: ConvergenceWarning: The max_iter was reached which means the coef_ did not converge\n",
      "  \"the coef_ did not converge\", ConvergenceWarning)\n",
      "C:\\Users\\zhanghui\\Anaconda3\\lib\\site-packages\\sklearn\\linear_model\\sag.py:286: ConvergenceWarning: The max_iter was reached which means the coef_ did not converge\n",
      "  \"the coef_ did not converge\", ConvergenceWarning)\n",
      "C:\\Users\\zhanghui\\Anaconda3\\lib\\site-packages\\sklearn\\linear_model\\sag.py:286: ConvergenceWarning: The max_iter was reached which means the coef_ did not converge\n",
      "  \"the coef_ did not converge\", ConvergenceWarning)\n",
      "C:\\Users\\zhanghui\\Anaconda3\\lib\\site-packages\\sklearn\\linear_model\\sag.py:286: ConvergenceWarning: The max_iter was reached which means the coef_ did not converge\n",
      "  \"the coef_ did not converge\", ConvergenceWarning)\n",
      "C:\\Users\\zhanghui\\Anaconda3\\lib\\site-packages\\sklearn\\linear_model\\sag.py:286: ConvergenceWarning: The max_iter was reached which means the coef_ did not converge\n",
      "  \"the coef_ did not converge\", ConvergenceWarning)\n",
      "C:\\Users\\zhanghui\\Anaconda3\\lib\\site-packages\\sklearn\\linear_model\\sag.py:286: ConvergenceWarning: The max_iter was reached which means the coef_ did not converge\n",
      "  \"the coef_ did not converge\", ConvergenceWarning)\n",
      "C:\\Users\\zhanghui\\Anaconda3\\lib\\site-packages\\sklearn\\linear_model\\sag.py:286: ConvergenceWarning: The max_iter was reached which means the coef_ did not converge\n",
      "  \"the coef_ did not converge\", ConvergenceWarning)\n",
      "C:\\Users\\zhanghui\\Anaconda3\\lib\\site-packages\\sklearn\\linear_model\\sag.py:286: ConvergenceWarning: The max_iter was reached which means the coef_ did not converge\n",
      "  \"the coef_ did not converge\", ConvergenceWarning)\n",
      "C:\\Users\\zhanghui\\Anaconda3\\lib\\site-packages\\sklearn\\linear_model\\sag.py:286: ConvergenceWarning: The max_iter was reached which means the coef_ did not converge\n",
      "  \"the coef_ did not converge\", ConvergenceWarning)\n",
      "C:\\Users\\zhanghui\\Anaconda3\\lib\\site-packages\\sklearn\\linear_model\\sag.py:286: ConvergenceWarning: The max_iter was reached which means the coef_ did not converge\n",
      "  \"the coef_ did not converge\", ConvergenceWarning)\n",
      "C:\\Users\\zhanghui\\Anaconda3\\lib\\site-packages\\sklearn\\linear_model\\sag.py:286: ConvergenceWarning: The max_iter was reached which means the coef_ did not converge\n",
      "  \"the coef_ did not converge\", ConvergenceWarning)\n",
      "C:\\Users\\zhanghui\\Anaconda3\\lib\\site-packages\\sklearn\\linear_model\\sag.py:286: ConvergenceWarning: The max_iter was reached which means the coef_ did not converge\n",
      "  \"the coef_ did not converge\", ConvergenceWarning)\n",
      "C:\\Users\\zhanghui\\Anaconda3\\lib\\site-packages\\sklearn\\linear_model\\sag.py:286: ConvergenceWarning: The max_iter was reached which means the coef_ did not converge\n",
      "  \"the coef_ did not converge\", ConvergenceWarning)\n",
      "C:\\Users\\zhanghui\\Anaconda3\\lib\\site-packages\\sklearn\\linear_model\\sag.py:286: ConvergenceWarning: The max_iter was reached which means the coef_ did not converge\n",
      "  \"the coef_ did not converge\", ConvergenceWarning)\n",
      "C:\\Users\\zhanghui\\Anaconda3\\lib\\site-packages\\sklearn\\linear_model\\sag.py:286: ConvergenceWarning: The max_iter was reached which means the coef_ did not converge\n",
      "  \"the coef_ did not converge\", ConvergenceWarning)\n",
      "C:\\Users\\zhanghui\\Anaconda3\\lib\\site-packages\\sklearn\\linear_model\\sag.py:286: ConvergenceWarning: The max_iter was reached which means the coef_ did not converge\n",
      "  \"the coef_ did not converge\", ConvergenceWarning)\n",
      "C:\\Users\\zhanghui\\Anaconda3\\lib\\site-packages\\sklearn\\linear_model\\sag.py:286: ConvergenceWarning: The max_iter was reached which means the coef_ did not converge\n",
      "  \"the coef_ did not converge\", ConvergenceWarning)\n",
      "C:\\Users\\zhanghui\\Anaconda3\\lib\\site-packages\\sklearn\\linear_model\\sag.py:286: ConvergenceWarning: The max_iter was reached which means the coef_ did not converge\n",
      "  \"the coef_ did not converge\", ConvergenceWarning)\n",
      "C:\\Users\\zhanghui\\Anaconda3\\lib\\site-packages\\sklearn\\linear_model\\sag.py:286: ConvergenceWarning: The max_iter was reached which means the coef_ did not converge\n",
      "  \"the coef_ did not converge\", ConvergenceWarning)\n",
      "C:\\Users\\zhanghui\\Anaconda3\\lib\\site-packages\\sklearn\\linear_model\\sag.py:286: ConvergenceWarning: The max_iter was reached which means the coef_ did not converge\n",
      "  \"the coef_ did not converge\", ConvergenceWarning)\n",
      "C:\\Users\\zhanghui\\Anaconda3\\lib\\site-packages\\sklearn\\linear_model\\sag.py:286: ConvergenceWarning: The max_iter was reached which means the coef_ did not converge\n",
      "  \"the coef_ did not converge\", ConvergenceWarning)\n",
      "C:\\Users\\zhanghui\\Anaconda3\\lib\\site-packages\\sklearn\\linear_model\\sag.py:286: ConvergenceWarning: The max_iter was reached which means the coef_ did not converge\n",
      "  \"the coef_ did not converge\", ConvergenceWarning)\n",
      "C:\\Users\\zhanghui\\Anaconda3\\lib\\site-packages\\sklearn\\linear_model\\sag.py:286: ConvergenceWarning: The max_iter was reached which means the coef_ did not converge\n",
      "  \"the coef_ did not converge\", ConvergenceWarning)\n",
      "C:\\Users\\zhanghui\\Anaconda3\\lib\\site-packages\\sklearn\\linear_model\\sag.py:286: ConvergenceWarning: The max_iter was reached which means the coef_ did not converge\n",
      "  \"the coef_ did not converge\", ConvergenceWarning)\n",
      "C:\\Users\\zhanghui\\Anaconda3\\lib\\site-packages\\sklearn\\linear_model\\sag.py:286: ConvergenceWarning: The max_iter was reached which means the coef_ did not converge\n",
      "  \"the coef_ did not converge\", ConvergenceWarning)\n",
      "C:\\Users\\zhanghui\\Anaconda3\\lib\\site-packages\\sklearn\\linear_model\\sag.py:286: ConvergenceWarning: The max_iter was reached which means the coef_ did not converge\n",
      "  \"the coef_ did not converge\", ConvergenceWarning)\n",
      "C:\\Users\\zhanghui\\Anaconda3\\lib\\site-packages\\sklearn\\linear_model\\sag.py:286: ConvergenceWarning: The max_iter was reached which means the coef_ did not converge\n",
      "  \"the coef_ did not converge\", ConvergenceWarning)\n",
      "C:\\Users\\zhanghui\\Anaconda3\\lib\\site-packages\\sklearn\\linear_model\\sag.py:286: ConvergenceWarning: The max_iter was reached which means the coef_ did not converge\n",
      "  \"the coef_ did not converge\", ConvergenceWarning)\n",
      "C:\\Users\\zhanghui\\Anaconda3\\lib\\site-packages\\sklearn\\linear_model\\sag.py:286: ConvergenceWarning: The max_iter was reached which means the coef_ did not converge\n",
      "  \"the coef_ did not converge\", ConvergenceWarning)\n",
      "C:\\Users\\zhanghui\\Anaconda3\\lib\\site-packages\\sklearn\\linear_model\\sag.py:286: ConvergenceWarning: The max_iter was reached which means the coef_ did not converge\n",
      "  \"the coef_ did not converge\", ConvergenceWarning)\n",
      "C:\\Users\\zhanghui\\Anaconda3\\lib\\site-packages\\sklearn\\linear_model\\sag.py:286: ConvergenceWarning: The max_iter was reached which means the coef_ did not converge\n",
      "  \"the coef_ did not converge\", ConvergenceWarning)\n",
      "C:\\Users\\zhanghui\\Anaconda3\\lib\\site-packages\\sklearn\\linear_model\\sag.py:286: ConvergenceWarning: The max_iter was reached which means the coef_ did not converge\n",
      "  \"the coef_ did not converge\", ConvergenceWarning)\n",
      "C:\\Users\\zhanghui\\Anaconda3\\lib\\site-packages\\sklearn\\linear_model\\sag.py:286: ConvergenceWarning: The max_iter was reached which means the coef_ did not converge\n",
      "  \"the coef_ did not converge\", ConvergenceWarning)\n",
      "C:\\Users\\zhanghui\\Anaconda3\\lib\\site-packages\\sklearn\\linear_model\\sag.py:286: ConvergenceWarning: The max_iter was reached which means the coef_ did not converge\n",
      "  \"the coef_ did not converge\", ConvergenceWarning)\n",
      "C:\\Users\\zhanghui\\Anaconda3\\lib\\site-packages\\sklearn\\linear_model\\sag.py:286: ConvergenceWarning: The max_iter was reached which means the coef_ did not converge\n",
      "  \"the coef_ did not converge\", ConvergenceWarning)\n",
      "C:\\Users\\zhanghui\\Anaconda3\\lib\\site-packages\\sklearn\\linear_model\\sag.py:286: ConvergenceWarning: The max_iter was reached which means the coef_ did not converge\n",
      "  \"the coef_ did not converge\", ConvergenceWarning)\n",
      "C:\\Users\\zhanghui\\Anaconda3\\lib\\site-packages\\sklearn\\linear_model\\sag.py:286: ConvergenceWarning: The max_iter was reached which means the coef_ did not converge\n",
      "  \"the coef_ did not converge\", ConvergenceWarning)\n",
      "C:\\Users\\zhanghui\\Anaconda3\\lib\\site-packages\\sklearn\\linear_model\\sag.py:286: ConvergenceWarning: The max_iter was reached which means the coef_ did not converge\n",
      "  \"the coef_ did not converge\", ConvergenceWarning)\n",
      "C:\\Users\\zhanghui\\Anaconda3\\lib\\site-packages\\sklearn\\linear_model\\sag.py:286: ConvergenceWarning: The max_iter was reached which means the coef_ did not converge\n",
      "  \"the coef_ did not converge\", ConvergenceWarning)\n",
      "C:\\Users\\zhanghui\\Anaconda3\\lib\\site-packages\\sklearn\\linear_model\\sag.py:286: ConvergenceWarning: The max_iter was reached which means the coef_ did not converge\n",
      "  \"the coef_ did not converge\", ConvergenceWarning)\n",
      "C:\\Users\\zhanghui\\Anaconda3\\lib\\site-packages\\sklearn\\linear_model\\sag.py:286: ConvergenceWarning: The max_iter was reached which means the coef_ did not converge\n",
      "  \"the coef_ did not converge\", ConvergenceWarning)\n",
      "C:\\Users\\zhanghui\\Anaconda3\\lib\\site-packages\\sklearn\\linear_model\\sag.py:286: ConvergenceWarning: The max_iter was reached which means the coef_ did not converge\n",
      "  \"the coef_ did not converge\", ConvergenceWarning)\n",
      "C:\\Users\\zhanghui\\Anaconda3\\lib\\site-packages\\sklearn\\linear_model\\sag.py:286: ConvergenceWarning: The max_iter was reached which means the coef_ did not converge\n",
      "  \"the coef_ did not converge\", ConvergenceWarning)\n",
      "C:\\Users\\zhanghui\\Anaconda3\\lib\\site-packages\\sklearn\\linear_model\\sag.py:286: ConvergenceWarning: The max_iter was reached which means the coef_ did not converge\n",
      "  \"the coef_ did not converge\", ConvergenceWarning)\n",
      "C:\\Users\\zhanghui\\Anaconda3\\lib\\site-packages\\sklearn\\linear_model\\sag.py:286: ConvergenceWarning: The max_iter was reached which means the coef_ did not converge\n",
      "  \"the coef_ did not converge\", ConvergenceWarning)\n",
      "C:\\Users\\zhanghui\\Anaconda3\\lib\\site-packages\\sklearn\\linear_model\\sag.py:286: ConvergenceWarning: The max_iter was reached which means the coef_ did not converge\n",
      "  \"the coef_ did not converge\", ConvergenceWarning)\n",
      "C:\\Users\\zhanghui\\Anaconda3\\lib\\site-packages\\sklearn\\linear_model\\sag.py:286: ConvergenceWarning: The max_iter was reached which means the coef_ did not converge\n",
      "  \"the coef_ did not converge\", ConvergenceWarning)\n",
      "C:\\Users\\zhanghui\\Anaconda3\\lib\\site-packages\\sklearn\\linear_model\\sag.py:286: ConvergenceWarning: The max_iter was reached which means the coef_ did not converge\n",
      "  \"the coef_ did not converge\", ConvergenceWarning)\n",
      "C:\\Users\\zhanghui\\Anaconda3\\lib\\site-packages\\sklearn\\linear_model\\sag.py:286: ConvergenceWarning: The max_iter was reached which means the coef_ did not converge\n",
      "  \"the coef_ did not converge\", ConvergenceWarning)\n",
      "C:\\Users\\zhanghui\\Anaconda3\\lib\\site-packages\\sklearn\\linear_model\\sag.py:286: ConvergenceWarning: The max_iter was reached which means the coef_ did not converge\n",
      "  \"the coef_ did not converge\", ConvergenceWarning)\n",
      "C:\\Users\\zhanghui\\Anaconda3\\lib\\site-packages\\sklearn\\linear_model\\sag.py:286: ConvergenceWarning: The max_iter was reached which means the coef_ did not converge\n",
      "  \"the coef_ did not converge\", ConvergenceWarning)\n",
      "C:\\Users\\zhanghui\\Anaconda3\\lib\\site-packages\\sklearn\\linear_model\\sag.py:286: ConvergenceWarning: The max_iter was reached which means the coef_ did not converge\n",
      "  \"the coef_ did not converge\", ConvergenceWarning)\n",
      "C:\\Users\\zhanghui\\Anaconda3\\lib\\site-packages\\sklearn\\linear_model\\sag.py:286: ConvergenceWarning: The max_iter was reached which means the coef_ did not converge\n",
      "  \"the coef_ did not converge\", ConvergenceWarning)\n",
      "C:\\Users\\zhanghui\\Anaconda3\\lib\\site-packages\\sklearn\\linear_model\\sag.py:286: ConvergenceWarning: The max_iter was reached which means the coef_ did not converge\n",
      "  \"the coef_ did not converge\", ConvergenceWarning)\n",
      "C:\\Users\\zhanghui\\Anaconda3\\lib\\site-packages\\sklearn\\linear_model\\sag.py:286: ConvergenceWarning: The max_iter was reached which means the coef_ did not converge\n",
      "  \"the coef_ did not converge\", ConvergenceWarning)\n",
      "C:\\Users\\zhanghui\\Anaconda3\\lib\\site-packages\\sklearn\\linear_model\\sag.py:286: ConvergenceWarning: The max_iter was reached which means the coef_ did not converge\n",
      "  \"the coef_ did not converge\", ConvergenceWarning)\n",
      "C:\\Users\\zhanghui\\Anaconda3\\lib\\site-packages\\sklearn\\linear_model\\sag.py:286: ConvergenceWarning: The max_iter was reached which means the coef_ did not converge\n",
      "  \"the coef_ did not converge\", ConvergenceWarning)\n",
      "C:\\Users\\zhanghui\\Anaconda3\\lib\\site-packages\\sklearn\\linear_model\\sag.py:286: ConvergenceWarning: The max_iter was reached which means the coef_ did not converge\n",
      "  \"the coef_ did not converge\", ConvergenceWarning)\n",
      "C:\\Users\\zhanghui\\Anaconda3\\lib\\site-packages\\sklearn\\linear_model\\sag.py:286: ConvergenceWarning: The max_iter was reached which means the coef_ did not converge\n",
      "  \"the coef_ did not converge\", ConvergenceWarning)\n",
      "C:\\Users\\zhanghui\\Anaconda3\\lib\\site-packages\\sklearn\\linear_model\\sag.py:286: ConvergenceWarning: The max_iter was reached which means the coef_ did not converge\n",
      "  \"the coef_ did not converge\", ConvergenceWarning)\n",
      "C:\\Users\\zhanghui\\Anaconda3\\lib\\site-packages\\sklearn\\linear_model\\sag.py:286: ConvergenceWarning: The max_iter was reached which means the coef_ did not converge\n",
      "  \"the coef_ did not converge\", ConvergenceWarning)\n",
      "C:\\Users\\zhanghui\\Anaconda3\\lib\\site-packages\\sklearn\\linear_model\\sag.py:286: ConvergenceWarning: The max_iter was reached which means the coef_ did not converge\n",
      "  \"the coef_ did not converge\", ConvergenceWarning)\n",
      "C:\\Users\\zhanghui\\Anaconda3\\lib\\site-packages\\sklearn\\linear_model\\sag.py:286: ConvergenceWarning: The max_iter was reached which means the coef_ did not converge\n",
      "  \"the coef_ did not converge\", ConvergenceWarning)\n",
      "C:\\Users\\zhanghui\\Anaconda3\\lib\\site-packages\\sklearn\\linear_model\\sag.py:286: ConvergenceWarning: The max_iter was reached which means the coef_ did not converge\n",
      "  \"the coef_ did not converge\", ConvergenceWarning)\n",
      "C:\\Users\\zhanghui\\Anaconda3\\lib\\site-packages\\sklearn\\linear_model\\sag.py:286: ConvergenceWarning: The max_iter was reached which means the coef_ did not converge\n",
      "  \"the coef_ did not converge\", ConvergenceWarning)\n",
      "C:\\Users\\zhanghui\\Anaconda3\\lib\\site-packages\\sklearn\\linear_model\\sag.py:286: ConvergenceWarning: The max_iter was reached which means the coef_ did not converge\n",
      "  \"the coef_ did not converge\", ConvergenceWarning)\n",
      "C:\\Users\\zhanghui\\Anaconda3\\lib\\site-packages\\sklearn\\linear_model\\sag.py:286: ConvergenceWarning: The max_iter was reached which means the coef_ did not converge\n",
      "  \"the coef_ did not converge\", ConvergenceWarning)\n",
      "C:\\Users\\zhanghui\\Anaconda3\\lib\\site-packages\\sklearn\\linear_model\\sag.py:286: ConvergenceWarning: The max_iter was reached which means the coef_ did not converge\n",
      "  \"the coef_ did not converge\", ConvergenceWarning)\n",
      "C:\\Users\\zhanghui\\Anaconda3\\lib\\site-packages\\sklearn\\linear_model\\sag.py:286: ConvergenceWarning: The max_iter was reached which means the coef_ did not converge\n",
      "  \"the coef_ did not converge\", ConvergenceWarning)\n",
      "C:\\Users\\zhanghui\\Anaconda3\\lib\\site-packages\\sklearn\\linear_model\\sag.py:286: ConvergenceWarning: The max_iter was reached which means the coef_ did not converge\n",
      "  \"the coef_ did not converge\", ConvergenceWarning)\n",
      "C:\\Users\\zhanghui\\Anaconda3\\lib\\site-packages\\sklearn\\linear_model\\sag.py:286: ConvergenceWarning: The max_iter was reached which means the coef_ did not converge\n",
      "  \"the coef_ did not converge\", ConvergenceWarning)\n",
      "C:\\Users\\zhanghui\\Anaconda3\\lib\\site-packages\\sklearn\\linear_model\\sag.py:286: ConvergenceWarning: The max_iter was reached which means the coef_ did not converge\n",
      "  \"the coef_ did not converge\", ConvergenceWarning)\n",
      "C:\\Users\\zhanghui\\Anaconda3\\lib\\site-packages\\sklearn\\linear_model\\sag.py:286: ConvergenceWarning: The max_iter was reached which means the coef_ did not converge\n",
      "  \"the coef_ did not converge\", ConvergenceWarning)\n",
      "C:\\Users\\zhanghui\\Anaconda3\\lib\\site-packages\\sklearn\\linear_model\\sag.py:286: ConvergenceWarning: The max_iter was reached which means the coef_ did not converge\n",
      "  \"the coef_ did not converge\", ConvergenceWarning)\n",
      "C:\\Users\\zhanghui\\Anaconda3\\lib\\site-packages\\sklearn\\linear_model\\sag.py:286: ConvergenceWarning: The max_iter was reached which means the coef_ did not converge\n",
      "  \"the coef_ did not converge\", ConvergenceWarning)\n",
      "C:\\Users\\zhanghui\\Anaconda3\\lib\\site-packages\\sklearn\\linear_model\\sag.py:286: ConvergenceWarning: The max_iter was reached which means the coef_ did not converge\n",
      "  \"the coef_ did not converge\", ConvergenceWarning)\n",
      "C:\\Users\\zhanghui\\Anaconda3\\lib\\site-packages\\sklearn\\linear_model\\sag.py:286: ConvergenceWarning: The max_iter was reached which means the coef_ did not converge\n",
      "  \"the coef_ did not converge\", ConvergenceWarning)\n",
      "C:\\Users\\zhanghui\\Anaconda3\\lib\\site-packages\\sklearn\\linear_model\\sag.py:286: ConvergenceWarning: The max_iter was reached which means the coef_ did not converge\n",
      "  \"the coef_ did not converge\", ConvergenceWarning)\n",
      "C:\\Users\\zhanghui\\Anaconda3\\lib\\site-packages\\sklearn\\linear_model\\sag.py:286: ConvergenceWarning: The max_iter was reached which means the coef_ did not converge\n",
      "  \"the coef_ did not converge\", ConvergenceWarning)\n",
      "C:\\Users\\zhanghui\\Anaconda3\\lib\\site-packages\\sklearn\\linear_model\\sag.py:286: ConvergenceWarning: The max_iter was reached which means the coef_ did not converge\n",
      "  \"the coef_ did not converge\", ConvergenceWarning)\n",
      "C:\\Users\\zhanghui\\Anaconda3\\lib\\site-packages\\sklearn\\linear_model\\sag.py:286: ConvergenceWarning: The max_iter was reached which means the coef_ did not converge\n",
      "  \"the coef_ did not converge\", ConvergenceWarning)\n",
      "C:\\Users\\zhanghui\\Anaconda3\\lib\\site-packages\\sklearn\\linear_model\\sag.py:286: ConvergenceWarning: The max_iter was reached which means the coef_ did not converge\n",
      "  \"the coef_ did not converge\", ConvergenceWarning)\n",
      "C:\\Users\\zhanghui\\Anaconda3\\lib\\site-packages\\sklearn\\linear_model\\sag.py:286: ConvergenceWarning: The max_iter was reached which means the coef_ did not converge\n",
      "  \"the coef_ did not converge\", ConvergenceWarning)\n",
      "C:\\Users\\zhanghui\\Anaconda3\\lib\\site-packages\\sklearn\\linear_model\\sag.py:286: ConvergenceWarning: The max_iter was reached which means the coef_ did not converge\n",
      "  \"the coef_ did not converge\", ConvergenceWarning)\n",
      "C:\\Users\\zhanghui\\Anaconda3\\lib\\site-packages\\sklearn\\linear_model\\sag.py:286: ConvergenceWarning: The max_iter was reached which means the coef_ did not converge\n",
      "  \"the coef_ did not converge\", ConvergenceWarning)\n",
      "C:\\Users\\zhanghui\\Anaconda3\\lib\\site-packages\\sklearn\\linear_model\\sag.py:286: ConvergenceWarning: The max_iter was reached which means the coef_ did not converge\n",
      "  \"the coef_ did not converge\", ConvergenceWarning)\n",
      "C:\\Users\\zhanghui\\Anaconda3\\lib\\site-packages\\sklearn\\linear_model\\sag.py:286: ConvergenceWarning: The max_iter was reached which means the coef_ did not converge\n",
      "  \"the coef_ did not converge\", ConvergenceWarning)\n",
      "C:\\Users\\zhanghui\\Anaconda3\\lib\\site-packages\\sklearn\\linear_model\\sag.py:286: ConvergenceWarning: The max_iter was reached which means the coef_ did not converge\n",
      "  \"the coef_ did not converge\", ConvergenceWarning)\n",
      "C:\\Users\\zhanghui\\Anaconda3\\lib\\site-packages\\sklearn\\linear_model\\sag.py:286: ConvergenceWarning: The max_iter was reached which means the coef_ did not converge\n",
      "  \"the coef_ did not converge\", ConvergenceWarning)\n",
      "C:\\Users\\zhanghui\\Anaconda3\\lib\\site-packages\\sklearn\\linear_model\\sag.py:286: ConvergenceWarning: The max_iter was reached which means the coef_ did not converge\n",
      "  \"the coef_ did not converge\", ConvergenceWarning)\n",
      "C:\\Users\\zhanghui\\Anaconda3\\lib\\site-packages\\sklearn\\linear_model\\sag.py:286: ConvergenceWarning: The max_iter was reached which means the coef_ did not converge\n",
      "  \"the coef_ did not converge\", ConvergenceWarning)\n",
      "C:\\Users\\zhanghui\\Anaconda3\\lib\\site-packages\\sklearn\\linear_model\\sag.py:286: ConvergenceWarning: The max_iter was reached which means the coef_ did not converge\n",
      "  \"the coef_ did not converge\", ConvergenceWarning)\n",
      "C:\\Users\\zhanghui\\Anaconda3\\lib\\site-packages\\sklearn\\linear_model\\sag.py:286: ConvergenceWarning: The max_iter was reached which means the coef_ did not converge\n",
      "  \"the coef_ did not converge\", ConvergenceWarning)\n"
     ]
    }
   ],
   "source": [
    "#crossvalidation\n",
    "groups = np.array(data['RecordID'])\n",
    "gkf = GroupKFold(n_splits=60)\n",
    "gkf.split(X_test, y_test, groups)\n",
    "\n",
    "#LR on anural\n",
    "lr = LogisticRegressionCV()\n",
    "\n",
    "tuned_parameters = {'Cs': [5, 10],\n",
    "                     'solver': ['lbfgs','newton-cg','sag']}\n",
    "\n",
    "clf = GridSearchCV(estimator=lr, \n",
    "                   param_grid=tuned_parameters, \n",
    "                   cv=list(gkf.split(X_test, \n",
    "                                     y_test, \n",
    "                                     groups)))\n",
    "\n",
    "clf.fit(X_test, y_test)\n",
    "\n",
    "predicted = cross_val_predict(clf.best_estimator_,\n",
    "                              X_test, \n",
    "                              y_test, \n",
    "                              cv=list(gkf.split(X_test, \n",
    "                                            y_test, \n",
    "                                            groups)))\n"
   ]
  },
  {
   "cell_type": "code",
   "execution_count": 8,
   "metadata": {
    "collapsed": false
   },
   "outputs": [
    {
     "name": "stdout",
     "output_type": "stream",
     "text": [
      "0.00994773270333\n",
      "0.0792413062928\n",
      "0.0409135923165\n",
      "0.869897368687\n",
      "-4.65342864753\n",
      "-2.51288036394\n",
      "-4.25547266103\n",
      "3.32628268507\n"
     ]
    }
   ],
   "source": [
    "index = list()\n",
    "for i in range(len(predicted)):\n",
    "    if predicted[i] == 'Leptodactylidae':\n",
    "        index.append(i)\n",
    "                \n",
    "for i in range(4):\n",
    "    print(clf.best_estimator_.predict_proba(X_test)[index,i].mean())\n",
    "    \n",
    "for i in range(4):\n",
    "    print(clf.best_estimator_.decision_function(X_test)[index,i].mean())"
   ]
  },
  {
   "cell_type": "code",
   "execution_count": 467,
   "metadata": {
    "collapsed": false
   },
   "outputs": [],
   "source": []
  },
  {
   "cell_type": "code",
   "execution_count": 486,
   "metadata": {
    "collapsed": false
   },
   "outputs": [
    {
     "data": {
      "text/plain": [
       "(0, 16, 1907, 242, 2165)"
      ]
     },
     "execution_count": 486,
     "metadata": {},
     "output_type": "execute_result"
    }
   ],
   "source": [
    "#matrix on family level\n",
    "result = np.c_[y_test, predicted]\n",
    "\n",
    "Bufonidae = 0\n",
    "Dendrobatidae = 0\n",
    "Hylidae = 0\n",
    "Leptodactylidae = 0\n",
    "total = 0\n",
    "\n",
    "for i in range(len(y_test)):\n",
    "    if result[:, 0][i] == 'Hylidae':\n",
    "        total += 1\n",
    "        if result[:, 1][i] == 'Bufonidae':\n",
    "            Bufonidae += 1\n",
    "        if result[:, 1][i] == 'Dendrobatidae':\n",
    "            Dendrobatidae += 1\n",
    "        if result[:, 1][i] == 'Hylidae':\n",
    "            Hylidae += 1\n",
    "        if result[:, 1][i] == 'Leptodactylidae':\n",
    "            Leptodactylidae += 1\n",
    "\n",
    "\n",
    "Bufonidae, Dendrobatidae, Hylidae, Leptodactylidae, total"
   ]
  },
  {
   "cell_type": "code",
   "execution_count": 478,
   "metadata": {
    "collapsed": false
   },
   "outputs": [
    {
     "name": "stdout",
     "output_type": "stream",
     "text": [
      "0.0109487365237\n",
      "0.0876132159065\n",
      "0.316515336821\n",
      "0.584922710748\n"
     ]
    }
   ],
   "source": [
    "for i in range(4):\n",
    "    print(lr.predict_proba(X_test)[:,i].mean())"
   ]
  },
  {
   "cell_type": "code",
   "execution_count": 22,
   "metadata": {
    "collapsed": false
   },
   "outputs": [
    {
     "data": {
      "text/plain": [
       "(7195, 26)"
      ]
     },
     "execution_count": 22,
     "metadata": {},
     "output_type": "execute_result"
    }
   ],
   "source": [
    "data = np.array(data)\n",
    "data.shape"
   ]
  },
  {
   "cell_type": "code",
   "execution_count": 64,
   "metadata": {
    "collapsed": true
   },
   "outputs": [],
   "source": [
    "X_Leptodactylidae = list()\n",
    "for i in range(len(predicted)):\n",
    "    if predicted[i] == 'Leptodactylidae':\n",
    "        X_Leptodactylidae.append(data[i])        \n",
    "X_Leptodactylidae = np.array(X_Leptodactylidae)\n",
    "y_Leptodactylidae = np.array(X_Leptodactylidae[:,23])\n",
    "\n",
    "X_Dendrobatidae = list()\n",
    "for i in range(len(predicted)):\n",
    "    if predicted[i] == 'Dendrobatidae':\n",
    "        X_Dendrobatidae.append(data[i])        \n",
    "X_Dendrobatidae = np.array(X_Dendrobatidae)\n",
    "y_Dendrobatidae = np.array(X_Dendrobatidae[:,23])\n",
    "\n",
    "X_Hylidae = list()\n",
    "for i in range(len(predicted)):\n",
    "    if predicted[i] == 'Hylidae':\n",
    "        X_Hylidae.append(data[i])\n",
    "X_Hylidae = np.array(X_Hylidae)\n",
    "y_Hylidae = np.array(X_Hylidae[:,23])\n",
    "\n",
    "X_Bufonidae = list()\n",
    "for i in range(len(predicted)):\n",
    "    if predicted[i] == 'Bufonidae':\n",
    "        X_Bufonidae.append(data[i])        \n",
    "X_Bufonidae = np.array(X_Bufonidae)\n",
    "y_Bufonidae = np.array(X_Bufonidae[:,23])\n"
   ]
  },
  {
   "cell_type": "code",
   "execution_count": 436,
   "metadata": {
    "collapsed": false
   },
   "outputs": [
    {
     "name": "stdout",
     "output_type": "stream",
     "text": [
      "['Adenomera' 'Ameerega' 'Dendropsophus' 'Hypsiboas' 'Leptodactylus'\n",
      " 'Osteocephalus' 'Rhinella' 'Scinax']\n",
      "10\n"
     ]
    }
   ],
   "source": [
    "#data prepare\n",
    "print(np.unique(X_Bufonidae[:,23]))\n",
    "X_Bufonidae_test = X_Bufonidae[:,:22]\n",
    "\n",
    "#group prepare\n",
    "print(np.unique(X_Bufonidae[:,25]).size)\n",
    "groups_Bufonidae = np.array(X_Bufonidae[:,25])"
   ]
  },
  {
   "cell_type": "code",
   "execution_count": 437,
   "metadata": {
    "collapsed": false
   },
   "outputs": [],
   "source": [
    "#crossvalidation\n",
    "gkf = GroupKFold(n_splits=10)\n",
    "gkf.split(X_Bufonidae_test, y_Bufonidae, groups_Bufonidae)\n",
    "\n",
    "#SVM on genus family\n",
    "lr = LogisticRegressionCV(cv=list(gkf.split(X_Bufonidae_test, \n",
    "                                            y_Bufonidae, \n",
    "                                            groups_Bufonidae)))\n",
    "\n",
    "#tuned_parameters = {'solver': ('newton-cg', 'lbfgs', 'sag')}\n",
    "\n",
    "#clf = GridSearchCV(estimator=lr, \n",
    "#                   param_grid=tuned_parameters, \n",
    "#                   cv=list(gkf.split(X_Bufonidae_test, \n",
    "#                                     y_Bufonidae, \n",
    "#                                     groups_Bufonidae)))\n",
    "\n",
    "\n",
    "lr.fit(X_Bufonidae_test, y_Bufonidae)\n",
    "\n",
    "predicted_Bufonidae = lr.predict(X_Bufonidae_test)"
   ]
  },
  {
   "cell_type": "code",
   "execution_count": 439,
   "metadata": {
    "collapsed": false
   },
   "outputs": [
    {
     "name": "stdout",
     "output_type": "stream",
     "text": [
      "0.0831234911866\n",
      "0.0554160830737\n",
      "0.0831250757355\n",
      "0.0025162460393\n",
      "0.0277057761601\n",
      "0.055415976351\n",
      "0.609573266128\n",
      "0.0831240853255\n",
      "-2.48490950839\n",
      "-2.91776555394\n",
      "-2.48488908206\n",
      "-7.21662955661\n",
      "-3.63766498667\n",
      "-2.91776754699\n",
      "0.257826637736\n",
      "-2.48490186106\n"
     ]
    }
   ],
   "source": [
    "index = list()\n",
    "for i in range(len(predicted_Bufonidae)):\n",
    "    if predicted_Bufonidae[i] == 'Rhinella':\n",
    "        index.append(i)\n",
    "                \n",
    "for i in range(8):\n",
    "    print(lr.predict_proba(X_Bufonidae_test)[index,i].mean())\n",
    "    \n",
    "for i in range(8):\n",
    "    print(lr.decision_function(X_Bufonidae_test)[index,i].mean())"
   ]
  },
  {
   "cell_type": "code",
   "execution_count": null,
   "metadata": {
    "collapsed": true
   },
   "outputs": [],
   "source": []
  },
  {
   "cell_type": "code",
   "execution_count": 73,
   "metadata": {
    "collapsed": false
   },
   "outputs": [
    {
     "name": "stdout",
     "output_type": "stream",
     "text": [
      "0.0798527619662\n",
      "0.0532353479982\n",
      "0.079853524132\n",
      "0.0417677139944\n",
      "0.026615609096\n",
      "0.0532354440952\n",
      "0.585586552913\n",
      "0.0798530458052\n"
     ]
    }
   ],
   "source": [
    "for i in range(8):\n",
    "    print(lr.predict_proba(X_Bufonidae_test)[:,i].mean())"
   ]
  },
  {
   "cell_type": "code",
   "execution_count": 434,
   "metadata": {
    "collapsed": false
   },
   "outputs": [
    {
     "name": "stdout",
     "output_type": "stream",
     "text": [
      "['Adenomera' 'Ameerega' 'Dendropsophus' 'Hypsiboas' 'Leptodactylus'\n",
      " 'Osteocephalus' 'Rhinella' 'Scinax']\n",
      "48\n"
     ]
    }
   ],
   "source": [
    "#data prepare\n",
    "print(np.unique(X_Hylidae[:,23]))\n",
    "X_Hylidae_test = X_Hylidae[:,:22]\n",
    "\n",
    "#group prepare\n",
    "print(np.unique(X_Hylidae[:,25]).size)\n",
    "groups_Hylidae = np.array(X_Hylidae[:,25])"
   ]
  },
  {
   "cell_type": "code",
   "execution_count": 435,
   "metadata": {
    "collapsed": false
   },
   "outputs": [
    {
     "ename": "KeyboardInterrupt",
     "evalue": "",
     "output_type": "error",
     "traceback": [
      "\u001b[0;31m---------------------------------------------------------------------------\u001b[0m",
      "\u001b[0;31mKeyboardInterrupt\u001b[0m                         Traceback (most recent call last)",
      "\u001b[0;32m<ipython-input-435-984a08286660>\u001b[0m in \u001b[0;36m<module>\u001b[0;34m()\u001b[0m\n\u001b[1;32m      8\u001b[0m                                      groups_Hylidae)))\n\u001b[1;32m      9\u001b[0m \u001b[1;33m\u001b[0m\u001b[0m\n\u001b[0;32m---> 10\u001b[0;31m \u001b[0mlr\u001b[0m\u001b[1;33m.\u001b[0m\u001b[0mfit\u001b[0m\u001b[1;33m(\u001b[0m\u001b[0mX_Hylidae_test\u001b[0m\u001b[1;33m,\u001b[0m \u001b[0my_Hylidae\u001b[0m\u001b[1;33m)\u001b[0m\u001b[1;33m\u001b[0m\u001b[0m\n\u001b[0m\u001b[1;32m     11\u001b[0m \u001b[1;33m\u001b[0m\u001b[0m\n\u001b[1;32m     12\u001b[0m \u001b[0mpredicted_Hylidae\u001b[0m \u001b[1;33m=\u001b[0m \u001b[0mlr\u001b[0m\u001b[1;33m.\u001b[0m\u001b[0mpredict\u001b[0m\u001b[1;33m(\u001b[0m\u001b[0mX_Hylidae_test\u001b[0m\u001b[1;33m)\u001b[0m\u001b[1;33m\u001b[0m\u001b[0m\n",
      "\u001b[0;32mC:\\Users\\zhanghui\\Anaconda3\\lib\\site-packages\\sklearn\\linear_model\\logistic.py\u001b[0m in \u001b[0;36mfit\u001b[0;34m(self, X, y, sample_weight)\u001b[0m\n\u001b[1;32m   1629\u001b[0m                       \u001b[0msample_weight\u001b[0m\u001b[1;33m=\u001b[0m\u001b[0msample_weight\u001b[0m\u001b[1;33m\u001b[0m\u001b[0m\n\u001b[1;32m   1630\u001b[0m                       )\n\u001b[0;32m-> 1631\u001b[0;31m             \u001b[1;32mfor\u001b[0m \u001b[0mlabel\u001b[0m \u001b[1;32min\u001b[0m \u001b[0miter_encoded_labels\u001b[0m\u001b[1;33m\u001b[0m\u001b[0m\n\u001b[0m\u001b[1;32m   1632\u001b[0m             for train, test in folds)\n\u001b[1;32m   1633\u001b[0m \u001b[1;33m\u001b[0m\u001b[0m\n",
      "\u001b[0;32mC:\\Users\\zhanghui\\Anaconda3\\lib\\site-packages\\sklearn\\externals\\joblib\\parallel.py\u001b[0m in \u001b[0;36m__call__\u001b[0;34m(self, iterable)\u001b[0m\n\u001b[1;32m    756\u001b[0m             \u001b[1;31m# was dispatched. In particular this covers the edge\u001b[0m\u001b[1;33m\u001b[0m\u001b[1;33m\u001b[0m\u001b[0m\n\u001b[1;32m    757\u001b[0m             \u001b[1;31m# case of Parallel used with an exhausted iterator.\u001b[0m\u001b[1;33m\u001b[0m\u001b[1;33m\u001b[0m\u001b[0m\n\u001b[0;32m--> 758\u001b[0;31m             \u001b[1;32mwhile\u001b[0m \u001b[0mself\u001b[0m\u001b[1;33m.\u001b[0m\u001b[0mdispatch_one_batch\u001b[0m\u001b[1;33m(\u001b[0m\u001b[0miterator\u001b[0m\u001b[1;33m)\u001b[0m\u001b[1;33m:\u001b[0m\u001b[1;33m\u001b[0m\u001b[0m\n\u001b[0m\u001b[1;32m    759\u001b[0m                 \u001b[0mself\u001b[0m\u001b[1;33m.\u001b[0m\u001b[0m_iterating\u001b[0m \u001b[1;33m=\u001b[0m \u001b[1;32mTrue\u001b[0m\u001b[1;33m\u001b[0m\u001b[0m\n\u001b[1;32m    760\u001b[0m             \u001b[1;32melse\u001b[0m\u001b[1;33m:\u001b[0m\u001b[1;33m\u001b[0m\u001b[0m\n",
      "\u001b[0;32mC:\\Users\\zhanghui\\Anaconda3\\lib\\site-packages\\sklearn\\externals\\joblib\\parallel.py\u001b[0m in \u001b[0;36mdispatch_one_batch\u001b[0;34m(self, iterator)\u001b[0m\n\u001b[1;32m    606\u001b[0m                 \u001b[1;32mreturn\u001b[0m \u001b[1;32mFalse\u001b[0m\u001b[1;33m\u001b[0m\u001b[0m\n\u001b[1;32m    607\u001b[0m             \u001b[1;32melse\u001b[0m\u001b[1;33m:\u001b[0m\u001b[1;33m\u001b[0m\u001b[0m\n\u001b[0;32m--> 608\u001b[0;31m                 \u001b[0mself\u001b[0m\u001b[1;33m.\u001b[0m\u001b[0m_dispatch\u001b[0m\u001b[1;33m(\u001b[0m\u001b[0mtasks\u001b[0m\u001b[1;33m)\u001b[0m\u001b[1;33m\u001b[0m\u001b[0m\n\u001b[0m\u001b[1;32m    609\u001b[0m                 \u001b[1;32mreturn\u001b[0m \u001b[1;32mTrue\u001b[0m\u001b[1;33m\u001b[0m\u001b[0m\n\u001b[1;32m    610\u001b[0m \u001b[1;33m\u001b[0m\u001b[0m\n",
      "\u001b[0;32mC:\\Users\\zhanghui\\Anaconda3\\lib\\site-packages\\sklearn\\externals\\joblib\\parallel.py\u001b[0m in \u001b[0;36m_dispatch\u001b[0;34m(self, batch)\u001b[0m\n\u001b[1;32m    569\u001b[0m         \u001b[0mdispatch_timestamp\u001b[0m \u001b[1;33m=\u001b[0m \u001b[0mtime\u001b[0m\u001b[1;33m.\u001b[0m\u001b[0mtime\u001b[0m\u001b[1;33m(\u001b[0m\u001b[1;33m)\u001b[0m\u001b[1;33m\u001b[0m\u001b[0m\n\u001b[1;32m    570\u001b[0m         \u001b[0mcb\u001b[0m \u001b[1;33m=\u001b[0m \u001b[0mBatchCompletionCallBack\u001b[0m\u001b[1;33m(\u001b[0m\u001b[0mdispatch_timestamp\u001b[0m\u001b[1;33m,\u001b[0m \u001b[0mlen\u001b[0m\u001b[1;33m(\u001b[0m\u001b[0mbatch\u001b[0m\u001b[1;33m)\u001b[0m\u001b[1;33m,\u001b[0m \u001b[0mself\u001b[0m\u001b[1;33m)\u001b[0m\u001b[1;33m\u001b[0m\u001b[0m\n\u001b[0;32m--> 571\u001b[0;31m         \u001b[0mjob\u001b[0m \u001b[1;33m=\u001b[0m \u001b[0mself\u001b[0m\u001b[1;33m.\u001b[0m\u001b[0m_backend\u001b[0m\u001b[1;33m.\u001b[0m\u001b[0mapply_async\u001b[0m\u001b[1;33m(\u001b[0m\u001b[0mbatch\u001b[0m\u001b[1;33m,\u001b[0m \u001b[0mcallback\u001b[0m\u001b[1;33m=\u001b[0m\u001b[0mcb\u001b[0m\u001b[1;33m)\u001b[0m\u001b[1;33m\u001b[0m\u001b[0m\n\u001b[0m\u001b[1;32m    572\u001b[0m         \u001b[0mself\u001b[0m\u001b[1;33m.\u001b[0m\u001b[0m_jobs\u001b[0m\u001b[1;33m.\u001b[0m\u001b[0mappend\u001b[0m\u001b[1;33m(\u001b[0m\u001b[0mjob\u001b[0m\u001b[1;33m)\u001b[0m\u001b[1;33m\u001b[0m\u001b[0m\n\u001b[1;32m    573\u001b[0m \u001b[1;33m\u001b[0m\u001b[0m\n",
      "\u001b[0;32mC:\\Users\\zhanghui\\Anaconda3\\lib\\site-packages\\sklearn\\externals\\joblib\\_parallel_backends.py\u001b[0m in \u001b[0;36mapply_async\u001b[0;34m(self, func, callback)\u001b[0m\n\u001b[1;32m    107\u001b[0m     \u001b[1;32mdef\u001b[0m \u001b[0mapply_async\u001b[0m\u001b[1;33m(\u001b[0m\u001b[0mself\u001b[0m\u001b[1;33m,\u001b[0m \u001b[0mfunc\u001b[0m\u001b[1;33m,\u001b[0m \u001b[0mcallback\u001b[0m\u001b[1;33m=\u001b[0m\u001b[1;32mNone\u001b[0m\u001b[1;33m)\u001b[0m\u001b[1;33m:\u001b[0m\u001b[1;33m\u001b[0m\u001b[0m\n\u001b[1;32m    108\u001b[0m         \u001b[1;34m\"\"\"Schedule a func to be run\"\"\"\u001b[0m\u001b[1;33m\u001b[0m\u001b[0m\n\u001b[0;32m--> 109\u001b[0;31m         \u001b[0mresult\u001b[0m \u001b[1;33m=\u001b[0m \u001b[0mImmediateResult\u001b[0m\u001b[1;33m(\u001b[0m\u001b[0mfunc\u001b[0m\u001b[1;33m)\u001b[0m\u001b[1;33m\u001b[0m\u001b[0m\n\u001b[0m\u001b[1;32m    110\u001b[0m         \u001b[1;32mif\u001b[0m \u001b[0mcallback\u001b[0m\u001b[1;33m:\u001b[0m\u001b[1;33m\u001b[0m\u001b[0m\n\u001b[1;32m    111\u001b[0m             \u001b[0mcallback\u001b[0m\u001b[1;33m(\u001b[0m\u001b[0mresult\u001b[0m\u001b[1;33m)\u001b[0m\u001b[1;33m\u001b[0m\u001b[0m\n",
      "\u001b[0;32mC:\\Users\\zhanghui\\Anaconda3\\lib\\site-packages\\sklearn\\externals\\joblib\\_parallel_backends.py\u001b[0m in \u001b[0;36m__init__\u001b[0;34m(self, batch)\u001b[0m\n\u001b[1;32m    324\u001b[0m         \u001b[1;31m# Don't delay the application, to avoid keeping the input\u001b[0m\u001b[1;33m\u001b[0m\u001b[1;33m\u001b[0m\u001b[0m\n\u001b[1;32m    325\u001b[0m         \u001b[1;31m# arguments in memory\u001b[0m\u001b[1;33m\u001b[0m\u001b[1;33m\u001b[0m\u001b[0m\n\u001b[0;32m--> 326\u001b[0;31m         \u001b[0mself\u001b[0m\u001b[1;33m.\u001b[0m\u001b[0mresults\u001b[0m \u001b[1;33m=\u001b[0m \u001b[0mbatch\u001b[0m\u001b[1;33m(\u001b[0m\u001b[1;33m)\u001b[0m\u001b[1;33m\u001b[0m\u001b[0m\n\u001b[0m\u001b[1;32m    327\u001b[0m \u001b[1;33m\u001b[0m\u001b[0m\n\u001b[1;32m    328\u001b[0m     \u001b[1;32mdef\u001b[0m \u001b[0mget\u001b[0m\u001b[1;33m(\u001b[0m\u001b[0mself\u001b[0m\u001b[1;33m)\u001b[0m\u001b[1;33m:\u001b[0m\u001b[1;33m\u001b[0m\u001b[0m\n",
      "\u001b[0;32mC:\\Users\\zhanghui\\Anaconda3\\lib\\site-packages\\sklearn\\externals\\joblib\\parallel.py\u001b[0m in \u001b[0;36m__call__\u001b[0;34m(self)\u001b[0m\n\u001b[1;32m    129\u001b[0m \u001b[1;33m\u001b[0m\u001b[0m\n\u001b[1;32m    130\u001b[0m     \u001b[1;32mdef\u001b[0m \u001b[0m__call__\u001b[0m\u001b[1;33m(\u001b[0m\u001b[0mself\u001b[0m\u001b[1;33m)\u001b[0m\u001b[1;33m:\u001b[0m\u001b[1;33m\u001b[0m\u001b[0m\n\u001b[0;32m--> 131\u001b[0;31m         \u001b[1;32mreturn\u001b[0m \u001b[1;33m[\u001b[0m\u001b[0mfunc\u001b[0m\u001b[1;33m(\u001b[0m\u001b[1;33m*\u001b[0m\u001b[0margs\u001b[0m\u001b[1;33m,\u001b[0m \u001b[1;33m**\u001b[0m\u001b[0mkwargs\u001b[0m\u001b[1;33m)\u001b[0m \u001b[1;32mfor\u001b[0m \u001b[0mfunc\u001b[0m\u001b[1;33m,\u001b[0m \u001b[0margs\u001b[0m\u001b[1;33m,\u001b[0m \u001b[0mkwargs\u001b[0m \u001b[1;32min\u001b[0m \u001b[0mself\u001b[0m\u001b[1;33m.\u001b[0m\u001b[0mitems\u001b[0m\u001b[1;33m]\u001b[0m\u001b[1;33m\u001b[0m\u001b[0m\n\u001b[0m\u001b[1;32m    132\u001b[0m \u001b[1;33m\u001b[0m\u001b[0m\n\u001b[1;32m    133\u001b[0m     \u001b[1;32mdef\u001b[0m \u001b[0m__len__\u001b[0m\u001b[1;33m(\u001b[0m\u001b[0mself\u001b[0m\u001b[1;33m)\u001b[0m\u001b[1;33m:\u001b[0m\u001b[1;33m\u001b[0m\u001b[0m\n",
      "\u001b[0;32mC:\\Users\\zhanghui\\Anaconda3\\lib\\site-packages\\sklearn\\externals\\joblib\\parallel.py\u001b[0m in \u001b[0;36m<listcomp>\u001b[0;34m(.0)\u001b[0m\n\u001b[1;32m    129\u001b[0m \u001b[1;33m\u001b[0m\u001b[0m\n\u001b[1;32m    130\u001b[0m     \u001b[1;32mdef\u001b[0m \u001b[0m__call__\u001b[0m\u001b[1;33m(\u001b[0m\u001b[0mself\u001b[0m\u001b[1;33m)\u001b[0m\u001b[1;33m:\u001b[0m\u001b[1;33m\u001b[0m\u001b[0m\n\u001b[0;32m--> 131\u001b[0;31m         \u001b[1;32mreturn\u001b[0m \u001b[1;33m[\u001b[0m\u001b[0mfunc\u001b[0m\u001b[1;33m(\u001b[0m\u001b[1;33m*\u001b[0m\u001b[0margs\u001b[0m\u001b[1;33m,\u001b[0m \u001b[1;33m**\u001b[0m\u001b[0mkwargs\u001b[0m\u001b[1;33m)\u001b[0m \u001b[1;32mfor\u001b[0m \u001b[0mfunc\u001b[0m\u001b[1;33m,\u001b[0m \u001b[0margs\u001b[0m\u001b[1;33m,\u001b[0m \u001b[0mkwargs\u001b[0m \u001b[1;32min\u001b[0m \u001b[0mself\u001b[0m\u001b[1;33m.\u001b[0m\u001b[0mitems\u001b[0m\u001b[1;33m]\u001b[0m\u001b[1;33m\u001b[0m\u001b[0m\n\u001b[0m\u001b[1;32m    132\u001b[0m \u001b[1;33m\u001b[0m\u001b[0m\n\u001b[1;32m    133\u001b[0m     \u001b[1;32mdef\u001b[0m \u001b[0m__len__\u001b[0m\u001b[1;33m(\u001b[0m\u001b[0mself\u001b[0m\u001b[1;33m)\u001b[0m\u001b[1;33m:\u001b[0m\u001b[1;33m\u001b[0m\u001b[0m\n",
      "\u001b[0;32mC:\\Users\\zhanghui\\Anaconda3\\lib\\site-packages\\sklearn\\linear_model\\logistic.py\u001b[0m in \u001b[0;36m_log_reg_scoring_path\u001b[0;34m(X, y, train, test, pos_class, Cs, scoring, fit_intercept, max_iter, tol, class_weight, verbose, solver, penalty, dual, intercept_scaling, multi_class, random_state, max_squared_sum, sample_weight)\u001b[0m\n\u001b[1;32m    906\u001b[0m         \u001b[0mintercept_scaling\u001b[0m\u001b[1;33m=\u001b[0m\u001b[0mintercept_scaling\u001b[0m\u001b[1;33m,\u001b[0m \u001b[0mrandom_state\u001b[0m\u001b[1;33m=\u001b[0m\u001b[0mrandom_state\u001b[0m\u001b[1;33m,\u001b[0m\u001b[1;33m\u001b[0m\u001b[0m\n\u001b[1;32m    907\u001b[0m         \u001b[0mcheck_input\u001b[0m\u001b[1;33m=\u001b[0m\u001b[1;32mFalse\u001b[0m\u001b[1;33m,\u001b[0m \u001b[0mmax_squared_sum\u001b[0m\u001b[1;33m=\u001b[0m\u001b[0mmax_squared_sum\u001b[0m\u001b[1;33m,\u001b[0m\u001b[1;33m\u001b[0m\u001b[0m\n\u001b[0;32m--> 908\u001b[0;31m         sample_weight=sample_weight)\n\u001b[0m\u001b[1;32m    909\u001b[0m \u001b[1;33m\u001b[0m\u001b[0m\n\u001b[1;32m    910\u001b[0m     \u001b[0mlog_reg\u001b[0m \u001b[1;33m=\u001b[0m \u001b[0mLogisticRegression\u001b[0m\u001b[1;33m(\u001b[0m\u001b[0mfit_intercept\u001b[0m\u001b[1;33m=\u001b[0m\u001b[0mfit_intercept\u001b[0m\u001b[1;33m)\u001b[0m\u001b[1;33m\u001b[0m\u001b[0m\n",
      "\u001b[0;32mC:\\Users\\zhanghui\\Anaconda3\\lib\\site-packages\\sklearn\\linear_model\\logistic.py\u001b[0m in \u001b[0;36mlogistic_regression_path\u001b[0;34m(X, y, pos_class, Cs, fit_intercept, max_iter, tol, verbose, solver, coef, copy, class_weight, dual, penalty, intercept_scaling, multi_class, random_state, check_input, max_squared_sum, sample_weight)\u001b[0m\n\u001b[1;32m    707\u001b[0m                     \u001b[0mfunc\u001b[0m\u001b[1;33m,\u001b[0m \u001b[0mw0\u001b[0m\u001b[1;33m,\u001b[0m \u001b[0mfprime\u001b[0m\u001b[1;33m=\u001b[0m\u001b[1;32mNone\u001b[0m\u001b[1;33m,\u001b[0m\u001b[1;33m\u001b[0m\u001b[0m\n\u001b[1;32m    708\u001b[0m                     \u001b[0margs\u001b[0m\u001b[1;33m=\u001b[0m\u001b[1;33m(\u001b[0m\u001b[0mX\u001b[0m\u001b[1;33m,\u001b[0m \u001b[0mtarget\u001b[0m\u001b[1;33m,\u001b[0m \u001b[1;36m1.\u001b[0m \u001b[1;33m/\u001b[0m \u001b[0mC\u001b[0m\u001b[1;33m,\u001b[0m \u001b[0msample_weight\u001b[0m\u001b[1;33m)\u001b[0m\u001b[1;33m,\u001b[0m\u001b[1;33m\u001b[0m\u001b[0m\n\u001b[0;32m--> 709\u001b[0;31m                     iprint=(verbose > 0) - 1, pgtol=tol, maxiter=max_iter)\n\u001b[0m\u001b[1;32m    710\u001b[0m             \u001b[1;32mexcept\u001b[0m \u001b[0mTypeError\u001b[0m\u001b[1;33m:\u001b[0m\u001b[1;33m\u001b[0m\u001b[0m\n\u001b[1;32m    711\u001b[0m                 \u001b[1;31m# old scipy doesn't have maxiter\u001b[0m\u001b[1;33m\u001b[0m\u001b[1;33m\u001b[0m\u001b[0m\n",
      "\u001b[0;32mC:\\Users\\zhanghui\\Anaconda3\\lib\\site-packages\\scipy\\optimize\\lbfgsb.py\u001b[0m in \u001b[0;36mfmin_l_bfgs_b\u001b[0;34m(func, x0, fprime, args, approx_grad, bounds, m, factr, pgtol, epsilon, iprint, maxfun, maxiter, disp, callback, maxls)\u001b[0m\n\u001b[1;32m    191\u001b[0m \u001b[1;33m\u001b[0m\u001b[0m\n\u001b[1;32m    192\u001b[0m     res = _minimize_lbfgsb(fun, x0, args=args, jac=jac, bounds=bounds,\n\u001b[0;32m--> 193\u001b[0;31m                            **opts)\n\u001b[0m\u001b[1;32m    194\u001b[0m     d = {'grad': res['jac'],\n\u001b[1;32m    195\u001b[0m          \u001b[1;34m'task'\u001b[0m\u001b[1;33m:\u001b[0m \u001b[0mres\u001b[0m\u001b[1;33m[\u001b[0m\u001b[1;34m'message'\u001b[0m\u001b[1;33m]\u001b[0m\u001b[1;33m,\u001b[0m\u001b[1;33m\u001b[0m\u001b[0m\n",
      "\u001b[0;32mC:\\Users\\zhanghui\\Anaconda3\\lib\\site-packages\\scipy\\optimize\\lbfgsb.py\u001b[0m in \u001b[0;36m_minimize_lbfgsb\u001b[0;34m(fun, x0, args, jac, bounds, disp, maxcor, ftol, gtol, eps, maxfun, maxiter, iprint, callback, maxls, **unknown_options)\u001b[0m\n\u001b[1;32m    326\u001b[0m             \u001b[1;31m# until the completion of the current minimization iteration.\u001b[0m\u001b[1;33m\u001b[0m\u001b[1;33m\u001b[0m\u001b[0m\n\u001b[1;32m    327\u001b[0m             \u001b[1;31m# Overwrite f and g:\u001b[0m\u001b[1;33m\u001b[0m\u001b[1;33m\u001b[0m\u001b[0m\n\u001b[0;32m--> 328\u001b[0;31m             \u001b[0mf\u001b[0m\u001b[1;33m,\u001b[0m \u001b[0mg\u001b[0m \u001b[1;33m=\u001b[0m \u001b[0mfunc_and_grad\u001b[0m\u001b[1;33m(\u001b[0m\u001b[0mx\u001b[0m\u001b[1;33m)\u001b[0m\u001b[1;33m\u001b[0m\u001b[0m\n\u001b[0m\u001b[1;32m    329\u001b[0m         \u001b[1;32melif\u001b[0m \u001b[0mtask_str\u001b[0m\u001b[1;33m.\u001b[0m\u001b[0mstartswith\u001b[0m\u001b[1;33m(\u001b[0m\u001b[1;34mb'NEW_X'\u001b[0m\u001b[1;33m)\u001b[0m\u001b[1;33m:\u001b[0m\u001b[1;33m\u001b[0m\u001b[0m\n\u001b[1;32m    330\u001b[0m             \u001b[1;31m# new iteration\u001b[0m\u001b[1;33m\u001b[0m\u001b[1;33m\u001b[0m\u001b[0m\n",
      "\u001b[0;32mC:\\Users\\zhanghui\\Anaconda3\\lib\\site-packages\\scipy\\optimize\\lbfgsb.py\u001b[0m in \u001b[0;36mfunc_and_grad\u001b[0;34m(x)\u001b[0m\n\u001b[1;32m    276\u001b[0m     \u001b[1;32melse\u001b[0m\u001b[1;33m:\u001b[0m\u001b[1;33m\u001b[0m\u001b[0m\n\u001b[1;32m    277\u001b[0m         \u001b[1;32mdef\u001b[0m \u001b[0mfunc_and_grad\u001b[0m\u001b[1;33m(\u001b[0m\u001b[0mx\u001b[0m\u001b[1;33m)\u001b[0m\u001b[1;33m:\u001b[0m\u001b[1;33m\u001b[0m\u001b[0m\n\u001b[0;32m--> 278\u001b[0;31m             \u001b[0mf\u001b[0m \u001b[1;33m=\u001b[0m \u001b[0mfun\u001b[0m\u001b[1;33m(\u001b[0m\u001b[0mx\u001b[0m\u001b[1;33m,\u001b[0m \u001b[1;33m*\u001b[0m\u001b[0margs\u001b[0m\u001b[1;33m)\u001b[0m\u001b[1;33m\u001b[0m\u001b[0m\n\u001b[0m\u001b[1;32m    279\u001b[0m             \u001b[0mg\u001b[0m \u001b[1;33m=\u001b[0m \u001b[0mjac\u001b[0m\u001b[1;33m(\u001b[0m\u001b[0mx\u001b[0m\u001b[1;33m,\u001b[0m \u001b[1;33m*\u001b[0m\u001b[0margs\u001b[0m\u001b[1;33m)\u001b[0m\u001b[1;33m\u001b[0m\u001b[0m\n\u001b[1;32m    280\u001b[0m             \u001b[1;32mreturn\u001b[0m \u001b[0mf\u001b[0m\u001b[1;33m,\u001b[0m \u001b[0mg\u001b[0m\u001b[1;33m\u001b[0m\u001b[0m\n",
      "\u001b[0;32mC:\\Users\\zhanghui\\Anaconda3\\lib\\site-packages\\scipy\\optimize\\optimize.py\u001b[0m in \u001b[0;36mfunction_wrapper\u001b[0;34m(*wrapper_args)\u001b[0m\n\u001b[1;32m    290\u001b[0m     \u001b[1;32mdef\u001b[0m \u001b[0mfunction_wrapper\u001b[0m\u001b[1;33m(\u001b[0m\u001b[1;33m*\u001b[0m\u001b[0mwrapper_args\u001b[0m\u001b[1;33m)\u001b[0m\u001b[1;33m:\u001b[0m\u001b[1;33m\u001b[0m\u001b[0m\n\u001b[1;32m    291\u001b[0m         \u001b[0mncalls\u001b[0m\u001b[1;33m[\u001b[0m\u001b[1;36m0\u001b[0m\u001b[1;33m]\u001b[0m \u001b[1;33m+=\u001b[0m \u001b[1;36m1\u001b[0m\u001b[1;33m\u001b[0m\u001b[0m\n\u001b[0;32m--> 292\u001b[0;31m         \u001b[1;32mreturn\u001b[0m \u001b[0mfunction\u001b[0m\u001b[1;33m(\u001b[0m\u001b[1;33m*\u001b[0m\u001b[1;33m(\u001b[0m\u001b[0mwrapper_args\u001b[0m \u001b[1;33m+\u001b[0m \u001b[0margs\u001b[0m\u001b[1;33m)\u001b[0m\u001b[1;33m)\u001b[0m\u001b[1;33m\u001b[0m\u001b[0m\n\u001b[0m\u001b[1;32m    293\u001b[0m \u001b[1;33m\u001b[0m\u001b[0m\n\u001b[1;32m    294\u001b[0m     \u001b[1;32mreturn\u001b[0m \u001b[0mncalls\u001b[0m\u001b[1;33m,\u001b[0m \u001b[0mfunction_wrapper\u001b[0m\u001b[1;33m\u001b[0m\u001b[0m\n",
      "\u001b[0;32mC:\\Users\\zhanghui\\Anaconda3\\lib\\site-packages\\scipy\\optimize\\optimize.py\u001b[0m in \u001b[0;36m__call__\u001b[0;34m(self, x, *args)\u001b[0m\n\u001b[1;32m     61\u001b[0m     \u001b[1;32mdef\u001b[0m \u001b[0m__call__\u001b[0m\u001b[1;33m(\u001b[0m\u001b[0mself\u001b[0m\u001b[1;33m,\u001b[0m \u001b[0mx\u001b[0m\u001b[1;33m,\u001b[0m \u001b[1;33m*\u001b[0m\u001b[0margs\u001b[0m\u001b[1;33m)\u001b[0m\u001b[1;33m:\u001b[0m\u001b[1;33m\u001b[0m\u001b[0m\n\u001b[1;32m     62\u001b[0m         \u001b[0mself\u001b[0m\u001b[1;33m.\u001b[0m\u001b[0mx\u001b[0m \u001b[1;33m=\u001b[0m \u001b[0mnumpy\u001b[0m\u001b[1;33m.\u001b[0m\u001b[0masarray\u001b[0m\u001b[1;33m(\u001b[0m\u001b[0mx\u001b[0m\u001b[1;33m)\u001b[0m\u001b[1;33m.\u001b[0m\u001b[0mcopy\u001b[0m\u001b[1;33m(\u001b[0m\u001b[1;33m)\u001b[0m\u001b[1;33m\u001b[0m\u001b[0m\n\u001b[0;32m---> 63\u001b[0;31m         \u001b[0mfg\u001b[0m \u001b[1;33m=\u001b[0m \u001b[0mself\u001b[0m\u001b[1;33m.\u001b[0m\u001b[0mfun\u001b[0m\u001b[1;33m(\u001b[0m\u001b[0mx\u001b[0m\u001b[1;33m,\u001b[0m \u001b[1;33m*\u001b[0m\u001b[0margs\u001b[0m\u001b[1;33m)\u001b[0m\u001b[1;33m\u001b[0m\u001b[0m\n\u001b[0m\u001b[1;32m     64\u001b[0m         \u001b[0mself\u001b[0m\u001b[1;33m.\u001b[0m\u001b[0mjac\u001b[0m \u001b[1;33m=\u001b[0m \u001b[0mfg\u001b[0m\u001b[1;33m[\u001b[0m\u001b[1;36m1\u001b[0m\u001b[1;33m]\u001b[0m\u001b[1;33m\u001b[0m\u001b[0m\n\u001b[1;32m     65\u001b[0m         \u001b[1;32mreturn\u001b[0m \u001b[0mfg\u001b[0m\u001b[1;33m[\u001b[0m\u001b[1;36m0\u001b[0m\u001b[1;33m]\u001b[0m\u001b[1;33m\u001b[0m\u001b[0m\n",
      "\u001b[0;32mC:\\Users\\zhanghui\\Anaconda3\\lib\\site-packages\\sklearn\\linear_model\\logistic.py\u001b[0m in \u001b[0;36m_logistic_loss_and_grad\u001b[0;34m(w, X, y, alpha, sample_weight)\u001b[0m\n\u001b[1;32m    116\u001b[0m     \u001b[0mout\u001b[0m \u001b[1;33m=\u001b[0m \u001b[1;33m-\u001b[0m\u001b[0mnp\u001b[0m\u001b[1;33m.\u001b[0m\u001b[0msum\u001b[0m\u001b[1;33m(\u001b[0m\u001b[0msample_weight\u001b[0m \u001b[1;33m*\u001b[0m \u001b[0mlog_logistic\u001b[0m\u001b[1;33m(\u001b[0m\u001b[0myz\u001b[0m\u001b[1;33m)\u001b[0m\u001b[1;33m)\u001b[0m \u001b[1;33m+\u001b[0m \u001b[1;36m.5\u001b[0m \u001b[1;33m*\u001b[0m \u001b[0malpha\u001b[0m \u001b[1;33m*\u001b[0m \u001b[0mnp\u001b[0m\u001b[1;33m.\u001b[0m\u001b[0mdot\u001b[0m\u001b[1;33m(\u001b[0m\u001b[0mw\u001b[0m\u001b[1;33m,\u001b[0m \u001b[0mw\u001b[0m\u001b[1;33m)\u001b[0m\u001b[1;33m\u001b[0m\u001b[0m\n\u001b[1;32m    117\u001b[0m \u001b[1;33m\u001b[0m\u001b[0m\n\u001b[0;32m--> 118\u001b[0;31m     \u001b[0mz\u001b[0m \u001b[1;33m=\u001b[0m \u001b[0mexpit\u001b[0m\u001b[1;33m(\u001b[0m\u001b[0myz\u001b[0m\u001b[1;33m)\u001b[0m\u001b[1;33m\u001b[0m\u001b[0m\n\u001b[0m\u001b[1;32m    119\u001b[0m     \u001b[0mz0\u001b[0m \u001b[1;33m=\u001b[0m \u001b[0msample_weight\u001b[0m \u001b[1;33m*\u001b[0m \u001b[1;33m(\u001b[0m\u001b[0mz\u001b[0m \u001b[1;33m-\u001b[0m \u001b[1;36m1\u001b[0m\u001b[1;33m)\u001b[0m \u001b[1;33m*\u001b[0m \u001b[0my\u001b[0m\u001b[1;33m\u001b[0m\u001b[0m\n\u001b[1;32m    120\u001b[0m \u001b[1;33m\u001b[0m\u001b[0m\n",
      "\u001b[0;31mKeyboardInterrupt\u001b[0m: "
     ]
    }
   ],
   "source": [
    "#crossvalidation\n",
    "gkf = GroupKFold(n_splits=48)\n",
    "gkf.split(X_Hylidae_test, y_Hylidae, groups_Hylidae)\n",
    "\n",
    "#LR on anural\n",
    "lr = LogisticRegressionCV(cv=list(gkf.split(X_Hylidae_test, \n",
    "                                     y_Hylidae, \n",
    "                                     groups_Hylidae)))\n",
    "\n",
    "lr.fit(X_Hylidae_test, y_Hylidae)\n",
    "\n",
    "predicted_Hylidae = lr.predict(X_Hylidae_test) \n"
   ]
  },
  {
   "cell_type": "code",
   "execution_count": 354,
   "metadata": {
    "collapsed": false,
    "scrolled": false
   },
   "outputs": [
    {
     "name": "stdout",
     "output_type": "stream",
     "text": [
      "0.0277170340081\n",
      "0.0169689832101\n",
      "0.0855928189655\n",
      "0.714810625735\n",
      "0.0134180331457\n",
      "0.0571365315378\n",
      "0.0226256323778\n",
      "0.0617303410205\n"
     ]
    }
   ],
   "source": []
  },
  {
   "cell_type": "code",
   "execution_count": 377,
   "metadata": {
    "collapsed": false
   },
   "outputs": [],
   "source": []
  },
  {
   "cell_type": "code",
   "execution_count": 378,
   "metadata": {
    "collapsed": false
   },
   "outputs": [
    {
     "name": "stdout",
     "output_type": "stream",
     "text": [
      "0.0254628626711\n",
      "0.015602495256\n",
      "0.804939903507\n",
      "0.0628812851095\n",
      "0.00493997798194\n",
      "0.0523776751935\n",
      "0.020782285586\n",
      "0.013013514695\n"
     ]
    }
   ],
   "source": [
    "for i in range(8):\n",
    "    print(lr.predict_proba(X_Hylidae_test)[index,i].mean())"
   ]
  },
  {
   "cell_type": "code",
   "execution_count": 379,
   "metadata": {
    "collapsed": false
   },
   "outputs": [
    {
     "name": "stdout",
     "output_type": "stream",
     "text": [
      "-3.7527706195\n",
      "-4.25156731565\n",
      "4.75356733982\n",
      "-4.47524130662\n",
      "-9.08281755074\n",
      "-3.00639913872\n",
      "-3.96009794739\n",
      "-10.8391923895\n"
     ]
    }
   ],
   "source": [
    "for i in range(8):\n",
    "    print(lr.decision_function(X_Hylidae_test)[index,i].mean())"
   ]
  },
  {
   "cell_type": "code",
   "execution_count": null,
   "metadata": {
    "collapsed": true
   },
   "outputs": [],
   "source": []
  },
  {
   "cell_type": "code",
   "execution_count": null,
   "metadata": {
    "collapsed": true
   },
   "outputs": [],
   "source": []
  },
  {
   "cell_type": "code",
   "execution_count": 430,
   "metadata": {
    "collapsed": false
   },
   "outputs": [
    {
     "name": "stdout",
     "output_type": "stream",
     "text": [
      "['Adenomera' 'Ameerega' 'Dendropsophus' 'Leptodactylus' 'Osteocephalus']\n",
      "20\n"
     ]
    }
   ],
   "source": [
    "#data prepare\n",
    "print(np.unique(X_Dendrobatidae[:,23]))\n",
    "X_Dendrobatidae_test = X_Dendrobatidae[:,:22]\n",
    "\n",
    "#group prepare\n",
    "print(np.unique(X_Dendrobatidae[:,25]).size)\n",
    "groups_Dendrobatidae = np.array(X_Dendrobatidae[:,25])"
   ]
  },
  {
   "cell_type": "code",
   "execution_count": null,
   "metadata": {
    "collapsed": true
   },
   "outputs": [],
   "source": []
  },
  {
   "cell_type": "code",
   "execution_count": null,
   "metadata": {
    "collapsed": true
   },
   "outputs": [],
   "source": []
  },
  {
   "cell_type": "code",
   "execution_count": null,
   "metadata": {
    "collapsed": true
   },
   "outputs": [],
   "source": []
  },
  {
   "cell_type": "code",
   "execution_count": null,
   "metadata": {
    "collapsed": true
   },
   "outputs": [],
   "source": []
  },
  {
   "cell_type": "code",
   "execution_count": 431,
   "metadata": {
    "collapsed": false
   },
   "outputs": [],
   "source": [
    "#crossvalidation\n",
    "gkf = GroupKFold(n_splits=20)\n",
    "gkf.split(X_Dendrobatidae_test, y_Dendrobatidae, groups_Dendrobatidae)\n",
    "\n",
    "#LR on anural\n",
    "lr = LogisticRegressionCV(cv=list(gkf.split(X_Dendrobatidae_test, \n",
    "                                            y_Dendrobatidae, \n",
    "                                            groups_Dendrobatidae)))\n",
    "\n",
    "\n",
    "lr.fit(X_Dendrobatidae_test, y_Dendrobatidae)\n",
    "\n",
    "predicted_Dendrobatidae = lr.predict(X_Dendrobatidae_test)\n",
    "#predicted_Leptodactylidae = cross_val_predict(lr, \n",
    "#                                        X_Dendrobatidae_test, \n",
    "#                                        y_Dendrobatidae, \n",
    "#                                        cv=list(gkf.split(X_Dendrobatidae_test, \n",
    "#                                                          y_Dendrobatidae, \n",
    "#                                                          groups_Dendrobatidae)))"
   ]
  },
  {
   "cell_type": "code",
   "execution_count": 433,
   "metadata": {
    "collapsed": false
   },
   "outputs": [
    {
     "name": "stdout",
     "output_type": "stream",
     "text": [
      "0.0681002057439\n",
      "0.89067911623\n",
      "0.0376343250845\n",
      "0.0017945247914\n",
      "0.00179182815026\n",
      "-2.61624270633\n",
      "2.0977171029\n",
      "-3.24147566776\n",
      "-6.32121667484\n",
      "-6.32272321047\n"
     ]
    }
   ],
   "source": [
    "index = list()\n",
    "for i in range(len(predicted_Dendrobatidae)):\n",
    "    if predicted_Dendrobatidae[i] == 'Ameerega':\n",
    "        index.append(i)\n",
    "                \n",
    "for i in range(5):\n",
    "    print(lr.predict_proba(X_Dendrobatidae_test)[index,i].mean())\n",
    "    \n",
    "for i in range(5):\n",
    "    print(lr.decision_function(X_Dendrobatidae_test)[index,i].mean())"
   ]
  },
  {
   "cell_type": "code",
   "execution_count": null,
   "metadata": {
    "collapsed": true
   },
   "outputs": [],
   "source": []
  },
  {
   "cell_type": "code",
   "execution_count": 86,
   "metadata": {
    "collapsed": false
   },
   "outputs": [
    {
     "name": "stdout",
     "output_type": "stream",
     "text": [
      "0.0681002057439\n",
      "0.89067911623\n",
      "0.0376343250845\n",
      "0.0017945247914\n",
      "0.00179182815026\n"
     ]
    }
   ],
   "source": [
    "for i in range(5):\n",
    "    print(lr.predict_proba(X_Dendrobatidae_test)[:,i].mean())"
   ]
  },
  {
   "cell_type": "code",
   "execution_count": 426,
   "metadata": {
    "collapsed": false
   },
   "outputs": [
    {
     "name": "stdout",
     "output_type": "stream",
     "text": [
      "['Adenomera' 'Ameerega' 'Dendropsophus' 'Hypsiboas' 'Leptodactylus'\n",
      " 'Osteocephalus' 'Rhinella' 'Scinax']\n",
      "46\n"
     ]
    }
   ],
   "source": [
    "#data prepare\n",
    "print(np.unique(X_Leptodactylidae[:,23]))\n",
    "X_Leptodactylidae_test = X_Leptodactylidae[:,:22]\n",
    "\n",
    "#group prepare\n",
    "print(np.unique(X_Leptodactylidae[:,25]).size)\n",
    "groups_Leptodactylidae = np.array(X_Leptodactylidae[:,25])"
   ]
  },
  {
   "cell_type": "code",
   "execution_count": 427,
   "metadata": {
    "collapsed": false
   },
   "outputs": [],
   "source": [
    "#crossvalidation\n",
    "gkf = GroupKFold(n_splits=46)\n",
    "gkf.split(X_Leptodactylidae_test, y_Leptodactylidae, groups_Leptodactylidae)\n",
    "\n",
    "#LR on anural\n",
    "lr = LogisticRegressionCV(cv=list(gkf.split(X_Leptodactylidae_test, \n",
    "                                            y_Leptodactylidae, \n",
    "                                            groups_Leptodactylidae)))\n",
    "\n",
    "\n",
    "lr.fit(X_Leptodactylidae_test, y_Leptodactylidae)\n",
    "\n",
    "predicted_Leptodactylidae = lr.predict(X_Leptodactylidae_test)"
   ]
  },
  {
   "cell_type": "code",
   "execution_count": 429,
   "metadata": {
    "collapsed": false
   },
   "outputs": [
    {
     "name": "stdout",
     "output_type": "stream",
     "text": [
      "0.9651544235\n",
      "0.00293826614903\n",
      "0.0189767251699\n",
      "0.00489358591844\n",
      "0.00396867509332\n",
      "0.00226016066057\n",
      "0.00135611631231\n",
      "0.00045204719647\n",
      "5.15975020443\n",
      "-5.8348317298\n",
      "-4.51733501912\n",
      "-7.80463287103\n",
      "-7.03525437898\n",
      "-6.09788983447\n",
      "-6.60959717103\n",
      "-7.70908359773\n"
     ]
    }
   ],
   "source": [
    "index = list()\n",
    "for i in range(len(predicted_Leptodactylidae)):\n",
    "    if predicted_Leptodactylidae[i] == 'Adenomera':\n",
    "        index.append(i)\n",
    "                \n",
    "for i in range(8):\n",
    "    print(lr.predict_proba(X_Leptodactylidae_test)[index,i].mean())\n",
    "    \n",
    "for i in range(8):\n",
    "    print(lr.decision_function(X_Leptodactylidae_test)[index,i].mean())"
   ]
  },
  {
   "cell_type": "code",
   "execution_count": 347,
   "metadata": {
    "collapsed": true
   },
   "outputs": [],
   "source": []
  },
  {
   "cell_type": "code",
   "execution_count": null,
   "metadata": {
    "collapsed": false
   },
   "outputs": [],
   "source": []
  },
  {
   "cell_type": "code",
   "execution_count": null,
   "metadata": {
    "collapsed": true
   },
   "outputs": [],
   "source": []
  },
  {
   "cell_type": "code",
   "execution_count": 98,
   "metadata": {
    "collapsed": false
   },
   "outputs": [
    {
     "data": {
      "text/plain": [
       "array(['Hypsiboas', 'Rhinella'], dtype=object)"
      ]
     },
     "execution_count": 98,
     "metadata": {},
     "output_type": "execute_result"
    }
   ],
   "source": [
    "np.unique(predicted_Bufonidae)"
   ]
  },
  {
   "cell_type": "code",
   "execution_count": 103,
   "metadata": {
    "collapsed": false
   },
   "outputs": [
    {
     "data": {
      "text/plain": [
       "array(['Adenomera', 'Dendropsophus', 'Hypsiboas', 'Leptodactylus'], dtype=object)"
      ]
     },
     "execution_count": 103,
     "metadata": {},
     "output_type": "execute_result"
    }
   ],
   "source": [
    "np.unique(predicted_Leptodactylidae)"
   ]
  },
  {
   "cell_type": "code",
   "execution_count": 104,
   "metadata": {
    "collapsed": false
   },
   "outputs": [
    {
     "data": {
      "text/plain": [
       "array(['Ameerega'], dtype=object)"
      ]
     },
     "execution_count": 104,
     "metadata": {},
     "output_type": "execute_result"
    }
   ],
   "source": [
    "np.unique(predicted_Dendrobatidae)"
   ]
  },
  {
   "cell_type": "code",
   "execution_count": 110,
   "metadata": {
    "collapsed": false
   },
   "outputs": [
    {
     "data": {
      "text/plain": [
       "(2139,)"
      ]
     },
     "execution_count": 110,
     "metadata": {},
     "output_type": "execute_result"
    }
   ],
   "source": [
    "predicted_Hylidae.shape"
   ]
  },
  {
   "cell_type": "code",
   "execution_count": 263,
   "metadata": {
    "collapsed": false
   },
   "outputs": [
    {
     "data": {
      "text/plain": [
       "(0, 0, 0, 91, 1, 8, 0, 1, 101)"
      ]
     },
     "execution_count": 263,
     "metadata": {},
     "output_type": "execute_result"
    }
   ],
   "source": [
    "#matrix on Genus level\n",
    "result_genus = np.c_[y_Hylidae, predicted_Hylidae]\n",
    "\n",
    "Adenomera = 0\n",
    "Ameerega = 0\n",
    "Dendropsophus = 0\n",
    "Hypsiboas = 0\n",
    "Leptodactylus = 0\n",
    "Osteocephalus = 0\n",
    "Rhinella = 0\n",
    "Scinax = 0\n",
    "total = 0\n",
    "\n",
    "for i in range(len(y_Hylidae)):\n",
    "    if result_genus[:, 0][i] == 'Osteocephalus':\n",
    "        total += 1\n",
    "        if result_genus[:, 1][i] == 'Adenomera':\n",
    "            Adenomera += 1\n",
    "        if result_genus[:, 1][i] == 'Ameerega':\n",
    "            Ameerega += 1\n",
    "        if result_genus[:, 1][i] == 'Dendropsophus':\n",
    "            Dendropsophus += 1\n",
    "        if result_genus[:, 1][i] == 'Hypsiboas':\n",
    "            Hypsiboas += 1\n",
    "        if result_genus[:, 1][i] == 'Leptodactylus':\n",
    "            Leptodactylus += 1\n",
    "        if result_genus[:, 1][i] == 'Osteocephalus':\n",
    "            Osteocephalus += 1\n",
    "        if result_genus[:, 1][i] == 'Rhinella':\n",
    "            Rhinella += 1\n",
    "        if result_genus[:, 1][i] == 'Scinax':\n",
    "            Scinax += 1\n",
    "\n",
    "Adenomera, Ameerega, Dendropsophus, Hypsiboas, Leptodactylus, Osteocephalus, Rhinella, Scinax, total"
   ]
  },
  {
   "cell_type": "code",
   "execution_count": 155,
   "metadata": {
    "collapsed": true
   },
   "outputs": [],
   "source": [
    "#To copy the data predicted to be Adenomera\n",
    "X_Adenomera = list()\n",
    "y_Adenomera = list()\n",
    "for i in range(len(predicted_Leptodactylidae)):\n",
    "    if predicted_Leptodactylidae[i] == 'Adenomera':\n",
    "        X_Adenomera.append(X_Leptodactylidae[i])\n",
    "        \n",
    "X_Adenomera = np.array(X_Adenomera)\n",
    "y_Adenomera = np.array(X_Adenomera[:,24])\n",
    "\n",
    "#To copy the data predicted to be Leptodactylus\n",
    "X_Leptodactylus = list()\n",
    "y_Leptodactylus = list()\n",
    "for i in range(len(predicted_Leptodactylidae)):\n",
    "    if predicted_Leptodactylidae[i] == 'Leptodactylus':\n",
    "        X_Leptodactylus.append(X_Leptodactylidae[i])\n",
    "        \n",
    "X_Leptodactylus = np.array(X_Leptodactylus)\n",
    "y_Leptodactylus = np.array(X_Leptodactylus[:,24])\n",
    "\n",
    "#To copy the data predicted to be Scinax \n",
    "X_Scinax  = list()\n",
    "y_Scinax  = list()\n",
    "for i in range(len(predicted_Hylidae )):\n",
    "    if predicted_Hylidae[i] == 'Scinax':\n",
    "        X_Scinax.append(X_Hylidae[i])\n",
    "\n",
    "        \n",
    "X_Scinax = np.array(X_Scinax)\n",
    "y_Scinax = np.array(X_Scinax[:,24])\n",
    "\n",
    "\n",
    "#To copy the data predicted to be Hypsiboas\n",
    "X_Hypsiboas = list()\n",
    "y_Hypsiboas = list()\n",
    "for i in range(len(predicted_Hylidae)):\n",
    "    if predicted_Hylidae[i] == 'Hypsiboas':\n",
    "        X_Hypsiboas.append(X_Hylidae[i])\n",
    "        \n",
    "X_Hypsiboas = np.array(X_Hypsiboas)\n",
    "y_Hypsiboas = np.array(X_Hypsiboas[:,24])\n",
    "\n",
    "\n",
    "#To copy the data predicted to be Osteocephalus\n",
    "X_Osteocephalus = list()\n",
    "y_Osteocephalus = list()\n",
    "for i in range(len(predicted_Hylidae)):\n",
    "    if predicted_Hylidae[i] == 'Osteocephalus':\n",
    "        X_Osteocephalus.append(X_Hylidae[i])\n",
    "        \n",
    "X_Osteocephalus = np.array(X_Osteocephalus)\n",
    "y_Osteocephalus = np.array(X_Osteocephalus[:,24])\n",
    "\n",
    "\n",
    "#To copy the data predicted to be Dendropsophus\n",
    "X_Dendropsophus = list()\n",
    "y_Dendropsophus = list()\n",
    "for i in range(len(predicted_Hylidae)):\n",
    "    if predicted_Hylidae[i] == 'Dendropsophus':\n",
    "        X_Dendropsophus.append(X_Hylidae[i])\n",
    "        \n",
    "X_Dendropsophus = np.array(X_Dendropsophus)\n",
    "y_Dendropsophus = np.array(X_Dendropsophus[:,24])\n",
    "\n",
    "\n",
    "#To copy the data predicted to be Rhinella\n",
    "X_Rhinella = list()\n",
    "y_Rhinella = list()\n",
    "for i in range(len(predicted_Bufonidae  )):\n",
    "    if predicted_Bufonidae  [i] == 'Rhinella':\n",
    "        X_Rhinella.append(X_Bufonidae[i])\n",
    "        \n",
    "X_Rhinella = np.array(X_Rhinella)\n",
    "y_Rhinella = np.array(X_Rhinella[:,24])\n",
    "\n",
    "\n",
    "#To copy the data predicted to be Ameerega\n",
    "X_Ameerega = list()\n",
    "y_Ameerega = list()\n",
    "for i in range(len(predicted_Dendrobatidae)):\n",
    "    if predicted_Dendrobatidae[i] == 'Ameerega':\n",
    "        X_Ameerega.append(X_Dendrobatidae[i])\n",
    "        \n",
    "X_Ameerega = np.array(X_Ameerega)\n",
    "y_Ameerega = np.array(X_Ameerega[:,24])"
   ]
  },
  {
   "cell_type": "code",
   "execution_count": 422,
   "metadata": {
    "collapsed": false
   },
   "outputs": [
    {
     "name": "stdout",
     "output_type": "stream",
     "text": [
      "['AdenomeraAndre' 'AdenomeraHylaedactylus' 'Ameeregatrivittata'\n",
      " 'HylaMinuta' 'LeptodactylusFuscus' 'OsteocephalusOophagus']\n",
      "20\n"
     ]
    }
   ],
   "source": [
    "#data prepare\n",
    "print(np.unique(X_Ameerega[:,24]))\n",
    "X_Ameerega_test = X_Ameerega[:,:22]\n",
    "\n",
    "#group prepare\n",
    "print(np.unique(X_Ameerega[:,25]).size)\n",
    "groups_Ameerega = np.array(X_Ameerega[:,25])"
   ]
  },
  {
   "cell_type": "code",
   "execution_count": 423,
   "metadata": {
    "collapsed": false
   },
   "outputs": [
    {
     "name": "stdout",
     "output_type": "stream",
     "text": [
      "0.0663080850811\n",
      "0.00179224370637\n",
      "0.890678998626\n",
      "0.0376343201183\n",
      "0.00179452455453\n",
      "0.00179182791369\n"
     ]
    }
   ],
   "source": [
    "#crossvalidation\n",
    "gkf = GroupKFold(n_splits=20)\n",
    "gkf.split(X_Ameerega_test, \n",
    "          y_Ameerega, \n",
    "          groups_Ameerega)\n",
    "\n",
    "#LR on anural\n",
    "lr = LogisticRegressionCV(cv=list(gkf.split(X_Ameerega_test, \n",
    "                                            y_Ameerega, \n",
    "                                            groups_Ameerega)))\n",
    "\n",
    "\n",
    "lr.fit(X_Ameerega_test, y_Ameerega)\n",
    "\n",
    "predicted_Ameerega = lr.predict(X_Ameerega_test)\n",
    "\n",
    "for i in range(6):\n",
    "    print(lr.predict_proba(X_Ameerega_test)[:,i].mean())"
   ]
  },
  {
   "cell_type": "code",
   "execution_count": 425,
   "metadata": {
    "collapsed": false
   },
   "outputs": [
    {
     "name": "stdout",
     "output_type": "stream",
     "text": [
      "0.0663080850811\n",
      "0.00179224370637\n",
      "0.890678998626\n",
      "0.0376343201183\n",
      "0.00179452455453\n",
      "0.00179182791369\n",
      "-2.64483220379\n",
      "-6.32249077163\n",
      "2.0977171029\n",
      "-3.24147566776\n",
      "-6.32121667484\n",
      "-6.32272321047\n"
     ]
    }
   ],
   "source": [
    "index = list()\n",
    "for i in range(len(predicted_Ameerega)):\n",
    "    if predicted_Ameerega[i] == 'Ameeregatrivittata':\n",
    "        index.append(i)\n",
    "                \n",
    "for i in range(6):\n",
    "    print(lr.predict_proba(X_Ameerega_test)[index,i].mean())\n",
    "    \n",
    "for i in range(6):\n",
    "    print(lr.decision_function(X_Ameerega_test)[index,i].mean())"
   ]
  },
  {
   "cell_type": "code",
   "execution_count": null,
   "metadata": {
    "collapsed": true
   },
   "outputs": [],
   "source": []
  },
  {
   "cell_type": "code",
   "execution_count": 418,
   "metadata": {
    "collapsed": false
   },
   "outputs": [
    {
     "name": "stdout",
     "output_type": "stream",
     "text": [
      "['AdenomeraAndre' 'Ameeregatrivittata' 'HylaMinuta' 'LeptodactylusFuscus'\n",
      " 'OsteocephalusOophagus' 'Rhinellagranulosa' 'ScinaxRuber']\n",
      "8\n"
     ]
    }
   ],
   "source": [
    "#data prepare\n",
    "print(np.unique(X_Rhinella[:,24]))\n",
    "X_Rhinella_test = X_Rhinella[:,:22]\n",
    "\n",
    "#group prepare\n",
    "print(np.unique(X_Rhinella[:,25]).size)\n",
    "groups_Rhinella = np.array(X_Rhinella[:,25])"
   ]
  },
  {
   "cell_type": "code",
   "execution_count": 419,
   "metadata": {
    "collapsed": false
   },
   "outputs": [
    {
     "name": "stdout",
     "output_type": "stream",
     "text": [
      "0.0833333504481\n",
      "0.0555554170213\n",
      "0.0833333032105\n",
      "0.0277777815311\n",
      "0.0555556053993\n",
      "0.611111192668\n",
      "0.0833333497213\n"
     ]
    }
   ],
   "source": [
    "#crossvalidation\n",
    "gkf = GroupKFold(n_splits=8)\n",
    "gkf.split(X_Rhinella_test, \n",
    "          y_Rhinella, \n",
    "          groups_Rhinella)\n",
    "\n",
    "#LR on anural\n",
    "lr = LogisticRegressionCV(cv=list(gkf.split(X_Rhinella_test, \n",
    "                                            y_Rhinella, \n",
    "                                            groups_Rhinella)))\n",
    "\n",
    "\n",
    "lr.fit(X_Rhinella_test, y_Rhinella)\n",
    "\n",
    "predicted_Rhinella = lr.predict(X_Rhinella_test)\n",
    "\n",
    "for i in range(7):\n",
    "    print(lr.predict_proba(X_Rhinella_test)[:,i].mean())"
   ]
  },
  {
   "cell_type": "code",
   "execution_count": 421,
   "metadata": {
    "collapsed": false
   },
   "outputs": [
    {
     "name": "stdout",
     "output_type": "stream",
     "text": [
      "0.0833333504481\n",
      "0.0555554170213\n",
      "0.0833333032105\n",
      "0.0277777815311\n",
      "0.0555556053993\n",
      "0.611111192668\n",
      "0.0833333497213\n",
      "-2.39789520816\n",
      "-2.83321613889\n",
      "-2.39789583176\n",
      "-3.55534807159\n",
      "-2.83321255389\n",
      "0.451985094659\n",
      "-2.39789521649\n"
     ]
    }
   ],
   "source": [
    "index = list()\n",
    "for i in range(len(predicted_Rhinella)):\n",
    "    if predicted_Rhinella[i] == 'Rhinellagranulosa':\n",
    "        index.append(i)\n",
    "                \n",
    "for i in range(7):\n",
    "    print(lr.predict_proba(X_Rhinella_test)[index,i].mean())\n",
    "    \n",
    "for i in range(7):\n",
    "    print(lr.decision_function(X_Rhinella_test)[index,i].mean())"
   ]
  },
  {
   "cell_type": "code",
   "execution_count": null,
   "metadata": {
    "collapsed": true
   },
   "outputs": [],
   "source": []
  },
  {
   "cell_type": "code",
   "execution_count": 414,
   "metadata": {
    "collapsed": false
   },
   "outputs": [
    {
     "name": "stdout",
     "output_type": "stream",
     "text": [
      "['AdenomeraAndre' 'AdenomeraHylaedactylus' 'Ameeregatrivittata'\n",
      " 'HylaMinuta' 'LeptodactylusFuscus']\n",
      "18\n"
     ]
    }
   ],
   "source": [
    "#data prepare\n",
    "print(np.unique(X_Dendropsophus[:,24]))\n",
    "X_Dendropsophus_test = X_Dendropsophus[:,:22]\n",
    "\n",
    "#group prepare\n",
    "print(np.unique(X_Dendropsophus[:,25]).size)\n",
    "groups_Dendropsophus = np.array(X_Dendropsophus[:,25])"
   ]
  },
  {
   "cell_type": "code",
   "execution_count": 415,
   "metadata": {
    "collapsed": false
   },
   "outputs": [
    {
     "name": "stdout",
     "output_type": "stream",
     "text": [
      "0.0291584620965\n",
      "0.00971964122355\n",
      "0.082617003278\n",
      "0.87364454693\n",
      "0.00486034647235\n"
     ]
    }
   ],
   "source": [
    "#crossvalidation\n",
    "gkf = GroupKFold(n_splits=18)\n",
    "gkf.split(X_Dendropsophus_test, \n",
    "          y_Dendropsophus, \n",
    "          groups_Dendropsophus)\n",
    "\n",
    "#LR on anural\n",
    "lr = LogisticRegressionCV(cv=list(gkf.split(X_Dendropsophus_test, \n",
    "                                            y_Dendropsophus, \n",
    "                                            groups_Dendropsophus)))\n",
    "\n",
    "\n",
    "lr.fit(X_Dendropsophus_test, y_Dendropsophus)\n",
    "\n",
    "predicted_Dendropsophus = lr.predict(X_Dendropsophus_test)\n",
    "\n",
    "for i in range(5):\n",
    "    print(lr.predict_proba(X_Dendropsophus_test)[:,i].mean())"
   ]
  },
  {
   "cell_type": "code",
   "execution_count": 417,
   "metadata": {
    "collapsed": false
   },
   "outputs": [
    {
     "name": "stdout",
     "output_type": "stream",
     "text": [
      "0.0291584620965\n",
      "0.00971964122355\n",
      "0.082617003278\n",
      "0.87364454693\n",
      "0.00486034647235\n",
      "-3.55060949044\n",
      "-4.66814559646\n",
      "-2.45509332777\n",
      "2.79923475615\n",
      "-5.36586990247\n"
     ]
    }
   ],
   "source": [
    "index = list()\n",
    "for i in range(len(predicted_Dendropsophus)):\n",
    "    if predicted_Dendropsophus[i] == 'HylaMinuta':\n",
    "        index.append(i)\n",
    "                \n",
    "for i in range(5):\n",
    "    print(lr.predict_proba(X_Dendropsophus_test)[index,i].mean())\n",
    "    \n",
    "for i in range(5):\n",
    "    print(lr.decision_function(X_Dendropsophus_test)[index,i].mean())"
   ]
  },
  {
   "cell_type": "code",
   "execution_count": null,
   "metadata": {
    "collapsed": true
   },
   "outputs": [],
   "source": []
  },
  {
   "cell_type": "code",
   "execution_count": null,
   "metadata": {
    "collapsed": true
   },
   "outputs": [],
   "source": []
  },
  {
   "cell_type": "code",
   "execution_count": 409,
   "metadata": {
    "collapsed": false
   },
   "outputs": [
    {
     "name": "stdout",
     "output_type": "stream",
     "text": [
      "['AdenomeraAndre' 'AdenomeraHylaedactylus' 'Ameeregatrivittata'\n",
      " 'HypsiboasCinerascens' 'HypsiboasCordobae' 'OsteocephalusOophagus']\n",
      "9\n"
     ]
    }
   ],
   "source": [
    "#data prepare\n",
    "print(np.unique(X_Osteocephalus[:,24]))\n",
    "X_Osteocephalus_test = X_Osteocephalus[:,:22]\n",
    "\n",
    "#group prepare\n",
    "print(np.unique(X_Osteocephalus[:,25]).size)\n",
    "groups_Osteocephalus = np.array(X_Osteocephalus[:,25])"
   ]
  },
  {
   "cell_type": "code",
   "execution_count": 410,
   "metadata": {
    "collapsed": false
   },
   "outputs": [
    {
     "name": "stdout",
     "output_type": "stream",
     "text": [
      "0.196903015835\n",
      "0.0492248983125\n",
      "0.261598237684\n",
      "0.0492259488032\n",
      "0.0492256457713\n",
      "0.393822253594\n"
     ]
    }
   ],
   "source": [
    "#crossvalidation\n",
    "gkf = GroupKFold(n_splits=9)\n",
    "gkf.split(X_Osteocephalus_test, \n",
    "          y_Osteocephalus, \n",
    "          groups_Osteocephalus)\n",
    "\n",
    "#LR on anural\n",
    "lr = LogisticRegressionCV(cv=list(gkf.split(X_Osteocephalus_test, \n",
    "                                            y_Osteocephalus, \n",
    "                                            groups_Osteocephalus)))\n",
    "\n",
    "\n",
    "lr.fit(X_Osteocephalus_test, y_Osteocephalus)\n",
    "\n",
    "predicted_Osteocephalus = lr.predict(X_Osteocephalus_test)\n",
    "\n",
    "for i in range(6):\n",
    "    print(lr.predict_proba(X_Osteocephalus_test)[:,i].mean())"
   ]
  },
  {
   "cell_type": "code",
   "execution_count": 411,
   "metadata": {
    "collapsed": true
   },
   "outputs": [],
   "source": [
    "index = list()\n",
    "for i in range(len(predicted_Osteocephalus)):\n",
    "    if predicted_Osteocephalus[i] == 'OsteocephalusOophagus':\n",
    "        index.append(i)"
   ]
  },
  {
   "cell_type": "code",
   "execution_count": 413,
   "metadata": {
    "collapsed": false
   },
   "outputs": [
    {
     "name": "stdout",
     "output_type": "stream",
     "text": [
      "0.256794641573\n",
      "0.0641963773041\n",
      "0.0369726830037\n",
      "0.0641993579061\n",
      "0.0641985053412\n",
      "0.513638434872\n",
      "-1.60940605974\n",
      "-3.13550065869\n",
      "-4.6209987651\n",
      "-3.13545539221\n",
      "-3.13546823286\n",
      "-0.692967568147\n"
     ]
    }
   ],
   "source": [
    "for i in range(6):\n",
    "    print(lr.predict_proba(X_Osteocephalus_test)[index,i].mean())\n",
    "    \n",
    "for i in range(6):\n",
    "    print(lr.decision_function(X_Osteocephalus_test)[index,i].mean())"
   ]
  },
  {
   "cell_type": "code",
   "execution_count": null,
   "metadata": {
    "collapsed": true
   },
   "outputs": [],
   "source": []
  },
  {
   "cell_type": "code",
   "execution_count": 401,
   "metadata": {
    "collapsed": false
   },
   "outputs": [
    {
     "name": "stdout",
     "output_type": "stream",
     "text": [
      "['AdenomeraAndre' 'AdenomeraHylaedactylus' 'Ameeregatrivittata'\n",
      " 'HylaMinuta' 'HypsiboasCinerascens' 'HypsiboasCordobae'\n",
      " 'LeptodactylusFuscus' 'OsteocephalusOophagus' 'Rhinellagranulosa'\n",
      " 'ScinaxRuber']\n",
      "34\n"
     ]
    }
   ],
   "source": [
    "#data prepare\n",
    "print(np.unique(X_Hypsiboas[:,24]))\n",
    "X_Hypsiboas_test = X_Hypsiboas[:,:22]\n",
    "\n",
    "#group prepare\n",
    "print(np.unique(X_Hypsiboas[:,25]).size)\n",
    "groups_Hypsiboas = np.array(X_Hypsiboas[:,25])"
   ]
  },
  {
   "cell_type": "code",
   "execution_count": null,
   "metadata": {
    "collapsed": true
   },
   "outputs": [],
   "source": []
  },
  {
   "cell_type": "code",
   "execution_count": null,
   "metadata": {
    "collapsed": true
   },
   "outputs": [],
   "source": []
  },
  {
   "cell_type": "code",
   "execution_count": null,
   "metadata": {
    "collapsed": true
   },
   "outputs": [],
   "source": []
  },
  {
   "cell_type": "code",
   "execution_count": 402,
   "metadata": {
    "collapsed": false
   },
   "outputs": [
    {
     "name": "stdout",
     "output_type": "stream",
     "text": [
      "0.0167964453036\n",
      "0.00183495783437\n",
      "0.00129880854574\n",
      "0.00218196962474\n",
      "0.29088185741\n",
      "0.595547970816\n",
      "0.00844216386317\n",
      "0.0591044768763\n",
      "0.0206644425979\n",
      "0.00324690712893\n"
     ]
    }
   ],
   "source": [
    "#crossvalidation\n",
    "gkf = GroupKFold(n_splits=34)\n",
    "gkf.split(X_Hypsiboas_test, \n",
    "          y_Hypsiboas, \n",
    "          groups_Hypsiboas)\n",
    "\n",
    "#LR on anural\n",
    "lr = LogisticRegressionCV(cv=list(gkf.split(X_Hypsiboas_test, \n",
    "                                            y_Hypsiboas, \n",
    "                                            groups_Hypsiboas)))\n",
    "\n",
    "\n",
    "lr.fit(X_Hypsiboas_test, y_Hypsiboas)\n",
    "\n",
    "predicted_Hypsiboas = lr.predict(X_Hypsiboas_test)\n",
    "\n",
    "for i in range(10):\n",
    "    print(lr.predict_proba(X_Hypsiboas_test)[:,i].mean())"
   ]
  },
  {
   "cell_type": "code",
   "execution_count": 406,
   "metadata": {
    "collapsed": false
   },
   "outputs": [],
   "source": [
    "index = list()\n",
    "for i in range(len(predicted_Hypsiboas)):\n",
    "    if predicted_Hypsiboas[i] == 'HypsiboasCinerascens':\n",
    "        index.append(i)"
   ]
  },
  {
   "cell_type": "code",
   "execution_count": 407,
   "metadata": {
    "collapsed": false
   },
   "outputs": [
    {
     "name": "stdout",
     "output_type": "stream",
     "text": [
      "0.00987302990911\n",
      "0.000213947669045\n",
      "0.00158085505218\n",
      "1.62992746966e-05\n",
      "0.877888293652\n",
      "0.0216545585863\n",
      "0.0102763861655\n",
      "0.071978344315\n",
      "0.00256617391142\n",
      "0.00395211146494\n"
     ]
    }
   ],
   "source": [
    "for i in range(10):\n",
    "    print(lr.predict_proba(X_Hypsiboas_test)[index,i].mean())"
   ]
  },
  {
   "cell_type": "code",
   "execution_count": 408,
   "metadata": {
    "collapsed": false
   },
   "outputs": [
    {
     "name": "stdout",
     "output_type": "stream",
     "text": [
      "-7.0992674044\n",
      "-14.9118572152\n",
      "-6.75925405742\n",
      "-18.2335652025\n",
      "1.85716296004\n",
      "-8.4622061603\n",
      "-4.88098982846\n",
      "-2.88795251673\n",
      "-14.4199414111\n",
      "-5.84122050729\n"
     ]
    }
   ],
   "source": [
    "for i in range(10):\n",
    "    print(lr.decision_function(X_Hypsiboas_test)[index,i].mean())"
   ]
  },
  {
   "cell_type": "code",
   "execution_count": null,
   "metadata": {
    "collapsed": true
   },
   "outputs": [],
   "source": []
  },
  {
   "cell_type": "code",
   "execution_count": 396,
   "metadata": {
    "collapsed": false
   },
   "outputs": [
    {
     "name": "stdout",
     "output_type": "stream",
     "text": [
      "['AdenomeraAndre' 'AdenomeraHylaedactylus' 'Ameeregatrivittata'\n",
      " 'HypsiboasCinerascens' 'HypsiboasCordobae' 'OsteocephalusOophagus'\n",
      " 'ScinaxRuber']\n",
      "12\n"
     ]
    }
   ],
   "source": [
    "#data prepare\n",
    "print(np.unique(X_Scinax[:,24]))\n",
    "X_Scinax_test = X_Scinax[:,:22]\n",
    "\n",
    "#group prepare\n",
    "print(np.unique(X_Scinax[:,25]).size)\n",
    "groups_Scinax = np.array(X_Scinax[:,25])"
   ]
  },
  {
   "cell_type": "code",
   "execution_count": 397,
   "metadata": {
    "collapsed": false
   },
   "outputs": [
    {
     "name": "stdout",
     "output_type": "stream",
     "text": [
      "0.0115899872506\n",
      "0.00686396535926\n",
      "0.0137279203961\n",
      "0.00686395517827\n",
      "0.00686396315625\n",
      "0.00686385125109\n",
      "0.947226357408\n"
     ]
    }
   ],
   "source": [
    "#crossvalidation\n",
    "gkf = GroupKFold(n_splits=12)\n",
    "gkf.split(X_Scinax_test, \n",
    "          y_Scinax, \n",
    "          groups_Scinax)\n",
    "\n",
    "#LR on anural\n",
    "lr = LogisticRegressionCV(cv=list(gkf.split(X_Scinax_test, \n",
    "                                            y_Scinax, \n",
    "                                            groups_Scinax)))\n",
    "\n",
    "\n",
    "lr.fit(X_Scinax_test, y_Scinax)\n",
    "\n",
    "predicted_Scinax = lr.predict(X_Scinax_test)\n",
    "\n",
    "for i in range(7):\n",
    "    print(lr.predict_proba(X_Scinax_test)[:,i].mean())"
   ]
  },
  {
   "cell_type": "code",
   "execution_count": 398,
   "metadata": {
    "collapsed": true
   },
   "outputs": [],
   "source": [
    "index = list()\n",
    "for i in range(len(predicted_Scinax)):\n",
    "    if predicted_Scinax[i] == 'ScinaxRuber':\n",
    "        index.append(i)"
   ]
  },
  {
   "cell_type": "code",
   "execution_count": 399,
   "metadata": {
    "collapsed": false
   },
   "outputs": [
    {
     "name": "stdout",
     "output_type": "stream",
     "text": [
      "0.00823421346626\n",
      "0.00688726996292\n",
      "0.0137745280511\n",
      "0.0068872586473\n",
      "0.00688726651052\n",
      "0.00688715399633\n",
      "0.950442309366\n"
     ]
    }
   ],
   "source": [
    "for i in range(7):\n",
    "    print(lr.predict_proba(X_Scinax_test)[index,i].mean())"
   ]
  },
  {
   "cell_type": "code",
   "execution_count": 400,
   "metadata": {
    "collapsed": false
   },
   "outputs": [
    {
     "name": "stdout",
     "output_type": "stream",
     "text": [
      "-9.14509636592\n",
      "-4.98360591065\n",
      "-4.28358711288\n",
      "-4.98360663099\n",
      "-4.98360643509\n",
      "-4.98362239073\n",
      "2.73002296704\n"
     ]
    }
   ],
   "source": [
    "for i in range(7):\n",
    "    print(lr.decision_function(X_Scinax_test)[index,i].mean())"
   ]
  },
  {
   "cell_type": "code",
   "execution_count": 388,
   "metadata": {
    "collapsed": false
   },
   "outputs": [
    {
     "name": "stdout",
     "output_type": "stream",
     "text": [
      "['AdenomeraAndre' 'AdenomeraHylaedactylus' 'Ameeregatrivittata'\n",
      " 'HylaMinuta' 'HypsiboasCinerascens' 'HypsiboasCordobae'\n",
      " 'LeptodactylusFuscus' 'OsteocephalusOophagus' 'Rhinellagranulosa'\n",
      " 'ScinaxRuber']\n",
      "42\n"
     ]
    }
   ],
   "source": [
    "#data prepare\n",
    "print(np.unique(X_Adenomera[:,24]))\n",
    "X_Adenomera_test = X_Adenomera[:,:22]\n",
    "\n",
    "#group prepare\n",
    "print(np.unique(X_Adenomera[:,25]).size)\n",
    "groups_Adenomera = np.array(X_Adenomera[:,25])"
   ]
  },
  {
   "cell_type": "code",
   "execution_count": 389,
   "metadata": {
    "collapsed": false
   },
   "outputs": [
    {
     "name": "stdout",
     "output_type": "stream",
     "text": [
      "0.143424832965\n",
      "0.815313880708\n",
      "0.00362232417081\n",
      "0.0227305802777\n",
      "0.00197566328961\n",
      "0.00733503186625\n",
      "0.00131707723045\n",
      "0.00263424926232\n",
      "0.0013171031904\n"
     ]
    }
   ],
   "source": [
    "#crossvalidation\n",
    "gkf = GroupKFold(n_splits=42)\n",
    "gkf.split(X_Adenomera_test, \n",
    "          y_Adenomera, \n",
    "          groups_Adenomera)\n",
    "\n",
    "#LR on anural\n",
    "lr = LogisticRegressionCV(cv=list(gkf.split(X_Adenomera_test, \n",
    "                                            y_Adenomera, \n",
    "                                            groups_Adenomera)))\n",
    "\n",
    "\n",
    "lr.fit(X_Adenomera_test, y_Adenomera)\n",
    "\n",
    "predicted_Adenomera = lr.predict(X_Adenomera_test)\n",
    "\n",
    "for i in range(9):\n",
    "    print(lr.predict_proba(X_Adenomera_test)[:,i].mean())"
   ]
  },
  {
   "cell_type": "code",
   "execution_count": 393,
   "metadata": {
    "collapsed": false
   },
   "outputs": [],
   "source": [
    "index = list()\n",
    "for i in range(len(predicted_Adenomera)):\n",
    "    if predicted_Adenomera[i] == 'AdenomeraHylaedactylus':\n",
    "        index.append(i)"
   ]
  },
  {
   "cell_type": "code",
   "execution_count": 394,
   "metadata": {
    "collapsed": false
   },
   "outputs": [
    {
     "name": "stdout",
     "output_type": "stream",
     "text": [
      "1.04834894736e-07\n",
      "0.972707062311\n",
      "0.00271914356332\n",
      "0.0170505090016\n",
      "0.00148318029916\n",
      "0.00183760488571\n",
      "0.000988816629385\n",
      "0.00197752552828\n",
      "0.000988831344609\n"
     ]
    }
   ],
   "source": [
    "for i in range(9):\n",
    "    print(lr.predict_proba(X_Adenomera_test)[index,i].mean())"
   ]
  },
  {
   "cell_type": "code",
   "execution_count": 395,
   "metadata": {
    "collapsed": false
   },
   "outputs": [
    {
     "name": "stdout",
     "output_type": "stream",
     "text": [
      "-36.4693424448\n",
      "9.6767440675\n",
      "-5.93596519282\n",
      "-4.08612101335\n",
      "-6.54328476045\n",
      "-7.78950291292\n",
      "-6.94920049475\n",
      "-6.255148468\n"
     ]
    }
   ],
   "source": [
    "for i in range(8):\n",
    "    print(lr.decision_function(X_Adenomera_test)[index,i].mean())"
   ]
  },
  {
   "cell_type": "code",
   "execution_count": null,
   "metadata": {
    "collapsed": false
   },
   "outputs": [],
   "source": []
  },
  {
   "cell_type": "code",
   "execution_count": null,
   "metadata": {
    "collapsed": true
   },
   "outputs": [],
   "source": []
  },
  {
   "cell_type": "code",
   "execution_count": null,
   "metadata": {
    "collapsed": false
   },
   "outputs": [],
   "source": []
  },
  {
   "cell_type": "code",
   "execution_count": null,
   "metadata": {
    "collapsed": false
   },
   "outputs": [],
   "source": []
  },
  {
   "cell_type": "code",
   "execution_count": null,
   "metadata": {
    "collapsed": true
   },
   "outputs": [],
   "source": []
  },
  {
   "cell_type": "code",
   "execution_count": null,
   "metadata": {
    "collapsed": true
   },
   "outputs": [],
   "source": []
  },
  {
   "cell_type": "code",
   "execution_count": null,
   "metadata": {
    "collapsed": true
   },
   "outputs": [],
   "source": []
  },
  {
   "cell_type": "code",
   "execution_count": 173,
   "metadata": {
    "collapsed": false
   },
   "outputs": [
    {
     "name": "stdout",
     "output_type": "stream",
     "text": [
      "['AdenomeraAndre' 'AdenomeraHylaedactylus' 'Ameeregatrivittata'\n",
      " 'HylaMinuta' 'HypsiboasCinerascens' 'HypsiboasCordobae'\n",
      " 'LeptodactylusFuscus' 'OsteocephalusOophagus' 'Rhinellagranulosa']\n",
      "12\n"
     ]
    }
   ],
   "source": [
    "#data prepare\n",
    "print(np.unique(X_Leptodactylus[:,24]))\n",
    "X_Leptodactylus_test = X_Leptodactylus[:,:22]\n",
    "\n",
    "#group prepare\n",
    "print(np.unique(X_Leptodactylus[:,25]).size)\n",
    "groups_Leptodactylus = np.array(X_Leptodactylus[:,25])"
   ]
  },
  {
   "cell_type": "code",
   "execution_count": 383,
   "metadata": {
    "collapsed": false
   },
   "outputs": [
    {
     "name": "stdout",
     "output_type": "stream",
     "text": [
      "0.00449739121708\n",
      "0.00449741905923\n",
      "0.00449726306393\n",
      "0.00899485146853\n",
      "0.00899478223901\n",
      "0.00449739182625\n",
      "0.950528702282\n",
      "0.00449739170189\n",
      "0.00899480714175\n"
     ]
    }
   ],
   "source": [
    "#crossvalidation\n",
    "gkf = GroupKFold(n_splits=12)\n",
    "gkf.split(X_Leptodactylus_test, \n",
    "          y_Leptodactylus, \n",
    "          groups_Leptodactylus)\n",
    "\n",
    "#LR on anural\n",
    "lr = LogisticRegressionCV(cv=list(gkf.split(X_Leptodactylus_test, \n",
    "                                            y_Leptodactylus, \n",
    "                                            groups_Leptodactylus)))\n",
    "\n",
    "\n",
    "lr.fit(X_Leptodactylus_test, y_Leptodactylus)\n",
    "\n",
    "predicted_Leptodactylus = lr.predict(X_Leptodactylus_test)\n",
    "\n",
    "for i in range(9):\n",
    "    print(lr.predict_proba(X_Leptodactylus_test)[:,i].mean())"
   ]
  },
  {
   "cell_type": "code",
   "execution_count": 384,
   "metadata": {
    "collapsed": false
   },
   "outputs": [
    {
     "data": {
      "text/plain": [
       "(235, 22)"
      ]
     },
     "execution_count": 384,
     "metadata": {},
     "output_type": "execute_result"
    }
   ],
   "source": [
    "X_Leptodactylus_test.shape"
   ]
  },
  {
   "cell_type": "code",
   "execution_count": 385,
   "metadata": {
    "collapsed": false
   },
   "outputs": [],
   "source": [
    "index = list()\n",
    "for i in range(len(predicted_Leptodactylus)):\n",
    "    if predicted_Leptodactylus[i] == 'LeptodactylusFuscus':\n",
    "        index.append(i)"
   ]
  },
  {
   "cell_type": "code",
   "execution_count": 386,
   "metadata": {
    "collapsed": false
   },
   "outputs": [
    {
     "name": "stdout",
     "output_type": "stream",
     "text": [
      "0.00449739121708\n",
      "0.00449741905923\n",
      "0.00449726306393\n",
      "0.00899485146853\n",
      "0.00899478223901\n",
      "0.00449739182625\n",
      "0.950528702282\n",
      "0.00449739170189\n",
      "0.00899480714175\n"
     ]
    }
   ],
   "source": [
    "for i in range(9):\n",
    "    print(lr.predict_proba(X_Leptodactylus_test)[index,i].mean())"
   ]
  },
  {
   "cell_type": "code",
   "execution_count": 387,
   "metadata": {
    "collapsed": false
   },
   "outputs": [
    {
     "name": "stdout",
     "output_type": "stream",
     "text": [
      "-5.4553208662\n",
      "-5.45532020239\n",
      "-5.45535343981\n",
      "-4.75789097209\n",
      "-4.75789062061\n",
      "-5.45532027625\n",
      "4.1724775024\n",
      "-5.45532073609\n",
      "-4.75788846191\n"
     ]
    }
   ],
   "source": [
    "for i in range(9):\n",
    "    print(lr.decision_function(X_Leptodactylus_test)[index,i].mean())"
   ]
  },
  {
   "cell_type": "code",
   "execution_count": null,
   "metadata": {
    "collapsed": true
   },
   "outputs": [],
   "source": []
  },
  {
   "cell_type": "code",
   "execution_count": 262,
   "metadata": {
    "collapsed": false
   },
   "outputs": [
    {
     "data": {
      "text/plain": [
       "(0, 0, 0, 0, 0, 0, 0, 0, 0, 0, 0)"
      ]
     },
     "execution_count": 262,
     "metadata": {},
     "output_type": "execute_result"
    }
   ],
   "source": [
    "#matrix on Genus level\n",
    "result_species = np.c_[y_Ameerega, predicted_Ameerega]\n",
    "\n",
    "AdenomeraAndre = 0\n",
    "AdenomeraHylaedactylus = 0\n",
    "Ameeregatrivittata = 0\n",
    "HylaMinuta = 0\n",
    "HypsiboasCinerascens = 0\n",
    "HypsiboasCordobae = 0\n",
    "LeptodactylusFuscus = 0\n",
    "OsteocephalusOophagus = 0\n",
    "Rhinellagranulosa = 0\n",
    "ScinaxRuber = 0\n",
    "total = 0\n",
    "\n",
    "for i in range(len(y_Ameerega)):\n",
    "    if result_species[:, 0][i] == 'ScinaxRuber':\n",
    "        total += 1\n",
    "        if result_species[:, 1][i] == 'AdenomeraAndre':\n",
    "            AdenomeraAndre += 1\n",
    "        if result_species[:, 1][i] == 'AdenomeraHylaedactylus':\n",
    "            AdenomeraHylaedactylus += 1\n",
    "        if result_species[:, 1][i] == 'Ameeregatrivittata':\n",
    "            Ameeregatrivittata += 1\n",
    "        if result_species[:, 1][i] == 'HylaMinuta':\n",
    "            HylaMinuta += 1\n",
    "        if result_species[:, 1][i] == 'HypsiboasCinerascens':\n",
    "            HypsiboasCinerascens += 1\n",
    "        if result_species[:, 1][i] == 'HypsiboasCordobae':\n",
    "            HypsiboasCordobae += 1\n",
    "        if result_species[:, 1][i] == 'LeptodactylusFuscus':\n",
    "            LeptodactylusFuscus += 1\n",
    "        if result_species[:, 1][i] == 'OsteocephalusOophagus':\n",
    "            OsteocephalusOophagus += 1\n",
    "        if result_species[:, 1][i] == 'Rhinellagranulosa':\n",
    "            Rhinellagranulosa += 1\n",
    "        if result_species[:, 1][i] == 'ScinaxRuber':\n",
    "            ScinaxRuber += 1\n",
    "\n",
    "AdenomeraAndre,AdenomeraHylaedactylus,Ameeregatrivittata,HylaMinuta,HypsiboasCinerascens,HypsiboasCordobae,LeptodactylusFuscus,OsteocephalusOophagus,Rhinellagranulosa,ScinaxRuber,total"
   ]
  },
  {
   "cell_type": "code",
   "execution_count": 271,
   "metadata": {
    "collapsed": false
   },
   "outputs": [
    {
     "data": {
      "text/plain": [
       "0.5882352941176471"
      ]
     },
     "execution_count": 271,
     "metadata": {},
     "output_type": "execute_result"
    }
   ],
   "source": []
  },
  {
   "cell_type": "code",
   "execution_count": null,
   "metadata": {
    "collapsed": true
   },
   "outputs": [],
   "source": []
  }
 ],
 "metadata": {
  "kernelspec": {
   "display_name": "Python 3",
   "language": "python",
   "name": "python3"
  },
  "language_info": {
   "codemirror_mode": {
    "name": "ipython",
    "version": 3
   },
   "file_extension": ".py",
   "mimetype": "text/x-python",
   "name": "python",
   "nbconvert_exporter": "python",
   "pygments_lexer": "ipython3",
   "version": "3.6.0"
  }
 },
 "nbformat": 4,
 "nbformat_minor": 2
}
